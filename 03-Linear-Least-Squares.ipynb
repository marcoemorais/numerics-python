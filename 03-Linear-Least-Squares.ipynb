{
 "cells": [
  {
   "cell_type": "markdown",
   "metadata": {},
   "source": [
    "# Linear Least Squares"
   ]
  },
  {
   "cell_type": "markdown",
   "metadata": {},
   "source": [
    "## 03.01 Linear Least Squares"
   ]
  },
  {
   "cell_type": "markdown",
   "metadata": {},
   "source": [
    "#### Problem: Measurements Have Error\n",
    "* Measurement errors are inevitable\n",
    "* Variability can be smoothed out by averaging over more data\n",
    "* Resulting system is **overdetermined**\n",
    "  * More equations (rows) than unknowns (columns)\n",
    "\n",
    "#### Solution: Use Least Squares\n",
    "* Project higher dimensional data into lower dimensional space\n",
    "* Suppresses noise and irrelevant detail\n",
    "* Better written as $Ax \\approxeq b$\n",
    "  * Emphasis that $x$ is not exact solution\n",
    "* Solution minimizes squared 2-norm of residual\n",
    "  * $\\min_x ||r||_2^2 = \\min_x || b - Ax ||_2^2$\n",
    "\n",
    "\n",
    "What does *linear* mean?\n",
    "* If $f(t, x)$ is the function represented by $Ax = b$, then coefficients of $A$ are some power of $t$.\n",
    "$$\n",
    "f(t, x) = x_1 + x_2 t + x_3 t^2 + ... + x_n t^{n-1}\n",
    "$$\n",
    "* Non-linear counterexample.\n",
    "$$\n",
    "f(t, x) = x_1 + x_2 e^{t} + x_3 e^{t^2} + ... + x_n e^{t^{n-1}}\n",
    "$$\n"
   ]
  },
  {
   "cell_type": "markdown",
   "metadata": {},
   "source": [
    "Given $m$ data points $(t_i, y_i)$ find n-vector $x$ of parameters that gives best fit to model function $f(t, x)$."
   ]
  },
  {
   "cell_type": "code",
   "execution_count": 1,
   "metadata": {},
   "outputs": [],
   "source": [
    "import numpy as np\n",
    "\n",
    "# Input data $(t_i, y_i)$.\n",
    "m = 5\n",
    "t = np.linspace(-1., 1., m)\n",
    "y = np.array([1., 0.5, 0., 0.5, 2.]).reshape(m, 1)\n",
    "\n",
    "# Solve Ax = y for x.\n",
    "A = np.column_stack((np.ones(m), t, t*t))\n",
    "x, r, _, _ = np.linalg.lstsq(A, y, rcond=None)\n",
    "\n",
    "# Compute the squared 2-norm of the residual.\n",
    "resid = y - np.matmul(A, x)\n",
    "sq2norm = np.linalg.norm(resid, ord=2)**2\n",
    "\n",
    "# Compare to the residual returned from np.linalg.lstsq.\n",
    "np.testing.assert_almost_equal(sq2norm, r)"
   ]
  },
  {
   "cell_type": "markdown",
   "metadata": {},
   "source": [
    "Plot the observations against the fit."
   ]
  },
  {
   "cell_type": "code",
   "execution_count": 2,
   "metadata": {},
   "outputs": [
    {
     "data": {
      "image/png": "[encoded data removed]",
      "text/plain": [
       "<Figure size 432x288 with 1 Axes>"
      ]
     },
     "metadata": {
      "needs_background": "light"
     },
     "output_type": "display_data"
    }
   ],
   "source": [
    "import matplotlib.pyplot as plt\n",
    "\n",
    "%matplotlib inline\n",
    "\n",
    "# Fit the model to a dense 1D-grid of points from [-1, 1].\n",
    "fitn = m*20\n",
    "fitx = np.linspace(-1, 1, fitn)\n",
    "fitA = np.column_stack((np.ones(fitn), fitx, fitx*fitx))\n",
    "fity = np.matmul(fitA, x)\n",
    "\n",
    "# Plot the fitted model against observations.\n",
    "plt.scatter(t, y, s=16, c='dodgerblue', label='observations')\n",
    "plt.plot(fitx, fity, c='red', label='fit')\n",
    "plt.title('Observations vs. Fit')\n",
    "plt.ylabel('y')\n",
    "plt.xlabel('t')\n",
    "plt.legend(loc=0)  # Upper left corner.\n",
    "plt.show()"
   ]
  },
  {
   "cell_type": "markdown",
   "metadata": {},
   "source": [
    "## 03.02 Existence, Uniqueness, and Conditioning"
   ]
  },
  {
   "cell_type": "markdown",
   "metadata": {},
   "source": [
    "* Linear least squares problem $Ax \\approxeq b$ **always** has solution.\n",
    "* Solution unique IFF columns are linearly independent aka $\\text{rank}(A) = n$ where $A$ is $m \\times n$.\n",
    "\n",
    "#### Derivation\n",
    "* To minimize the squared 2-norm of residual we need to find the derivative and set to 0.\n",
    "$$\n",
    "\\begin{aligned}\n",
    "||r||_2^2 &= r^T r \\\\\n",
    "&= (b - Ax)^T (b - Ax) \\\\\n",
    "&= b^T b - 2 x^T A^T b + x^T A^T A x \\\\\n",
    "\\end{aligned}\n",
    "$$\n",
    "\n",
    "* The gradient of $||r||_2^2$ set equal to 0 is aka **normal equations**.\n",
    "$$\n",
    "\\begin{aligned}\n",
    "\\nabla(||r||_2^2) &= 0 \\\\\n",
    "2 A^T A x - 2 A^T b &= 0 \\\\\n",
    "A^T A x &= A^T b \n",
    "\\end{aligned}\n",
    "$$\n",
    "\n",
    "* Since $A^TA$ is square, we can use the techniques for solving systems of linear equations to solve linear least squares problems.\n",
    "\n",
    "#### Orthogonality\n",
    "* $v_1$ and $v_2$ are othogonal when $v_1^T v_2 = 0$.\n",
    "* Value of $y = Ax$ closest to solution $b$ occurs when residual $r = b - Ax$ is orthogonal to $\\text{span}(A)$.\n",
    "  * Project higher dimensional data $b$ ($m \\times 1$) into lower dimensional space $\\text{span}(A)$ (space spanned by columns $n$).\n",
    "* Angle between $y = Ax$ and $b$ computed as:\n",
    "  * $\\text{cos}(\\theta) = \\frac{||y||_2}{||b||_2}$\n",
    "\n",
    "\n",
    "#### Orthogonal Projectors\n",
    "* $P$ is an orthgonal projector when:\n",
    "  * $P^2 = P$ aka idempotent\n",
    "  * $P^T = P$ aka symmetric\n",
    "* We can decompose any vector $v$ into 2 components:\n",
    "  * Component in $\\text{span}(P)$\n",
    "  * Component in $\\text{span}(P)^{\\perp}$ aka orthogonal to $P$\n",
    "* For least squares $P$ is an orthogonal projector onto $\\text{span}(A)$.\n",
    "  * $P = A (A^T A)^{-1} A^T$\n",
    "\n",
    "#### Pseudoinverse\n",
    "* If $A$ is $m \\times n$ and $\\text{rank}(A) = n$, then pseudoinverse is defined as the inverse of the product of the matrix and its' transpose.\n",
    "  * $A^{+} = (A^T A)^{-1} A^T$\n",
    "* Condition number of $A$ defined using pseudoinverse:\n",
    "  * $\\text{cond}(A) = ||A||_2 \\cdot ||A^{+}||_2$\n",
    "* The angle between $y = Ax$ and $b$ also bounds the relative error:\n",
    "  * $\\frac{||\\Delta{x}||}{||x||} \\leq \\text{cond}(A) \\frac{1}{\\text{cos}(\\theta)} \\frac{||\\Delta{b}||}{||b||}$\n",
    "  * When the angle $\\theta$ is small, then $\\theta \\approxeq 0$ and value of $\\text{cos}(\\theta) \\approxeq 1$.  As a result, relative error will be small.\n",
    "  * When the angle $\\theta$ is big, then relative error will be large."
   ]
  },
  {
   "cell_type": "markdown",
   "metadata": {},
   "source": [
    "## 03.03 Solving Linear Least Squares Problems"
   ]
  },
  {
   "cell_type": "markdown",
   "metadata": {},
   "source": [
    "#### Normal Equations Method\n",
    "* If $A$ has rank $n$ then symmetric matrix $A^TA$ is positive definite.\n",
    "* Use cholesky factorization solve $Ax = b$ for $x$.\n",
    "  1. Premultiply both sides by $A^T$ to obtain $A^T A x = A^T b$.\n",
    "  2. Factorize $A^T A$ into $L L^T$ to obtain $L L^T x = A^T b$.\n",
    "  3. Solve $L z = A^Tb$ for $z$ using forward substitution.\n",
    "  4. Solve $L^T x = z$ for $x$ using back substitution.\n",
    "* This technique has problems in finite precision arithmetic.\n",
    "  * Computing $A^TA$ introduces roundoff.\n",
    "  * Sensitivity of solution is worsened.\n",
    "    * $\\text{cond}(A^T A) = [\\text{cond}(A)]^2$\n",
    "  * Normal equations method is **unstable** due to these introduced computational errors."
   ]
  },
  {
   "cell_type": "markdown",
   "metadata": {},
   "source": [
    "Solve $Ax = b$ for $x$ where $A$ is $m \\times n$ using cholesky factorization."
   ]
  },
  {
   "cell_type": "code",
   "execution_count": 3,
   "metadata": {},
   "outputs": [],
   "source": [
    "import math\n",
    "import numpy as np\n",
    "import scipy.linalg as la\n",
    "\n",
    "# Input data $(t_i, b_i)$.\n",
    "m = 5\n",
    "t = np.linspace(-1., 1., m)\n",
    "b = np.array([1., 0.5, 0., 0.5, 2.]).reshape(m, 1)\n",
    "A = np.column_stack((np.ones(m), t, t*t))\n",
    "\n",
    "# Premultiply the left and right hand side by A^T.\n",
    "ATA = np.matmul(A.T, A)\n",
    "ATb = np.matmul(A.T, b)\n",
    "\n",
    "# Factorize A^T A into L L^T.\n",
    "LLT = np.linalg.cholesky(ATA)\n",
    "\n",
    "# Solve Lz = A^Tb for z using forward substitution.\n",
    "z = la.solve_triangular(LLT, ATb, lower=True, unit_diagonal=False)\n",
    "\n",
    "# Solve L^Tx = z for x using back substitution.\n",
    "x = la.solve_triangular(LLT.T, z, lower=False, unit_diagonal=False)\n",
    "\n",
    "# Compute the squared 2-norm of the residual.\n",
    "resid = y - np.matmul(A, x)\n",
    "sq2norm = np.linalg.norm(resid, ord=2)**2\n",
    "\n",
    "# Compare to the residual returned from np.linalg.lstsq.\n",
    "_, r, _, _ = np.linalg.lstsq(A, b, rcond=None)\n",
    "np.testing.assert_almost_equal(sq2norm, r)"
   ]
  },
  {
   "cell_type": "markdown",
   "metadata": {},
   "source": [
    "## 03.04 Orthogonalization Methods"
   ]
  },
  {
   "cell_type": "markdown",
   "metadata": {},
   "source": [
    "* Matrix $Q$ is orthogonal if $Q^T Q = I$.\n",
    "* Columns of orthogonal matrix are orthonormal eg orthogonal unit vectors.\n",
    "* Multiplying vector by orthogonal matrix does not change its' 2-norm.\n",
    "  * $||Qv||_2^2 = ||v||_2^2$\n",
    "* Use orthogonalization method to solve $Ax = b$ for $x$.\n",
    "  * More computationally expensive than elimination.\n",
    "  * More numerically stable than normal equations method.\n",
    "  \n",
    "#### QR Factorization\n",
    "Given $m \\times n$ matrix $A$ find an $m \\times m$ matrix $Q$.\n",
    "$$\n",
    "A = Q\n",
    "\\begin{bmatrix}\n",
    "R \\\\\n",
    "0\n",
    "\\end{bmatrix}\n",
    "$$\n",
    "where\n",
    "  * Q is an $m \\times m$ orthogonal matrix\n",
    "  * R is an $n \\times n$ upper triangular matrix\n",
    "  * 0 is an $(m-n) \\times n$ zero matrix\n",
    "\n",
    "To compute QR factorization of $A$ use one of orthogonal transformations below.\n",
    "  * Householder transformations\n",
    "  * Givens rotations\n",
    "  * Gram-Schmidt orthogonalization"
   ]
  },
  {
   "cell_type": "markdown",
   "metadata": {},
   "source": [
    "Solve $Ax = b$ for $x$ where $A$ is $m \\times n$ using QR factorization via scipy."
   ]
  },
  {
   "cell_type": "code",
   "execution_count": 4,
   "metadata": {},
   "outputs": [],
   "source": [
    "import numpy as np\n",
    "import scipy.linalg as la\n",
    "\n",
    "# Input data $(t_i, b_i)$.\n",
    "m = 5\n",
    "t = np.linspace(-1., 1., m)\n",
    "b = np.array([1., 0.5, 0., 0.5, 2.]).reshape(m, 1)\n",
    "A = np.column_stack((np.ones(m), t, t*t))\n",
    "n = A.shape[1]\n",
    "\n",
    "# Factorize A into QR.\n",
    "Q, R = np.linalg.qr(A)\n",
    "\n",
    "# Apply the same transformations to b.\n",
    "c = np.matmul(Q.T, b)\n",
    "\n",
    "# Solve Rx = c for x by back substitution.\n",
    "# NOTE(mmorais): Both R and c must be square.\n",
    "x = la.solve_triangular(R[:n,:], c[:n], lower=False, unit_diagonal=False)\n",
    "\n",
    "# Compute the squared 2-norm of the residual.\n",
    "resid = y - np.matmul(A, x)\n",
    "sq2norm = np.linalg.norm(resid, ord=2)**2\n",
    "\n",
    "# Compare to the residual returned from np.linalg.lstsq.\n",
    "_, r, _, _ = np.linalg.lstsq(A, b, rcond=None)\n",
    "np.testing.assert_almost_equal(sq2norm, r)"
   ]
  },
  {
   "cell_type": "markdown",
   "metadata": {},
   "source": [
    "## 03.05 Householder QR Factorization"
   ]
  },
  {
   "cell_type": "markdown",
   "metadata": {},
   "source": [
    "A Householder reflection (or Householder transformation) is a transformation that takes a vector and reflects it about some plane or hyperplane.\n",
    "  * In the context of linear least squares, the reflection is used to project the vector b into the span(A).\n",
    "\n",
    "Householder transformation of the vector $v$\n",
    "$$\n",
    "H = I - 2 \\frac{v v^T}{v^T v}\n",
    "$$\n",
    "where\n",
    "* H is orthogonal ($H^T H = I$) and symmetric ($H^T = H$)\n",
    "\n",
    "Given some vector $a$ choose $v$ as:\n",
    "$$\n",
    "v = a - \\alpha e_1\n",
    "$$\n",
    "where\n",
    "* $\\alpha = \\pm ||a||_2$ with sign chosen to avoid cancellation\n",
    "* $e_1$ is the standard basis vector of the form $[1 \\quad 0 \\cdots 0]^T$\n",
    "\n",
    "The householder transform of the vector $a$ is $Ha$ computed as:\n",
    "$$\n",
    "Ha = a - 2 \\frac{v^T a}{v^T v} v\n",
    "$$\n",
    "\n",
    "The householder transform of the vector $a$ will zero out all but 1 element."
   ]
  },
  {
   "cell_type": "markdown",
   "metadata": {},
   "source": [
    "Perform a Householder transformation on vector a."
   ]
  },
  {
   "cell_type": "code",
   "execution_count": 5,
   "metadata": {},
   "outputs": [],
   "source": [
    "import numpy as np\n",
    "\n",
    "a = np.array([2., 1., 2.]).reshape(3, 1)\n",
    "\n",
    "# Compute v = a - \\alpha e_1.\n",
    "alpha = np.linalg.norm(a, ord=2)\n",
    "alpha = -1. * alpha if np.sign(alpha) == 1 else alpha\n",
    "e_1 = np.zeros((a.size, 1))\n",
    "e_1[0] = 1.\n",
    "v = a - alpha * e_1\n",
    "\n",
    "# Compute H = I - 2 ((vv^T) / (v^Tv)).\n",
    "H = np.eye(a.size) - 2. * (np.dot(v, v.T)/np.dot(v.T, v))\n",
    "\n",
    "# Confirm that H is orthogonal.\n",
    "np.testing.assert_almost_equal(np.matmul(H.T, H), np.eye(a.size))\n",
    "\n",
    "# Confirm that H is symmetric.\n",
    "np.testing.assert_almost_equal(H.T, H)\n",
    "\n",
    "# Compute householder transform Ha and compare to explict Ha.\n",
    "Ha = a - 2. * (np.dot(v.T, a)/np.dot(v.T, v)) * v\n",
    "np.testing.assert_almost_equal(Ha, np.matmul(H, a))"
   ]
  },
  {
   "cell_type": "markdown",
   "metadata": {},
   "source": [
    "#### Linear Least Squares Using Householder QR Factorization\n",
    "1. Use Householder transforms to annihilate subdiagonal entries of each successive column.\n",
    "$$\n",
    "H_n \\cdots H_1 A = Q^T A =\n",
    "\\begin{bmatrix}\n",
    "R \\\\\n",
    "0\n",
    "\\end{bmatrix}\n",
    "$$\n",
    "  * Use the formula for $Ha$ to compute the *ith* transform rather than matrix multiplication.\n",
    "  * Note that $H_n \\cdots H_1 = Q^T$.\n",
    "  * Note that factorization of $A = QR$ (no transpose) where $H_1 \\cdots H_n = Q$.\n",
    "2. Apply the same set of transformations to right hand side $b$.\n",
    "$$\n",
    "H_n \\cdots H_1 b = Q^T b\n",
    "$$\n",
    "3. Solve for $x$ using backsubstitution.\n",
    "$$\n",
    "\\begin{bmatrix}\n",
    "R \\\\\n",
    "0\n",
    "\\end{bmatrix}\n",
    "x \\approxeq Q^T b\n",
    "$$"
   ]
  },
  {
   "cell_type": "markdown",
   "metadata": {},
   "source": [
    "Solve $Ax = b$ for $x$ where $A$ is $m \\times n$ using householder QR factorization."
   ]
  },
  {
   "cell_type": "code",
   "execution_count": 6,
   "metadata": {},
   "outputs": [],
   "source": [
    "import numpy as np\n",
    "import scipy.linalg as la\n",
    "\n",
    "def householder_qr(A):\n",
    "    \"\"\"\n",
    "    Use householder transformations to factorize A into QR.\n",
    "    \n",
    "    Q is formed from householder transforms H_1 ... H_n I,\n",
    "    but inner loop computes Q^T = H_n ... H_1 I.  \n",
    "    \n",
    "    Since Q is orthogonal Q^T Q = I, return the transpose of \n",
    "    what is computed from the loop to provide H_1 ... H_n I.\n",
    "\n",
    "    Returns orthogonal matrix Q and upper right triangular matrix R.\n",
    "    \"\"\"\n",
    "    m, n = A.shape\n",
    "    Q, R = np.eye(m), np.copy(A)\n",
    "    for k in range(n):  # Columns.\n",
    "        alpha_k = -1. * np.sign(R[k,k]) * np.linalg.norm(R[k:,k])\n",
    "        e_k = np.zeros((m, 1))\n",
    "        e_k[k] = 1.\n",
    "        a_k = np.concatenate((e_k[:k], R[k:,k,np.newaxis]))\n",
    "        v_k = a_k - alpha_k * e_k\n",
    "        beta_k = np.dot(v_k.T, v_k)\n",
    "        Q -= 2.*(np.dot(v_k.T, Q)/beta_k) * v_k\n",
    "        if abs(beta_k) < np.finfo('d').eps:\n",
    "            continue\n",
    "        for j in range(k, n):  # Columns.\n",
    "            gamma_j = np.dot(v_k.T, R[:,j])\n",
    "            R[:,j,np.newaxis] -= (2.*gamma_j/beta_k) * v_k\n",
    "    # Q^T reverses order of transforms as described by docstring.\n",
    "    return Q.T[:,:n], R[:n,:]\n",
    "\n",
    "\n",
    "# Input data $(t_i, b_i)$.\n",
    "m = 5\n",
    "t = np.linspace(-1., 1., m)\n",
    "b = np.array([1., 0.5, 0., 0.5, 2.]).reshape(m, 1)\n",
    "A = np.column_stack((np.ones(m), t, t*t))\n",
    "n = A.shape[1]\n",
    "\n",
    "# Factorize A into QR.\n",
    "Q, R = householder_qr(A)\n",
    "np.testing.assert_almost_equal(A, np.matmul(Q, R))  # Self-check.\n",
    "\n",
    "# Apply the householder transformation to b.\n",
    "c = np.matmul(Q.T, b)\n",
    "\n",
    "# Solve Rx = c for x by back substitution.\n",
    "# NOTE(mmorais): Both R and c must be square.\n",
    "x = la.solve_triangular(R, c[:n], lower=False, unit_diagonal=False)\n",
    " \n",
    "# Compute the squared 2-norm of the residual.\n",
    "resid = y - np.matmul(A, x)\n",
    "sq2norm = np.linalg.norm(resid, ord=2)**2\n",
    "\n",
    "# Compare to the residual returned from np.linalg.lstsq.\n",
    "_, r, _, _ = np.linalg.lstsq(A, b, rcond=None)\n",
    "np.testing.assert_almost_equal(sq2norm, r)"
   ]
  },
  {
   "cell_type": "markdown",
   "metadata": {},
   "source": [
    "## 03.06 Givens QR Factorization"
   ]
  },
  {
   "cell_type": "markdown",
   "metadata": {},
   "source": [
    "Each Givens rotation zeroes an element in the subdiagonal of the matrix, forming the R matrix. The concatenation of all the Givens rotations forms the orthogonal Q matrix.\n",
    "\n",
    "Givens rotations are expensive to compute, but unlike the householder transformations they can be parallelized.\n",
    "\n",
    "Givens QR factorization is less frequently used than householder transformations."
   ]
  },
  {
   "cell_type": "markdown",
   "metadata": {},
   "source": [
    "## 03.07 Gram-Schmidt QR Factorization"
   ]
  },
  {
   "cell_type": "markdown",
   "metadata": {},
   "source": [
    "#### Gram-Schmidt Orthogonalization\n",
    "Given vectors $a_1$ and $a_2$ seek orthonormal vectors $q_1$ and $q_2$ having the same span.\n",
    "1. Normalize $a_1$ to obtain $q_1 = a_1 / ||a_1||_2$\n",
    "2. Project $a_2$ onto $q_1$ via $q_2 = a_2 - (q_1^T a_2) q_1$\n",
    "\n",
    "Implementations\n",
    "1. Classical Gram-Schmidt\n",
    "  * Orthonormalizes column-by-column\n",
    "  * Subtracts current $q_k$ from components in preceding columns\n",
    "  * Requires separate storage for $Q$ and $R$\n",
    "2. Modified Gram-Schmidt\n",
    "  * Orthonormalizes column-by-column\n",
    "  * Subtracts current $q_k$ from components in succeeding columns\n",
    "    * $R$ is built up row-by-row\n",
    "    * More numerically stable than Classical Gram-Schmidt\n",
    "  * $A$ can be modified in place to obtain $R$"
   ]
  },
  {
   "cell_type": "markdown",
   "metadata": {},
   "source": [
    "Solve $Ax = b$ for $x$ where $A$ is $m \\times n$ using classical Gram-Schmidt QR factorization."
   ]
  },
  {
   "cell_type": "code",
   "execution_count": 7,
   "metadata": {},
   "outputs": [],
   "source": [
    "import numpy as np\n",
    "import scipy.linalg as la\n",
    "\n",
    "def cgs_qr(A):\n",
    "    \"\"\"\n",
    "    Use classical Gram-Schmidt to factorize A into QR.\n",
    "\n",
    "    Returns orthogonal matrix Q and upper right triangular matrix R.\n",
    "    \"\"\"\n",
    "    m, n = A.shape\n",
    "    Q, R = np.eye(m), np.zeros((m, n))\n",
    "    for k in range(n):  # Columns.\n",
    "        Q[:,k] = A[:,k]\n",
    "        # Subtract from current column its' components in preceding.\n",
    "        for j in range(k):  # Columns.\n",
    "            R[j,k] = np.dot(Q[:,j], A[:,k])\n",
    "            Q[:,k] -= R[j,k] * Q[:,j]\n",
    "        R[k,k] = np.linalg.norm(Q[:,k])\n",
    "        if abs(R[k,k]) < np.finfo('d').eps:\n",
    "            break  # Linearly depdendent.\n",
    "        Q[:,k] /= R[k,k]  # Normalize.\n",
    "    return Q[:,:n], R[:n,:]\n",
    "\n",
    "\n",
    "# Input data $(t_i, b_i)$.\n",
    "m = 5\n",
    "t = np.linspace(-1., 1., m)\n",
    "b = np.array([1., 0.5, 0., 0.5, 2.]).reshape(m, 1)\n",
    "A = np.column_stack((np.ones(m), t, t*t))\n",
    "n = A.shape[1]\n",
    "\n",
    "# Factorize A into QR.\n",
    "Q, R = cgs_qr(A)\n",
    "np.testing.assert_almost_equal(A, np.matmul(Q, R))  # Self-check.\n",
    "\n",
    "# Apply the Gram-Schmidt transformation to b.\n",
    "c = np.matmul(Q.T, b)\n",
    "\n",
    "# Solve Rx = c for x by back substitution.\n",
    "# NOTE(mmorais): Both R and c must be square.\n",
    "x = la.solve_triangular(R, c[:n], lower=False, unit_diagonal=False)\n",
    "\n",
    "# Compute the squared 2-norm of the residual.\n",
    "resid = y - np.matmul(A, x)\n",
    "sq2norm = np.linalg.norm(resid, ord=2)**2\n",
    "\n",
    "# Compare to the residual returned from np.linalg.lstsq.\n",
    "_, r, _, _ = np.linalg.lstsq(A, b, rcond=None)\n",
    "np.testing.assert_almost_equal(sq2norm, r)"
   ]
  },
  {
   "cell_type": "markdown",
   "metadata": {},
   "source": [
    "Solve $Ax = b$ for $x$ where $A$ is $m \\times n$ using modified Gram-Schmidt QR factorization."
   ]
  },
  {
   "cell_type": "code",
   "execution_count": 8,
   "metadata": {},
   "outputs": [],
   "source": [
    "import numpy as np\n",
    "import scipy.linalg as la\n",
    "\n",
    "def mgs_qr(A):\n",
    "    \"\"\"\n",
    "    Use modified Gram-Schmidt to factorize A into QR.\n",
    "\n",
    "    Returns orthogonal matrix Q and upper right triangular matrix R.\n",
    "    \"\"\"\n",
    "    m, n = A.shape\n",
    "    Q, R, AA = np.eye(m), np.zeros((m, n)), np.copy(A)\n",
    "    for k in range(n):  # Columns.\n",
    "        R[k,k] = np.linalg.norm(AA[:,k])\n",
    "        if abs(R[k,k]) < np.finfo('d').eps:\n",
    "            break  # Linearly depdendent.\n",
    "        Q[:,k] = AA[:,k] / R[k,k]  # Normalize.\n",
    "        # Subtract from succeeding columns the components in current.\n",
    "        for j in range(k+1,n): # Columns.\n",
    "            R[k,j] = np.dot(Q[:,k], AA[:,j])\n",
    "            AA[:,j] -= R[k,j] * Q[:,k]\n",
    "    return Q[:,:n], R[:n,:]\n",
    "\n",
    "\n",
    "# Input data $(t_i, b_i)$.\n",
    "m = 5\n",
    "t = np.linspace(-1., 1., m)\n",
    "b = np.array([1., 0.5, 0., 0.5, 2.]).reshape(m, 1)\n",
    "A = np.column_stack((np.ones(m), t, t*t))\n",
    "n = A.shape[1]\n",
    "\n",
    "# Factorize A into QR.\n",
    "Q, R = mgs_qr(A)\n",
    "np.testing.assert_almost_equal(A, np.matmul(Q, R))  # Self-check.\n",
    "\n",
    "# Apply the Gram-Schmidt transformation to b.\n",
    "c = np.matmul(Q.T, b)\n",
    "\n",
    "# Solve Rx = c for x by back substitution.\n",
    "# NOTE(mmorais): Both R and c must be square.\n",
    "x = la.solve_triangular(R, c[:n], lower=False, unit_diagonal=False)\n",
    "\n",
    "# Compute the squared 2-norm of the residual.\n",
    "resid = y - np.matmul(A, x)\n",
    "sq2norm = np.linalg.norm(resid, ord=2)**2\n",
    "\n",
    "# Compare to the residual returned from np.linalg.lstsq.\n",
    "_, r, _, _ = np.linalg.lstsq(A, b, rcond=None)\n",
    "np.testing.assert_almost_equal(sq2norm, r)"
   ]
  },
  {
   "cell_type": "markdown",
   "metadata": {},
   "source": [
    "## 03.08 Rank Deficiency"
   ]
  },
  {
   "cell_type": "markdown",
   "metadata": {},
   "source": [
    "If rank(A) < n, then QR factorization exists, but yields singular upper triangular factor R.\n",
    "\n",
    "#### QR with Column Pivoting\n",
    "Instead of processing columns in natural order, select for reduction at each stage column of remaining unreduced submatrix having maximum Euclidean norm.\n"
   ]
  },
  {
   "cell_type": "markdown",
   "metadata": {},
   "source": [
    "## 03.09 Singular Value Decomposition"
   ]
  },
  {
   "cell_type": "markdown",
   "metadata": {},
   "source": [
    "The SVD of a $m \\times n$ matrix $A$ is given by:\n",
    "$$\n",
    "A = U \\Sigma V^T\n",
    "$$\n",
    "where\n",
    "* $U$ is an $m \\times m$ orthogonal matrix\n",
    "  * Columns of $U$ referred to as **left singular vectors**\n",
    "* $\\Sigma$ is an $m \\times n$ diagonal matrix\n",
    "  * Diagonal entries $\\sigma_i$ referred to as **singular values** of $A$\n",
    "  * Typically decreasing order $\\sigma_1 \\geq \\sigma_2 \\geq \\sigma_3 \\cdots \\sigma_n$\n",
    "* $V$ is an $n \\times n$ orthogonal matrix\n",
    "  * Columns of $V$ referred to as **right singular vectors**\n",
    "\n",
    "#### Applications\n",
    "* Minimum norm solution to $Ax \\approxeq b$\n",
    "$$\n",
    "x = \\sum_{\\sigma_i \\neq 0} \\frac{u_i^T b}{\\sigma_i} b\n",
    "$$\n",
    "* Euclidean matrix norm\n",
    "$$\n",
    "||A||_2 = \\sigma_{\\text{max}}\n",
    "$$\n",
    "* Euclidean condition number\n",
    "$$\n",
    "\\text{cond}_2(A) = \\frac{\\sigma_{\\text{max}}}{\\sigma_{\\text{min}}}\n",
    "$$\n",
    "* Rank of matrix = number of nonzero singular values\n",
    "\n",
    "#### Pseudoinverse\n",
    "The pseudoinverse $A^+$ of a $m \\times n$ matrix $A$ is given by:\n",
    "$$\n",
    "A^+ = V \\Sigma^+ U^T\n",
    "$$\n",
    "where\n",
    "* $\\Sigma^+$ is a diagonal matrix with reciprocal and transpose of singular values.\n",
    "* $A^+$ always exists, even when matrix is not full rank.\n",
    "* If $A$ is square and nonsingular, then $A^+ = A^{-1}$\n",
    "* Minimum norm solution to $Ax \\approxeq b$ given by $x = A^+ b$"
   ]
  },
  {
   "cell_type": "markdown",
   "metadata": {},
   "source": [
    "#### Total Least Squares\n",
    "Ordinary least squares (OLS) is applicable when $b$ is subject to random error but $A$ is known accurately.\n",
    "\n",
    "Total least squares (TLS) is applicable when $b$ and $A$ are subject to random error.\n",
    "* Unlike OLS, we minimize orthogonal distances rather than vertical distances.\n",
    "* TLS is computed from SVD of $[A | b]$."
   ]
  },
  {
   "cell_type": "markdown",
   "metadata": {},
   "source": [
    "Decompose A into $U$, $\\Sigma$, and $V$ using numpy."
   ]
  },
  {
   "cell_type": "code",
   "execution_count": 9,
   "metadata": {},
   "outputs": [
    {
     "name": "stdout",
     "output_type": "stream",
     "text": [
      "shapes U: (4, 4)  S: (3,)  V^T: (3, 3)\n"
     ]
    }
   ],
   "source": [
    "import numpy as np\n",
    "\n",
    "A = np.arange(1, 13).reshape(4,3)\n",
    "\n",
    "# Factorize A into SVD.\n",
    "U, Sigma, VT = np.linalg.svd(A)\n",
    "print(\"shapes U:\", U.shape, \" S:\", Sigma.shape, \" V^T:\", VT.shape)\n",
    "\n",
    "# Reconstruct A from factorization.\n",
    "np.testing.assert_almost_equal(A, \n",
    "    np.matmul(U[:,:Sigma.shape[0]] * Sigma, VT))\n",
    "\n",
    "# Compare sigma_max to Euclidean norm.\n",
    "np.testing.assert_almost_equal(np.linalg.norm(A, ord=2), np.max(Sigma))\n",
    "\n",
    "# Compare sigma_max / sigma_min to Euclidean condition number.\n",
    "np.testing.assert_allclose(np.linalg.cond(A, p=2), \n",
    "                           np.max(Sigma)/np.min(Sigma))\n",
    "\n",
    "# Compare number of nonsingular values to rank.\n",
    "# NOTE: Comparing against eps insufficient, need larger tolerance.\n",
    "np.testing.assert_equal(np.linalg.matrix_rank(A), \n",
    "                        np.where(Sigma > 1e-14)[0].size)"
   ]
  },
  {
   "cell_type": "markdown",
   "metadata": {},
   "source": [
    "Solve $Ax = b$ for $x$ where $A$ is $m \\times n$ using SVD factorization."
   ]
  },
  {
   "cell_type": "code",
   "execution_count": 10,
   "metadata": {},
   "outputs": [
    {
     "name": "stdout",
     "output_type": "stream",
     "text": [
      "shapes U: (5, 5)  S: (3,)  V^T: (3, 3)\n"
     ]
    }
   ],
   "source": [
    "import numpy as np\n",
    "\n",
    "# Input data $(t_i, b_i)$.\n",
    "m = 5\n",
    "t = np.linspace(-1., 1., m)\n",
    "b = np.array([1., 0.5, 0., 0.5, 2.]).reshape(m, 1)\n",
    "A = np.column_stack((np.ones(m), t, t*t))\n",
    "n = A.shape[1]\n",
    "\n",
    "# Factorize A into SVD.\n",
    "U, Sigma, VT = np.linalg.svd(A)\n",
    "print(\"shapes U:\", U.shape, \" S:\", Sigma.shape, \" V^T:\", VT.shape)\n",
    "\n",
    "# Compute \\Sigma^+ by taking reciprocal of singular values.\n",
    "Sigmaplus = np.diag(1./Sigma).T\n",
    "\n",
    "# Compute the pseudoinverse A^+ = V \\Sigma^+ U^T.\n",
    "Aplus = np.matmul(np.matmul(VT.T, Sigmaplus), U[:,:Sigma.shape[0]].T)\n",
    "\n",
    "# Solve for x using x = A^+ b.\n",
    "x = np.matmul(Aplus, b)\n",
    "\n",
    "# Compute the squared 2-norm of the residual.\n",
    "resid = y - np.matmul(A, x)\n",
    "sq2norm = np.linalg.norm(resid, ord=2)**2\n",
    "\n",
    "# Compare to the residual returned from np.linalg.lstsq.\n",
    "_, r, _, _ = np.linalg.lstsq(A, b, rcond=None)\n",
    "np.testing.assert_almost_equal(sq2norm, r)"
   ]
  },
  {
   "cell_type": "markdown",
   "metadata": {},
   "source": [
    "## 03.10 Comparison of Methods for Least Squares"
   ]
  },
  {
   "cell_type": "markdown",
   "metadata": {},
   "source": [
    "| Method | Complexity | Notes |\n",
    "|--------|------------|-------|\n",
    "| normal equations | $n^3/6$ | unstable |\n",
    "| Householder QR | $n^3/3$ | stable |\n",
    "| SVD | $n^3$ | robust, but expensive |\n",
    "\n",
    "Comparing relative error of solutions by method.\n",
    "* Normal equations method breaks down when condition number is $> 1/\\sqrt{\\epsilon_{\\text{mach}}}$.\n",
    "$$\n",
    "\\text{rel. error} = [\\text{cond}(A)]^2\n",
    "$$\n",
    "* Householder method is best possible esp. when residual is small.\n",
    "$$\n",
    "\\text{rel. error} = \\text{cond}(A) + ||r||_2 [\\text{cond}(A)]^2\n",
    "$$"
   ]
  },
  {
   "cell_type": "code",
   "execution_count": null,
   "metadata": {},
   "outputs": [],
   "source": []
  }
 ],
 "metadata": {
  "kernelspec": {
   "display_name": "Python 3",
   "language": "python",
   "name": "python3"
  },
  "language_info": {
   "codemirror_mode": {
    "name": "ipython",
    "version": 3
   },
   "file_extension": ".py",
   "mimetype": "text/x-python",
   "name": "python",
   "nbconvert_exporter": "python",
   "pygments_lexer": "ipython3",
   "version": "3.6.9"
  }
 },
 "nbformat": 4,
 "nbformat_minor": 2
}
