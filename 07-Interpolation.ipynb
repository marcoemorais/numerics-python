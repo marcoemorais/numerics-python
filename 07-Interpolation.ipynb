{
 "cells": [
  {
   "cell_type": "markdown",
   "metadata": {},
   "source": [
    "# Interpolation"
   ]
  },
  {
   "cell_type": "markdown",
   "metadata": {},
   "source": [
    "## 07.01 Interpolation"
   ]
  },
  {
   "cell_type": "markdown",
   "metadata": {},
   "source": [
    "Given input data such as:\n",
    "$$\n",
    "(t_1, y_1), (t_2, y_2), \\cdots, (t_m, y_m) \\quad t_1 < t_2 < \\cdots < t_m\n",
    "$$\n",
    "\n",
    "determine a function $f : \\mathbb{R} \\rightarrow \\mathbb{R}$ such that:\n",
    "$$\n",
    "f(t_i) = y_i \\quad i = 1, \\cdots, m\n",
    "$$\n",
    "\n",
    "$f$ is referred to as **interpolating function**\n",
    "\n",
    "Additional constraints might be imposed:\n",
    "* smoothness\n",
    "* monotonicity\n",
    "* convexity\n",
    "\n",
    "Use cases:\n",
    "* graaphics or plotting\n",
    "* differentiating or integrating \n",
    "* replacing complex function with simpler one\n",
    "\n",
    "#### Interpolation vs. Approximation\n",
    "Interpolation fits given input data points **exactly** whereas approximation does not.\n",
    "\n",
    "Example of approximation: Smooth noisy data using least squares.\n",
    "\n",
    "#### Basis Functions\n",
    "Family of functions for interpolating data points spanned by a set of basis functions $\\phi_1(t), \\cdots, \\phi_n(t)$.\n",
    "\n",
    "Interpolating function $f$ is linear combination of basis functions:\n",
    "$$\n",
    "f(t_i) = \\sum_{j=1}^{n} x_j \\phi_j (t_i) = y_i\n",
    "$$\n",
    "where\n",
    "* $x$ is an n-vector of parameters\n",
    "* $\\phi_j (t_i)$ is the value of *jth* basis function at $t_i$ forms an $m \\times n$ matrix $A$\n",
    "* $y$ is the product of the linear system $Ax$\n",
    "\n",
    "#### Existence, Uniqueness, and Conditioning\n",
    "Existence depends on the number of data points $m$ and basis functions $n$.\n",
    "* If $m > n$, then interpolant usually doesn't exist.\n",
    "* If $m < n$, then interpolant is not unique.\n",
    "* If $m = n$, then basis matrix $A$ is nonsingular and data can be fit exactly.\n",
    "\n",
    "Sensitivity of $x$ depends on $\\text{cond}(A)$ which depends on basis functions."
   ]
  },
  {
   "cell_type": "markdown",
   "metadata": {},
   "source": [
    "## 07.02 Polynomial Interpolation"
   ]
  },
  {
   "cell_type": "markdown",
   "metadata": {},
   "source": [
    "Unique polynomial of degree $n-1$ passsing through $n$ distinct data points.\n",
    "\n",
    "#### Monomial Basis\n",
    "Basis functions given by sequential powers:\n",
    "$$\n",
    "\\phi_j (t) = t^{j-1} \\quad j=1, \\cdots, n\n",
    "$$\n",
    "\n",
    "Polynomial evaluated at $t_i$ with this basis:\n",
    "$$\n",
    "p_{n-1} (t_i) = x_1 + x_2 t_i + x_3 t_i^2 + \\cdots + x_n t_i^{n-1}\n",
    "$$\n",
    "\n",
    "The $n \\times n$ matrix is known as **Vandermonde matrix**:\n",
    "$$\n",
    "Ax = \\begin{bmatrix}\n",
    "1 & t_1 & t_1^2 & \\cdots & t_1^{n-1} \\\\\n",
    "\\vdots & \\vdots & \\vdots & \\ddots & \\vdots \\\\\n",
    "1 & t_n & t_n^2 & \\cdots & t_n^{n-1} \\\\\n",
    "\\end{bmatrix}\n",
    "\\begin{bmatrix}\n",
    "x_1 \\\\\n",
    "x_2 \\\\\n",
    "\\vdots \\\\\n",
    "x_n\n",
    "\\end{bmatrix}\n",
    "$$\n",
    "\n",
    "For monomial basis, matrix $\\text{cond}(A)$ increases with degree of polynomial.\n",
    "* Ill-conditioning does not prevent us from fitting points.\n",
    "* Residuals at fitted data points is zero.\n",
    "* Coefficients will be poorly determined.\n",
    "* Relatively high cost to solve linear system $O(n^3)$.\n",
    "* Scaling can help reduce the growth in condition number.\n",
    "* Cost of evaluation using Horner's rule (see below) is $2n$.\n",
    "\n",
    "#### Horner's Rule\n",
    "Rather than explicitly compute powers, performed nested multiplications of $n$ additions and $n$ multiplications.\n",
    "$$\n",
    "p_{n-1} (t_i) = x_1 + t_i (x_2 + t_i (x_3 + t_i (\\cdots + (x_{n-1} + tx_n) \\cdots)))\n",
    "$$"
   ]
  },
  {
   "cell_type": "markdown",
   "metadata": {},
   "source": [
    "Determine the polynomial of degree 2 used to interpolate 3 ($m=3$) data points."
   ]
  },
  {
   "cell_type": "code",
   "execution_count": 1,
   "metadata": {},
   "outputs": [
    {
     "name": "stdout",
     "output_type": "stream",
     "text": [
      "x:  [-1.  5. -4.]\n"
     ]
    }
   ],
   "source": [
    "import numpy as np\n",
    "\n",
    "# Input data $(t_i, y_i)$.\n",
    "m = 3\n",
    "t = np.array([-2,0,1], dtype='d')\n",
    "y = np.array([-27,-1,0], dtype='d')\n",
    "\n",
    "# Solve Ax = y for x.\n",
    "A = np.column_stack((np.ones(m), t, t*t))\n",
    "x = np.linalg.solve(A, y)\n",
    "print(\"x: \", x)\n",
    "\n",
    "# Evaluate the polynomial at the data points.\n",
    "vft = np.vectorize(lambda t: x[0] + t*(x[1] + x[2]*t))  # Horner's rule.\n",
    "yhat = vft(t)\n",
    "np.testing.assert_almost_equal(y - yhat, np.zeros(m))"
   ]
  },
  {
   "cell_type": "markdown",
   "metadata": {},
   "source": [
    "Plot the observations against the fit using polynomial interpolation."
   ]
  },
  {
   "cell_type": "code",
   "execution_count": 2,
   "metadata": {},
   "outputs": [
    {
     "data": {
      "image/png": "[encoded data removed]",
      "text/plain": [
       "<Figure size 432x288 with 1 Axes>"
      ]
     },
     "metadata": {
      "needs_background": "light"
     },
     "output_type": "display_data"
    }
   ],
   "source": [
    "import matplotlib.pyplot as plt\n",
    "\n",
    "%matplotlib inline\n",
    "\n",
    "# Fit the model to a dense 1D-grid of points from [t_min, t_max].\n",
    "fitn = m*20\n",
    "fitx = np.linspace(np.min(t), np.max(t), fitn)  # Actually t.\n",
    "fity = vft(fitx)\n",
    "\n",
    "# Plot the fitted model against observations.\n",
    "plt.scatter(t, y, s=16, c='dodgerblue', label='observations')\n",
    "plt.plot(fitx, fity, c='red', label='fit')\n",
    "plt.title('Observations vs. Fit, Polynomial Interpolation')\n",
    "plt.ylabel('y')\n",
    "plt.xlabel('t')\n",
    "plt.grid()\n",
    "plt.legend()\n",
    "plt.show()"
   ]
  },
  {
   "cell_type": "markdown",
   "metadata": {},
   "source": [
    "## 07.03 Lagrange and Newton Interpolation"
   ]
  },
  {
   "cell_type": "markdown",
   "metadata": {},
   "source": [
    "#### Lagrange Basis\n",
    "The Vandermonde matrix for the Lagrange basis is the identity matrix.\n",
    "$$\n",
    "l_j(t) = \\prod_{k=1,k \\neq j}^n (t - t_k) / \\prod_{k=1,k \\neq j}^n (t_j - t_k) \\quad j = 1,\\cdots,n\n",
    "$$\n",
    "\n",
    "Polynomial evaluated at $t_i$ with this basis:\n",
    "$$\n",
    "p_{n-1}(t_i) = y_1 l_1(t_i) + y_2 l_2(t_i) + \\cdots + y_n l_n(t_i)\n",
    "$$\n",
    "\n",
    "Lagrange form of a polynomial obtained for $m$ data points will give same result as $m-1$ degree polynomial obtained using monomial basis.\n",
    "\n",
    "Cost of computing the weights is $O(n^2)$ (less than solving linear system as is the case for monomial basis) and cost of evaluating the interpolant is $O(n)$, but the constant is larger $5n$ in comparison to methods using Horner's rule.\n",
    "\n",
    "#### Newton Interpolation\n",
    "Newton basis functions given by:\n",
    "$$\n",
    "\\pi_j(t) = \\prod_{k=1}^{j-1} (t - t_k) \\quad j = 1,\\cdots,n\n",
    "$$\n",
    "\n",
    "Polynomial evaluated at $t_i$ with this basis:\n",
    "$$\n",
    "p_{n-1}(t_i) = x_1 + x_2(t - t_1) + x_3(t - t_1)(t - t_2) + \\cdots + x_n(t - t_1)(t - t_2)\\cdots(t - t_{n-1})\n",
    "$$\n",
    "* Avoid repeated computations using Horner's rule, cost of evaluation will be $2n$.\n",
    "\n",
    "The basis matrix $A$ formed from the linear combination of these basis functions is lower triangular and can be solved using forward substitution (cost = $O(n^2)$).\n",
    "\n",
    "Newton basis functions can be constructed incrementally.\n",
    "* Given $m$ data points and an interpolating polynomial of degree $m-1$, then a new interpolating polynomial of degree $m + n - 1$ can be constructed for any additional $n$ data points using Newton interpolation "
   ]
  },
  {
   "cell_type": "markdown",
   "metadata": {},
   "source": [
    "Use Lagrange interpolation to interpolate 3 ($m = 3$) data points."
   ]
  },
  {
   "cell_type": "code",
   "execution_count": 3,
   "metadata": {},
   "outputs": [],
   "source": [
    "import numpy as np\n",
    "import scipy.interpolate as interp\n",
    "\n",
    "# Input data $(t_i, y_i)$.\n",
    "m = 3\n",
    "t = np.array([-2,0,1], dtype='d')\n",
    "y = np.array([-27,-1,0], dtype='d')\n",
    "\n",
    "# Implement L1, L2, and L3.\n",
    "# L1 = \\frac{(x-t_2)(x-t_3)}{(t_1-t_2)(t_1-t_3)}\n",
    "L1 = lambda x: ((x-t[1])*(x-t[2]))/((t[0]-t[1])*(t[0]-t[2]))\n",
    "# L2 = \\frac{(x-t_1)(x-t_3)}{(t_2-t_1)(t_2-t_3)}\n",
    "L2 = lambda x: ((x-t[0])*(x-t[2]))/((t[1]-t[0])*(t[1]-t[2]))\n",
    "# L3 = \\frac{(x-t_1)(x-t_2)}{(t_3-t_1)(t_3-t_2)}\n",
    "L3 = lambda x: ((x-t[0])*(x-t[1]))/((t[2]-t[0])*(t[2]-t[1]))\n",
    "\n",
    "# Implement the polynomial p_2(x).\n",
    "p2x = lambda x: np.dot(y, np.array([L1(x), L2(x), L3(x)]))\n",
    "\n",
    "# Evaluate the polynomial at the data points.\n",
    "vp2x = np.vectorize(p2x)\n",
    "yhat = vp2x(t)\n",
    "np.testing.assert_almost_equal(y - yhat, np.zeros(m))\n",
    "\n",
    "# Compare to polynomial returned from scipy.interpolate.lagrange.\n",
    "poly = interp.lagrange(t, y)\n",
    "x = np.linspace(np.min(t), np.max(t), num=100)\n",
    "np.testing.assert_almost_equal(vp2x(x), poly(x))"
   ]
  },
  {
   "cell_type": "markdown",
   "metadata": {},
   "source": [
    "Plot the observations against the fit using Lagrange interpolation."
   ]
  },
  {
   "cell_type": "code",
   "execution_count": 4,
   "metadata": {},
   "outputs": [
    {
     "data": {
      "image/png": "[encoded data removed]",
      "text/plain": [
       "<Figure size 432x288 with 1 Axes>"
      ]
     },
     "metadata": {
      "needs_background": "light"
     },
     "output_type": "display_data"
    }
   ],
   "source": [
    "import matplotlib.pyplot as plt\n",
    "\n",
    "%matplotlib inline\n",
    "\n",
    "# Fit the model to a dense 1D-grid of points from [t_min, t_max].\n",
    "fitn = m*20\n",
    "fitx = np.linspace(np.min(t), np.max(t), fitn)  # Actually t.\n",
    "fity = vp2x(fitx)\n",
    "\n",
    "# Plot the fitted model against observations.\n",
    "plt.scatter(t, y, s=16, c='dodgerblue', label='observations')\n",
    "plt.plot(fitx, fity, c='red', label='fit')\n",
    "plt.title('Observations vs. Fit, Lagrange Interpolation')\n",
    "plt.ylabel('y')\n",
    "plt.xlabel('t')\n",
    "plt.grid()\n",
    "plt.legend()\n",
    "plt.show()"
   ]
  },
  {
   "cell_type": "markdown",
   "metadata": {},
   "source": [
    "Use Newton interpolation to interpolate 3 ($m = 3$) data points."
   ]
  },
  {
   "cell_type": "code",
   "execution_count": 5,
   "metadata": {},
   "outputs": [
    {
     "name": "stdout",
     "output_type": "stream",
     "text": [
      "x:  [-27.  13.  -4.]\n"
     ]
    }
   ],
   "source": [
    "import numpy as np\n",
    "import scipy.linalg as la\n",
    "\n",
    "# Input data $(t_i, y_i)$.\n",
    "m = 3\n",
    "t = np.array([-2,0,1], dtype='d')\n",
    "y = np.array([-27,-1,0], dtype='d')\n",
    "\n",
    "\n",
    "def newton_basis(t):\n",
    "    \"\"\"\n",
    "    Return the lower triangular basis matrix used by Newton interpolation.\n",
    "    \"\"\"\n",
    "    A = np.zeros((t.size, t.size))\n",
    "    for i in range(t.size):\n",
    "        aij = 1.\n",
    "        for j in range(i+1):\n",
    "            A[i,j] = aij\n",
    "            # a_{ij} = \\pi_{j=1}^n (t_i - t_j)\n",
    "            aij = aij * (t[i]-t[j])\n",
    "    return A\n",
    "\n",
    "\n",
    "# Solve Lx = y for x using forward substitution.\n",
    "A = newton_basis(t)\n",
    "x = la.solve_triangular(A, y, lower=True, unit_diagonal=False)\n",
    "print(\"x: \", x)\n",
    "\n",
    "# Implement the polynomial p_2(t_i).\n",
    "p2ti = lambda ti: x[0] + x[1]*(ti-t[0]) + x[2]*(ti-t[0])*(ti-t[1])\n",
    "\n",
    "# Evaluate the polynomial at the data points.\n",
    "vp2ti = np.vectorize(p2ti)\n",
    "yhat = vp2ti(t)\n",
    "np.testing.assert_almost_equal(y - yhat, np.zeros(m))"
   ]
  },
  {
   "cell_type": "markdown",
   "metadata": {},
   "source": [
    "Plot the observations against the fit using Newton interpolation."
   ]
  },
  {
   "cell_type": "code",
   "execution_count": 6,
   "metadata": {},
   "outputs": [
    {
     "data": {
      "image/png": "[encoded data removed]",
      "text/plain": [
       "<Figure size 432x288 with 1 Axes>"
      ]
     },
     "metadata": {
      "needs_background": "light"
     },
     "output_type": "display_data"
    }
   ],
   "source": [
    "import matplotlib.pyplot as plt\n",
    "\n",
    "%matplotlib inline\n",
    "\n",
    "# Fit the model to a dense 1D-grid of points from [t_min, t_max].\n",
    "fitn = m*20\n",
    "fitx = np.linspace(np.min(t), np.max(t), fitn)  # Actually t.\n",
    "fity = vp2ti(fitx)\n",
    "\n",
    "# Plot the fitted model against observations.\n",
    "plt.scatter(t, y, s=16, c='dodgerblue', label='observations')\n",
    "plt.plot(fitx, fity, c='red', label='fit')\n",
    "plt.title('Observations vs. Fit, Newton Interpolation')\n",
    "plt.ylabel('y')\n",
    "plt.xlabel('t')\n",
    "plt.grid()\n",
    "plt.legend()\n",
    "plt.show()"
   ]
  },
  {
   "cell_type": "markdown",
   "metadata": {},
   "source": [
    "## 07.04 Orthogonal Polynomials"
   ]
  },
  {
   "cell_type": "markdown",
   "metadata": {},
   "source": [
    "#### Inner Product\n",
    "\n",
    "Inner product of polynomials on interval $[a, b]$ given by:\n",
    "$$\n",
    "\\langle p, q \\rangle = \\int_a^b p(t) q(t) w(t) dt\n",
    "$$\n",
    "where\n",
    "* $w(t)$ is a **weight function**\n",
    "\n",
    "Polynomials $p$ and $q$ are orthogonal if $\\langle p, q \\rangle = 0$.\n",
    "\n",
    "Set of polynomials $\\{p_i\\}$ are orthonormal if they are mutally orthogonal and the magnitude of each polynomial is 1.\n",
    "* Similar to vectors, but object is a polynomial.\n",
    "\n",
    "If we apply Gram-Schmidt process with the weight function defined below to a set of polynomials $\\{p_i\\}$ then we obtain a family of orthogonal polynomials bearing the names listed below.\n",
    "\n",
    "| Name | Symbol | Interval | Weight Function, $f(t)$ |\n",
    "|------|--------|----------|-------------------------|\n",
    "| Legendre | $P_k$ | $[-1, 1]$ | 1 |\n",
    "| Chebyshev, 1st | $T_k$ | $[-1, 1]$ | $(1 - t^2)^{-1/2}$ |\n",
    "| Chebyshev, 2nd | $U_k$ | $[-1, 1]$ | $(1 - t^2)^{1/2}$ |\n",
    "| Jacobi | $J_k$ | $[-1, 1]$ | $(1 - t)^{\\infty} (1 + t)^{\\beta}$ |\n",
    "| Laguerre | $L_k$ | $[0, \\infty]$ | $e^{-t}$ |\n",
    "| Hermite | $H_k$ | $[-\\infty, \\infty]$ | $e^{-t^2}$ |\n",
    "\n",
    "#### Chebyshev Polynomials\n",
    "**Equi-oscillation property:** successive extrema of $T_k$ are equal in magnitude and opposite in sign.\n",
    "* Distributes error uniformly when approximating continuous functions."
   ]
  },
  {
   "cell_type": "markdown",
   "metadata": {},
   "source": [
    "## 07.05 Convergence"
   ]
  },
  {
   "cell_type": "markdown",
   "metadata": {},
   "source": [
    "Question: When you interpolate a continous function, $f(t)$, by a polynomial, $p_{n-1}(t)$, at a given set of sample points, how much can the polynomial differ from the continuous function between the data points?\n",
    "\n",
    "1. Tight Bounds, to be applied at some point $\\theta$ in $[t_1, t_n]$\n",
    "$$\n",
    "f(t) - p_{n-1}(t) = \\frac{f^{(n)}(\\theta)}{n!} (t-t_1)(t-t_2)\\cdots(t-t_n)\n",
    "$$\n",
    "where\n",
    "  * $f^{(n)}(\\theta)$ is the nth derivative of $f(t)$ at some point $\\theta$ in $[t_1, t_n]$\n",
    "  \n",
    "2. Loose Bounds, to be applied across the entire interval $[t_1, t_n]$\n",
    "$$\n",
    "\\max_{t \\in [t_1, t_n]} |f(t) - p_{n-1}(t)| \\leq \\frac{Mh^n}{4n}\n",
    "$$\n",
    "where\n",
    "  * $M$ is an upper bound on $f^{(n)}(\\theta)$\n",
    "  * $h$ is the maximum spacing between samples\n",
    "  * $n$ is the number of samples\n",
    "\n",
    "#### Expected Accuracy\n",
    "* Equally spaced sample points are expected to have inflated errors at the extrema of the interval $[t_1, t_n]$.\n",
    "* Sample points spaced at Chebyshev points distribute the error more evenly, resulting in smaller errors at the extrema.\n",
    "* Avoid high degree polynomial interpolants.\n",
    "  * A polynomial of degree $n$ has $n-1$ inflection points and these oscillations may bear no relation to the data to be fit. \n",
    "  * The cost to determine and evaluate a polynomial increases with $n$.\n",
    "\n",
    "\n",
    "#### Truncated Taylor Series\n",
    "For completeness, consider Taylor series approximation of $f(t)$ when $t$ near $a$ as a polynomial interpolant of exactly one sample $(a, y)$.\n",
    "$$\n",
    "p_n(t) = f(a) + f'(a)(t-a) + \\frac{f''(a)}{2}(t-a)^2 + \\cdots + \\frac{f^{(n)}(a)}{n!}(t-a)^n\n",
    "$$"
   ]
  },
  {
   "cell_type": "markdown",
   "metadata": {},
   "source": [
    "Compare the Taylor approximation of $f(t) = ln(t)$ at $t = 1$ for Taylor polynomial of degree 0 to 4."
   ]
  },
  {
   "cell_type": "code",
   "execution_count": 7,
   "metadata": {},
   "outputs": [
    {
     "data": {
      "image/png": "[encoded data removed]",
      "text/plain": [
       "<Figure size 432x288 with 1 Axes>"
      ]
     },
     "metadata": {
      "needs_background": "light"
     },
     "output_type": "display_data"
    }
   ],
   "source": [
    "import math\n",
    "\n",
    "import matplotlib.pyplot as plt\n",
    "import numpy as np\n",
    "\n",
    "%matplotlib inline\n",
    "\n",
    "# Define f(t), f'(t), f''(t), ..., f^{(4)}(t).\n",
    "ft = lambda t: math.log(t)\n",
    "d1ft = lambda t: 1./t\n",
    "d2ft = lambda t: -1./math.pow(t, 2)\n",
    "d3ft = lambda t: 2./math.pow(t, 3)\n",
    "d4ft = lambda t: -6./math.pow(t, 4)\n",
    "\n",
    "# Define Taylor series approximation of f(t) for t near a.\n",
    "a = 1.\n",
    "p0n = lambda t: ft(a)\n",
    "p1n = lambda t: p0n(t) + d1ft(a)*(t-a)\n",
    "p2n = lambda t: p1n(t) + (d2ft(a)/2.)*math.pow(t-a, 2)\n",
    "p3n = lambda t: p2n(t) + (d3ft(a)/6.)*math.pow(t-a, 3)\n",
    "p4n = lambda t: p3n(t) + (d3ft(a)/24.)*math.pow(t-a, 4)\n",
    "\n",
    "# Define the points to sample along the x axis.\n",
    "numt = 100\n",
    "t0, tN = 0.1, 3.\n",
    "t = np.linspace(t0, tN, num=numt)\n",
    "\n",
    "# Define a list of functions to plot and their labels.\n",
    "funcs = [p0n, p1n, p2n, p3n, p4n]\n",
    "labels = [\"$p_0(t)$\", \"$p_1(t)$\", \"$p_2(t)$\", \"$p_3(t)$\", \"$p_4(t)$\"]\n",
    "\n",
    "# Plot the true function and a marker at (a, y).\n",
    "vft = np.vectorize(ft)\n",
    "plt.plot(t, vft(t), \n",
    "         linewidth=2., linestyle='--', c='darkviolet', label='f(t)')\n",
    "plt.plot(a, vft(a), marker='o', markersize=5.0, c='darkviolet')\n",
    "\n",
    "# Plot the Taylor series approximations of increasing degree.\n",
    "for func, label in zip(funcs, labels):\n",
    "    vft = np.vectorize(func)\n",
    "    plt.plot(t, vft(t), label=label)\n",
    "\n",
    "plt.title('y vs. x for Taylor Polynomials of Increasing Degree')\n",
    "plt.ylabel('y')\n",
    "plt.xlabel('x')\n",
    "plt.grid()\n",
    "plt.legend()\n",
    "plt.show()"
   ]
  },
  {
   "cell_type": "markdown",
   "metadata": {},
   "source": [
    "## 07.06 Piecewise Polynomial Interpolation"
   ]
  },
  {
   "cell_type": "markdown",
   "metadata": {},
   "source": [
    "Fit large number of samples with low-degree polynomials to avoid excessive oscillations in the interpolant.\n",
    "* Break the interval $[t_1, t_n]$ into $k$ subintervals.\n",
    "* Each point at which interpolant changes referred to as **knot** or **breakpoint**.\n",
    "* At degree of 1, sacrifices smoothness to eliminate oscillation.\n",
    "\n",
    "#### Hermite Cubic Interpolation\n",
    "Hermite cubic interpolant is piecewise cubic polynomial interpolant.\n",
    "* Assume $n$ knots with $n-1$ piecewise subintervals.\n",
    "* For each knot, there are 4 parameters, $x$, in the cubic eg $p_{3}(t) = x_0 + x_1 t + x_2 t^2 + x_3 t^3$.\n",
    "* As a result, there are $4(n-1)$ parameters to be determined.\n",
    "  * Input samples give $2(n-1)$ equations at each subinterval.\n",
    "  * First derivatives give $n-2$ equations at each subinterval.\n",
    "  * This still leaves $n$ free parameters to be chosen.\n",
    "* To preserve monotonic data, then Hermite cubic is appropriate.\n",
    "\n",
    "#### Cubic Spline Interpolation\n",
    "Cubic spline is piecewise cubic polynomial interpolant that is twice differentiable.\n",
    "* Assume $n$ knots with $n-1$ piecewise subintervals.\n",
    "* For each knot, there are 4 parameters, $x$, in the cubic eg $p_{3}(t) = x_0 + x_1 t + x_2 t^2 + x_3 t^3$.\n",
    "* As a result, there are $4(n-1)$ parameters to be determined.\n",
    "  * Input samples give $2(n-1)$ equations at each subinterval.\n",
    "  * First derivatives give $n-2$ equations at each subinterval.\n",
    "  * Second derivatives give $n-2$ equations at each subinterval.\n",
    "  * This still leaves 2 free parameters to be chosen.\n",
    "* For maximum smoothness, then a cubic spline is appropriate."
   ]
  },
  {
   "cell_type": "markdown",
   "metadata": {},
   "source": [
    "#### Example: Cubic Spline Interpolation\n",
    "Determine the system of equations required to solve a cubic spline interpolation for 3 data points $(t_1, y_1), (t_2, y_2), (t_3, y_3)$.\n",
    "\n",
    "For $3$ knots there are $3-1=2$ subintervals and thus $4*2=8$ parameters which we refer to as $\\alpha$ and $\\beta$.\n",
    "\n",
    "The polynomial for the first interval $[t_1, t_2]$ given by coefficients $\\alpha$ and for the second interval $[t_2, t_3]$ given by coefficients $\\beta$:\n",
    "$$\n",
    "p_{[t_1, t_2]}(t) = \\alpha_1 + \\alpha_2 t + \\alpha_3 t^2 + \\alpha_4 t^3 \\\\\n",
    "p_{[t_2, t_3]}(t) = \\beta_1 + \\beta_2 t + \\beta_3 t^2 + \\beta_4 t^3\n",
    "$$\n",
    "\n",
    "The system of equations is given by:\n",
    "$$\n",
    "\\begin{bmatrix}\n",
    "1 & t_1 & t_1^2 & t_1^3 & 0 & 0 & 0 & 0 \\\\\n",
    "1 & t_2 & t_2^2 & t_2^3 & 0 & 0 & 0 & 0 \\\\\n",
    "0 & 0 & 0 & 0 & 1 & t_2 & t_2^2 & t_2^3 \\\\\n",
    "0 & 0 & 0 & 0 & 1 & t_3 & t_3^2 & t_3^3 \\\\\n",
    "0 & 1 & 2 t_2 & 3 t_2^2 & 0 & -1 & -2 t_2 & -3 t_2^2 \\\\\n",
    "0 & 0 & 2 & 6 t_2 & 0 & 0 & -2 & -6 t_2 \\\\\n",
    "0 & 0 & 2 & 6 t_1 & 0 & 0 & 0 & 0 \\\\\n",
    "0 & 0 & 0 & 0 & 0 & 0 & 2 & 6 t_3 \\\\\n",
    "\\end{bmatrix}\n",
    "\\begin{bmatrix}\n",
    "\\alpha_1 \\\\\n",
    "\\alpha_2 \\\\ \n",
    "\\alpha_3 \\\\ \n",
    "\\alpha_4 \\\\\n",
    "\\beta_1 \\\\\n",
    "\\beta_2 \\\\ \n",
    "\\beta_3 \\\\ \n",
    "\\beta_4\n",
    "\\end{bmatrix} =\n",
    "\\begin{bmatrix}\n",
    "y_1 \\\\\n",
    "y_2 \\\\\n",
    "y_2 \\\\\n",
    "y_3 \\\\\n",
    "0 \\\\\n",
    "0 \\\\\n",
    "0 \\\\\n",
    "0\n",
    "\\end{bmatrix}\n",
    "$$\n",
    "\n",
    "In this system:\n",
    "* Rows 1-4 ensure the interpolant is an exact fit at each data point.\n",
    "* Row 5 gives the first derivative at $t_2$.\n",
    "* Row 6 gives the second derivative at $t_2$.\n",
    "* Row 7 ensures the second derivative at $t_1$ is 0.\n",
    "* Row 8 ensures the second derivative at $t_3$ is 0."
   ]
  },
  {
   "cell_type": "markdown",
   "metadata": {},
   "source": [
    "Use cubic spline interpolation to interpolate 3 ($m=3$) data points."
   ]
  },
  {
   "cell_type": "code",
   "execution_count": 8,
   "metadata": {},
   "outputs": [],
   "source": [
    "import numpy as np\n",
    "import scipy.interpolate as interp\n",
    "\n",
    "# Input data $(t_i, y_i)$.\n",
    "m = 3\n",
    "t = np.array([-2,0,1], dtype='d')\n",
    "y = np.array([-27,-1,0], dtype='d')\n",
    "\n",
    "# Construct a cubic spline interpolator.\n",
    "cs = interp.CubicSpline(t, y)\n",
    "\n",
    "# Evaluate the interpolator at the data points.\n",
    "np.testing.assert_almost_equal(y - cs(t), np.zeros(m))"
   ]
  },
  {
   "cell_type": "markdown",
   "metadata": {},
   "source": [
    "Plot the observations against the fit using cubic spline interpolation."
   ]
  },
  {
   "cell_type": "code",
   "execution_count": 9,
   "metadata": {},
   "outputs": [
    {
     "data": {
      "image/png": "[encoded data removed]",
      "text/plain": [
       "<Figure size 432x288 with 1 Axes>"
      ]
     },
     "metadata": {
      "needs_background": "light"
     },
     "output_type": "display_data"
    }
   ],
   "source": [
    "import matplotlib.pyplot as plt\n",
    "\n",
    "%matplotlib inline\n",
    "\n",
    "# Fit the model to a dense 1D-grid of points from [t_min, t_max].\n",
    "fitn = m*20\n",
    "fitx = np.linspace(np.min(t), np.max(t), fitn)  # Actually t.\n",
    "fity = cs(fitx)\n",
    "\n",
    "# Plot the fitted model against observations.\n",
    "plt.scatter(t, y, s=16, c='dodgerblue', label='observations')\n",
    "plt.plot(fitx, fity, c='red', label='fit')\n",
    "plt.title('Observations vs. Fit, Cubic Spline Interpolation')\n",
    "plt.ylabel('y')\n",
    "plt.xlabel('t')\n",
    "plt.grid()\n",
    "plt.legend()\n",
    "plt.show()"
   ]
  },
  {
   "cell_type": "markdown",
   "metadata": {},
   "source": [
    "## 07.08 B-splines"
   ]
  },
  {
   "cell_type": "markdown",
   "metadata": {},
   "source": [
    "B-splines are basis functions for spline functions of any degree.\n",
    "* Can be defined in various ways: recursion, convolution, and divided differences.\n",
    "* Linear function used in recursive definition.\n",
    "$$\n",
    "v_i^k(t) = \\frac{t - t_i}{t_{i+k} - t_i}\n",
    "$$"
   ]
  },
  {
   "cell_type": "markdown",
   "metadata": {},
   "source": [
    "## Summary: Interpolation"
   ]
  },
  {
   "cell_type": "markdown",
   "metadata": {},
   "source": [
    "* Interpolating functions are **exact** fit at sample points.\n",
    "* Interpolating functions are linear combinations of basis functions with coefficients determined depending on choice of technique.\n",
    "* Polynomial interpolation.\n",
    "  * Coefficients for Lagrange interpolation are cheaper to compute and better conditioned than monomial interpolation, but cost of evaluation for Lagrange interpolation is a little higher $5n$ vs. $2n$.\n",
    "  * Coefficients for Newton interpolation can be constructed incrementally.\n",
    "  * Convergence depends on location of sample points.\n",
    "    * Equally spaced sample points are expected to have inflated errors at the extrema.\n",
    "    * Sample points spaced at Chebyshev points distribute the error more evenly.\n",
    "* Piecewise polynomial interpolation.\n",
    "  * Used to fit large number of samples with low-degree polynomials.\n",
    "  * Cubic spline is preferred when smoothness is important."
   ]
  },
  {
   "cell_type": "code",
   "execution_count": null,
   "metadata": {},
   "outputs": [],
   "source": []
  }
 ],
 "metadata": {
  "kernelspec": {
   "display_name": "Python 3",
   "language": "python",
   "name": "python3"
  },
  "language_info": {
   "codemirror_mode": {
    "name": "ipython",
    "version": 3
   },
   "file_extension": ".py",
   "mimetype": "text/x-python",
   "name": "python",
   "nbconvert_exporter": "python",
   "pygments_lexer": "ipython3",
   "version": "3.6.9"
  }
 },
 "nbformat": 4,
 "nbformat_minor": 2
}
