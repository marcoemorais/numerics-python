{
 "cells": [
  {
   "cell_type": "markdown",
   "metadata": {},
   "source": [
    "# Fast Fourier Transform"
   ]
  },
  {
   "cell_type": "markdown",
   "metadata": {},
   "source": [
    "## 12.01 Discrete Fourier Transform"
   ]
  },
  {
   "cell_type": "markdown",
   "metadata": {},
   "source": [
    "Represent a continous function as linear combination of sines and cosines.\n",
    "* The sine and cosine components are referred to as **frequencies**.\n",
    "* For some problems, frequency domain is more efficient than time or space domain.\n",
    "\n",
    "**Euler's formula**\n",
    "\n",
    "aka **complex exponential**\n",
    "$$\n",
    "e^{i \\theta} = \\cos \\theta + i \\sin \\theta\n",
    "$$\n",
    "where\n",
    "* $i = \\sqrt{-1}$ is complex\n",
    "\n",
    "**Roots of Unity**\n",
    "\n",
    "aka **twiddle factors**\n",
    "\n",
    "For a given integer $n$ the primitive nth root of unity is given by:\n",
    "$$\n",
    "\\omega_n = \\cos(2\\pi/n) - i \\sin(2\\pi/n) = e^{-2\\pi i/n}\n",
    "$$\n",
    "\n",
    "##### Example: $w_4^k$ \n",
    "$k = [0, 1, 2, 3]$ represents $\\pi/2$ steps counterclockwise around the real-complex plane.\n",
    "* $w_4^0 = 1$\n",
    "* $w_4^1 = -i$\n",
    "* $w_4^2 = -1$\n",
    "* $w_4^3 = i$\n",
    "\n",
    "#### Discrete Fourier Transform (DFT)\n",
    "DFT $y$ of the sequence $x = [x_0, \\cdots, x_{n-1}]^T$ is given by:\n",
    "$$\n",
    "y_m = \\sum_{k=0}^{n-1} {x_k \\omega_n^{mk}}, \\qquad m = 0, \\cdots, n-1\n",
    "$$\n",
    "where\n",
    "* $\\omega_n^{mk}$ is the kth element of the nth-root of unity\n",
    "\n",
    "Expressed in matrix notation:\n",
    "$$\n",
    "y = F_n x\n",
    "$$\n",
    "where\n",
    "* $F_n$ is the Fourier matrix with entries $F_n = \\omega_n^{mk}$.\n",
    "\n",
    "#### Inverse DFT\n",
    "Inverse DFT $x$ of the sequence $y = [y_0, \\cdots, y_{n-1}]^T$ is given by:\n",
    "$$\n",
    "x_k = \\frac{1}{n} \\sum_{m=0}^{n-1} {y_m \\omega_n^{-mk}}, \\qquad k = 0, \\cdots, n-1\n",
    "$$\n",
    "\n",
    "Expressed in matrix notation:\n",
    "$$\n",
    "x = F_n^{-1} y\n",
    "$$\n",
    "where\n",
    "* $F_n^{-1} = (1/n) F_n^H$ is the inverse of the Fourier matrix\n",
    "  * $F_n^H$ is the conjugate transpose of $F_n$\n",
    "    * Note: $F_n$ is almost but **not** Hermitian\n",
    "\n",
    "\n",
    "#### Significance\n",
    "DFT gives a trigonometric interpolant using only matrix-vector multiplication with $O(n^2)$ work.\n",
    "\n",
    "DFT of purely real sequence is in general complex.\n",
    "\n",
    "$y_0 = \\sum_{k=0}^{n-1} x_k$ is called zero frequency or **DC** component\n",
    "\n",
    "$y_{n/2}$ is highest frequency representable aka **Nyquist frequency**"
   ]
  },
  {
   "cell_type": "markdown",
   "metadata": {},
   "source": [
    "Demonstrate computing the roots of unity for $n = 2, 4, 8$."
   ]
  },
  {
   "cell_type": "code",
   "execution_count": 1,
   "metadata": {},
   "outputs": [
    {
     "name": "stdout",
     "output_type": "stream",
     "text": [
      "omega2:\n",
      " [ 1.+0.0000000e+00j -1.-1.2246468e-16j]\n",
      "omega4:\n",
      " [ 1.0000000e+00+0.0000000e+00j  6.1232340e-17-1.0000000e+00j\n",
      " -1.0000000e+00-1.2246468e-16j -1.8369702e-16+1.0000000e+00j]\n"
     ]
    }
   ],
   "source": [
    "import numpy as np\n",
    "\n",
    "def roots_unity(n):\n",
    "    \"\"\"\n",
    "    Return the nth roots of unity $e^{(-2k \\pi i)/n}$.\n",
    "    \"\"\"\n",
    "    k = np.arange(0, n, dtype='d')\n",
    "    return np.exp((-2.*k*np.pi*1j)/n)\n",
    "\n",
    "\n",
    "omega2 = roots_unity(2)\n",
    "print(\"omega2:\\n\", omega2)\n",
    "np.testing.assert_almost_equal(omega2, np.array([1, -1]))\n",
    "\n",
    "omega4 = roots_unity(4)\n",
    "print(\"omega4:\\n\", omega4)\n",
    "np.testing.assert_almost_equal(omega4, np.array([1, -1j, -1, 1j]))\n",
    "\n",
    "omega8 = roots_unity(8)\n",
    "# Compare to $\\omega_n = \\cos(2\\pi/n) - i \\sin(2\\pi/n)$.\n",
    "np.testing.assert_almost_equal(omega8, np.array(\n",
    "    [1, \n",
    "     np.cos(1.*np.pi/4.) - 1j*np.sin(1.*np.pi/4.),  # 45d\n",
    "     -1j,\n",
    "     np.cos(3.*np.pi/4.) - 1j*np.sin(3.*np.pi/4.),  # 135d\n",
    "     -1,\n",
    "     np.cos(5.*np.pi/4.) - 1j*np.sin(5.*np.pi/4.),  # 225d\n",
    "     1j,\n",
    "     np.cos(7.*np.pi/4.) - 1j*np.sin(7.*np.pi/4.)]))  # 315d"
   ]
  },
  {
   "cell_type": "markdown",
   "metadata": {},
   "source": [
    "Demonstrate computing the Fourier matrix for nth roots of unity."
   ]
  },
  {
   "cell_type": "code",
   "execution_count": 2,
   "metadata": {},
   "outputs": [],
   "source": [
    "import numpy as np\n",
    "\n",
    "def fourier_matrix(n):\n",
    "    \"\"\"\n",
    "    Return the Fourier matrix for nth roots of unity $F_n$.\n",
    "    \"\"\"\n",
    "    # Compute the nth roots of unity.\n",
    "    omega = np.exp((-2.*np.pi*1j)/n)\n",
    "    # Entries of Fourier matrix given by a_{ij} = \\omega^{i*j}.\n",
    "    i, j = np.meshgrid(np.arange(n), np.arange(n), indexing='ij')\n",
    "    return np.power(omega, i*j)\n",
    "\n",
    "\n",
    "F4 = fourier_matrix(4)\n",
    "np.testing.assert_almost_equal(F4, np.array([[1, 1, 1, 1],\n",
    "                                             [1, -1j, -1, 1j],\n",
    "                                             [1, -1, 1, -1],\n",
    "                                             [1, 1j, -1, -1j]]))"
   ]
  },
  {
   "cell_type": "markdown",
   "metadata": {},
   "source": [
    "Compute the DFT for the sequence $x = [4,0,3,6,2,9,6,5]$ from the Fourier matrix with $n=8$ and verify that the inverse DFT returns the same sequence. "
   ]
  },
  {
   "cell_type": "code",
   "execution_count": 3,
   "metadata": {},
   "outputs": [
    {
     "name": "stdout",
     "output_type": "stream",
     "text": [
      "y:\n",
      " [35.        +0.00000000e+00j -5.07106781+8.65685425e+00j\n",
      " -3.        +2.00000000e+00j  9.07106781+2.65685425e+00j\n",
      " -5.        -2.13162821e-14j  9.07106781-2.65685425e+00j\n",
      " -3.        -2.00000000e+00j -5.07106781-8.65685425e+00j]\n"
     ]
    }
   ],
   "source": [
    "import numpy as np\n",
    "\n",
    "n = 8  # 8th roots of unity.\n",
    "\n",
    "# Compute DFT as y = F_n x.\n",
    "F8 = fourier_matrix(n)\n",
    "x = np.array([4,0,3,6,2,9,6,5], dtype=np.float64)\n",
    "y = np.matmul(F8, x)\n",
    "\n",
    "print(\"y:\\n\", y)\n",
    "np.testing.assert_almost_equal(y, np.array(\n",
    "    [35, \n",
    "     -5.07+8.66j, \n",
    "     -3+2j, \n",
    "     9.07+2.66j, \n",
    "     -5, \n",
    "     9.07-2.66j, \n",
    "     -3-2j, \n",
    "     -5.07-8.66j]), decimal=2)\n",
    "\n",
    "# Confirm that DC component equals the sum of the sequence.\n",
    "np.testing.assert_equal(y[0], np.sum(x))\n",
    "\n",
    "# Compute the inverse F_n^{-1} from complex conjugate transpose.\n",
    "F8inv = (1./n)*F8.conj().T\n",
    "\n",
    "# Verify the inverse DFT is $F_n^{-1} y = x$.\n",
    "xx = np.matmul(F8inv, y)\n",
    "np.testing.assert_almost_equal(xx, x)"
   ]
  },
  {
   "cell_type": "markdown",
   "metadata": {},
   "source": [
    "## 12.02 Fast Fourier Transform"
   ]
  },
  {
   "cell_type": "markdown",
   "metadata": {},
   "source": [
    "FFT uses symmetry and redundancy to compute the DFT more efficiently.\n",
    "* DFT of n-point sequence can be computed via 2 DFT of $n/2$ (half) length.\n",
    "\n",
    "A pattern emerges from the Fourier matrices.\n",
    "* The matrix $F_4$ is composed of diagonally scaled blocks of $F_2$.\n",
    "* The permutation matrix $P_n$ is used to rearrange the matrix so that even numbered columns appear before the odd numbered columns.\n",
    "$$\n",
    "F_1 = 1, \\qquad\n",
    "F_2 = \n",
    "\\begin{bmatrix}\n",
    "1 & 1 \\\\\n",
    "1 & -1 \\\\\n",
    "\\end{bmatrix}, \\qquad\n",
    "F_4 = \n",
    "\\begin{bmatrix}\n",
    "1 & 1 & 1 & 1 \\\\\n",
    "1 & -i & -1 & i \\\\\n",
    "1 & -1 & 1 & -1 \\\\\n",
    "1 & i & -1 & -i\n",
    "\\end{bmatrix}\n",
    "$$\n",
    "\n",
    "#### FFT\n",
    "Recursive divide-and-conquer algorithm for computing DFT.\n",
    "* Work required $O(n \\log_2 n)$.\n",
    "  * Compare to $O(n^2)$ for matrix-vector product form of DFT.\n",
    "* Can be implemented in-place and using no additional storage.\n",
    "  * Ignore implementation below.\n",
    "* FFT can be reworked to compute inverse DFT.\n",
    "\n",
    "Assumptions of Input Sequence\n",
    "1. Equally spaced.\n",
    "2. Periodic.\n",
    "  * Transforming non-periodic sequence may introduce spurious noise.\n",
    "3. Power of 2 in length.\n",
    "  * Padding a sequence may introduce spurious noise.\n",
    "  * **Mixed-radix FFT** is a work-around for this."
   ]
  },
  {
   "cell_type": "markdown",
   "metadata": {},
   "source": [
    "Compute the FFT of the sequence $x = [4,0,3,6,2,9,6,5]$."
   ]
  },
  {
   "cell_type": "code",
   "execution_count": 4,
   "metadata": {},
   "outputs": [],
   "source": [
    "import numpy as np\n",
    "\n",
    "def fft(x, n, omega):\n",
    "    \"\"\"\n",
    "    Compute the DFT of the sequence x using the FFT.\n",
    "    \n",
    "    x is the input sequence.\n",
    "    n is the number of points in the sequence, must be 2^n.\n",
    "    omega are the nth roots of unity.\n",
    "    \n",
    "    Returns y as the result of applying the DFT to x.\n",
    "    \"\"\"\n",
    "    if n == 1:  # Base case.\n",
    "        return np.array([x[0]])\n",
    "    halfn = n//2\n",
    "    # Split x into odd and even sequences.\n",
    "    odd, even = np.zeros(halfn), np.zeros(halfn)\n",
    "    for k in range(halfn):\n",
    "        odd[k], even[k] = x[2*k+1], x[2*k]\n",
    "    # Recursively compute DFT of each sequence.\n",
    "    yodd = fft(odd, halfn, omega*omega)\n",
    "    yeven = fft(even, halfn, omega*omega)\n",
    "    # Combine results.\n",
    "    y = np.zeros(n, dtype=np.complex)\n",
    "    for k in range(n):\n",
    "        y[k] = omega[k]*yodd[k%halfn] + yeven[k%halfn]\n",
    "    return y\n",
    "\n",
    "\n",
    "# Initialize the input sequence and compute FFT.\n",
    "x = np.array([4,0,3,6,2,9,6,5], dtype=np.float64)\n",
    "n = x.size\n",
    "omega = roots_unity(n)\n",
    "y = fft(x, n, omega)\n",
    "\n",
    "# Compare the result of FFT with numpy.fft.fft.\n",
    "expected = np.fft.fft(x, n)\n",
    "np.testing.assert_almost_equal(y, expected)"
   ]
  },
  {
   "cell_type": "markdown",
   "metadata": {},
   "source": [
    "## 12.03 Applications of DFT"
   ]
  },
  {
   "cell_type": "markdown",
   "metadata": {},
   "source": [
    "#### Digital Filtering\n",
    "Remove High Frequency Noise\n",
    "1. Compute DFT of the sequence.\n",
    "2. Set high-frequency components of the transformed sequence to zero.\n",
    "3. Compute the inverse DFT of the sequence to transform data back to time domain.\n",
    "\n",
    "Similar applications include separating overlapping cyclic phenomena such as:\n",
    "* diurnal vs. seasonal signal in weather data\n",
    "* daily vs. secular trend in economic data\n",
    "\n",
    "#### Discrete Convolution\n",
    "1. Transform the input sequence and kernel to frequency domain using DFT.\n",
    "  * Zero-pad the kernel to be of the same size as the input sequence.\n",
    "2. Compute the pointwise product of the two sequences in frequency domain.\n",
    "3. Transform the product back to the time domain using inverse FFT."
   ]
  },
  {
   "cell_type": "markdown",
   "metadata": {},
   "source": [
    "Demonstrate use of FFT to remove Gaussian noise from a DC signal with $c = 5$. "
   ]
  },
  {
   "cell_type": "code",
   "execution_count": 5,
   "metadata": {},
   "outputs": [
    {
     "data": {
      "image/png": "[encoded data removed]",
      "text/plain": [
       "<Figure size 432x288 with 1 Axes>"
      ]
     },
     "metadata": {
      "needs_background": "light"
     },
     "output_type": "display_data"
    }
   ],
   "source": [
    "import numpy as np\n",
    "import matplotlib.pyplot as plt\n",
    "\n",
    "%matplotlib inline\n",
    "\n",
    "# Create a dc sequence with added Gaussian noise.\n",
    "n, c = 32, 5.\n",
    "x = c + np.random.standard_normal(n)\n",
    "\n",
    "# Setup the k highest frequency components to remove.\n",
    "kths = [8, 24]\n",
    "\n",
    "# Store the inverse DFT associated with each k.\n",
    "xks = []\n",
    "\n",
    "for k in kths:\n",
    "\n",
    "    # Transform the sequence to frequency domain.\n",
    "    xfreq = np.fft.fft(x, n)\n",
    "\n",
    "    # Remove the kth high frequency components.\n",
    "    xfreq[-k:] = 0.\n",
    "    \n",
    "    # Transform the data back to the time domain.\n",
    "    xinv = np.fft.ifft(xfreq, n)\n",
    "    xks.append(xinv)\n",
    "\n",
    "# Plot approximate solution.\n",
    "t = np.linspace(0, 1, n)\n",
    "plt.plot(t, x, label='x(t) + $\\sigma$')\n",
    "for (k, xk) in zip(kths, xks):\n",
    "    plt.plot(t, xk.real, ls='-', label='x(t), -{0}th'.format(k))\n",
    "plt.axhline(c, linestyle=':', label='DC component')\n",
    "plt.title(\"Removing High Frequency Noise\")\n",
    "plt.ylabel('x')\n",
    "plt.xlabel('t')\n",
    "plt.grid()\n",
    "plt.legend()\n",
    "plt.show()"
   ]
  },
  {
   "cell_type": "markdown",
   "metadata": {},
   "source": [
    "Demonstrate use of FFT to perform 1D convolution of a random signal with a 4-point kernel $[1, 2, 2, 1]$."
   ]
  },
  {
   "cell_type": "code",
   "execution_count": 6,
   "metadata": {},
   "outputs": [],
   "source": [
    "import numpy as np\n",
    "\n",
    "nx1, nx2 = 32, 4\n",
    "x1, x2 = np.random.random(nx1), np.array([1,2,2,1], dtype=np.float64)\n",
    "\n",
    "# Zero pad the window to equal size of x1.\n",
    "x2pad = np.hstack((x2, np.zeros(nx1-nx2)))\n",
    "\n",
    "# Compute the DFT of the input sequences.\n",
    "x1fft, x2fft = np.fft.fft(x1, nx1), np.fft.fft(x2pad, nx1)\n",
    "\n",
    "# Compute the pointwise product in frequency domain.\n",
    "x1x2freq = x1fft * x2fft\n",
    "\n",
    "# Transform back to time domain.\n",
    "x1x2 = np.fft.ifft(x1x2freq, nx1)\n",
    "\n",
    "# Compute convolution only where signals overlap eg mode='valid'.\n",
    "expected = np.convolve(x1, x2, mode='valid')\n",
    "\n",
    "# Compare only the overlapping part of the sigals.\n",
    "np.testing.assert_almost_equal(x1x2[nx2-1:], expected)"
   ]
  },
  {
   "cell_type": "markdown",
   "metadata": {},
   "source": [
    "## 12.04 Wavelets"
   ]
  },
  {
   "cell_type": "markdown",
   "metadata": {},
   "source": [
    "Wavelet basis functions are improvement over sine and cosine for representing functions that change abruptly (eg sharp corners).\n",
    "\n",
    "**Mother Wavelet** (def.) Single function $\\phi(x)$ generated by dilation and translation, i.e., $\\phi((x-b)/a)$, where a and b are real numbers with $a \\neq 0$.\n",
    "\n",
    "Sparse Wavelet Basis \n",
    "* Wavelets are localized in frequency (by dilation) and time (by translation).\n",
    "* Fourier basis are localized in frequency but not time.\n",
    "\n",
    "#### Discrete Wavelet Transform\n",
    "* Analogous to the FFT.\n",
    "* Computed by pyramidal, hierarchical algorithm.\n",
    "* DWT requires $O(n)$ work compared to $O(n \\log n)$ for FFT.\n",
    "  * Sparsity of wavelet basis functions make it faster than FFT."
   ]
  },
  {
   "cell_type": "markdown",
   "metadata": {},
   "source": [
    "## Summary: Fast Fourier Transform"
   ]
  },
  {
   "cell_type": "markdown",
   "metadata": {},
   "source": [
    "* Sines and cosines are appropriate for representing cyclic phenomena.\n",
    "* DFT transforms input sequence to linear combination of sines and cosines.\n",
    "* FFT performs DFT in $O(n \\log n)$ work, provided input $n$ is power of 2.\n",
    "  * Compare to $O(n^2)$ for matrix-vector product form of DFT.\n",
    "* Wavelets are more effective for rapidly changing functions than DFT.\n",
    "* Discrete Wavelet Transform aka DWT requires $O(n)$ work."
   ]
  },
  {
   "cell_type": "code",
   "execution_count": null,
   "metadata": {},
   "outputs": [],
   "source": []
  }
 ],
 "metadata": {
  "kernelspec": {
   "display_name": "Python 3",
   "language": "python",
   "name": "python3"
  },
  "language_info": {
   "codemirror_mode": {
    "name": "ipython",
    "version": 3
   },
   "file_extension": ".py",
   "mimetype": "text/x-python",
   "name": "python",
   "nbconvert_exporter": "python",
   "pygments_lexer": "ipython3",
   "version": "3.6.7"
  }
 },
 "nbformat": 4,
 "nbformat_minor": 2
}
