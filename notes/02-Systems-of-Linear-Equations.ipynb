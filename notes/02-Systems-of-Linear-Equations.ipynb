{
 "cells": [
  {
   "cell_type": "markdown",
   "metadata": {},
   "source": [
    "# Systems of Linear Equations"
   ]
  },
  {
   "cell_type": "markdown",
   "metadata": {},
   "source": [
    "## 02.01 Systems of Linear Equations"
   ]
  },
  {
   "cell_type": "markdown",
   "metadata": {},
   "source": [
    "#### Matrix-Vector Product\n",
    "\n",
    "Think of $Ax=b$ as linear combination of the columns of A.\n",
    "\n",
    "$\n",
    "\\begin{align}\n",
    "Ax &=\n",
    "\\begin{bmatrix}\n",
    "a_{1,1} & a_{1,2} & \\cdots & a_{1,n} \\\\\n",
    "a_{2,1} & a_{2,2} & \\cdots & a_{2,n} \\\\\n",
    "\\vdots & \\vdots &  & \\vdots \\\\\n",
    "a_{m,1} & a_{m,2} & \\cdots & a_{m,n} \\\\\n",
    "\\end{bmatrix}\n",
    "\\begin{bmatrix}\n",
    "x_1 \\\\\n",
    "x_2 \\\\\n",
    "\\vdots \\\\\n",
    "x_n \\\\\n",
    "\\end{bmatrix} \\\\\n",
    "&= \n",
    "x_1\n",
    "\\begin{bmatrix}\n",
    "a_{1,1} \\\\\n",
    "\\vdots \\\\\n",
    "a_{m,1} \\\\\n",
    "\\end{bmatrix}\n",
    "+\n",
    "x_2\n",
    "\\begin{bmatrix}\n",
    "a_{1,2} \\\\\n",
    "\\vdots \\\\\n",
    "a_{m,2} \\\\\n",
    "\\end{bmatrix}\n",
    "+\n",
    "\\cdots\n",
    "+\n",
    "x_n\n",
    "\\begin{bmatrix}\n",
    "a_{1,n} \\\\\n",
    "\\vdots \\\\\n",
    "a_{m,n} \\\\\n",
    "\\end{bmatrix}\n",
    "\\end{align}\n",
    "$\n",
    "\n",
    "The following terms are equivalent:\n",
    "* span\n",
    "* column space\n",
    "* range\n",
    "\n",
    "**Def** For $A \\in \\mathbb{R}^{m \\times n}$, $\\text{span}(A) = \\{ Ax : x \\in \\mathbb{R}^n \\}$.\n",
    "* Span of a matrix is the set of all possible linear combinations.\n",
    "\n",
    "Solving a linear system $Ax =b$ is really asking the question: Is $b \\in \\text{span}(A)$?"
   ]
  },
  {
   "cell_type": "markdown",
   "metadata": {},
   "source": [
    "#### Singularity\n",
    "\n",
    "A matrix is **nonsingular** when:\n",
    "1. There exists $A^{-1}$ such that $AA^{-1} = A^{-1}A = I$\n",
    "2. $\\text{det}(A) \\neq 0$\n",
    "3. $\\text{rank}(A) = n$\n",
    "4. For any vector $z \\neq 0$, then $Az \\neq 0$.\n",
    "\n",
    "#### Uniqueness\n",
    "\n",
    "When A is **nonsingular**, then b must be unique.\n",
    "* Geometric interpretation: b is the intersection of the hyperplanes formed by the intersections of each of the equations that form A.\n",
    "\n",
    "| A | b | # solutions |\n",
    "| :-: | :-: | :-----------: |\n",
    "| nonsingular | arbitrary | 1 |\n",
    "| singular | system consistent eg $b \\in \\text{span}(A)$ | $\\infty$ |\n",
    "| singular | system not consistent eg $b \\notin \\text{span}(A)$ | 0 |"
   ]
  },
  {
   "cell_type": "markdown",
   "metadata": {},
   "source": [
    "Demonstrate that when $A$ is nonsingular, a unique solution exists for every abritrary $b$."
   ]
  },
  {
   "cell_type": "code",
   "execution_count": 45,
   "metadata": {},
   "outputs": [],
   "source": [
    "import numpy as np\n",
    "\n",
    "A = np.array([[2, 3],[5, 4]])\n",
    "assert(np.linalg.det(A) != 0.)  # A is nonsingular.\n",
    "\n",
    "# Since A is nonsingular, solution exists for arbitrary b.\n",
    "b = np.random.random(2)\n",
    "x = np.linalg.solve(A, b)\n",
    "np.testing.assert_almost_equal(np.matmul(A, x), b)  # Definition."
   ]
  },
  {
   "cell_type": "markdown",
   "metadata": {},
   "source": [
    "Demonstrate that when $A$ is singular, no solution exists for arbitrary $b$."
   ]
  },
  {
   "cell_type": "code",
   "execution_count": 46,
   "metadata": {},
   "outputs": [
    {
     "name": "stdout",
     "output_type": "stream",
     "text": [
      "expected:  Singular matrix\n"
     ]
    }
   ],
   "source": [
    "import numpy as np\n",
    "\n",
    "A = np.array([[2, 3],[4, 6]])\n",
    "assert(np.linalg.det(A) == 0.)  # A is singular.\n",
    "\n",
    "# Since A is singular, there is no **unique** solution.\n",
    "# NOTE: numpy returns error when there are infinite solutions.\n",
    "b = np.random.random(2)\n",
    "try:\n",
    "    x = np.linalg.solve(A, b)\n",
    "except np.linalg.LinAlgError as ex:\n",
    "    print(\"expected: \", ex)"
   ]
  },
  {
   "cell_type": "markdown",
   "metadata": {},
   "source": [
    "## 02.02 Norms and Condition Number"
   ]
  },
  {
   "cell_type": "markdown",
   "metadata": {},
   "source": [
    "#### Vector Norms\n",
    "\n",
    "The notion of **magnitude** generalizes to **norm** for vectors.\n",
    "$$\n",
    "||x||_p = \\left( \\sum_{i=1}^{n} |x_i|^p \\right)^{1/p}\n",
    "$$\n",
    "\n",
    "In general, for any vector $x \\in \\mathbb{R}$, then $ ||x||_1 \\leq ||x||_2 \\leq ||x||_{\\infty}$.\n",
    "\n",
    "Properties\n",
    "* Triange inequality $||x + y|| \\leq ||x|| + ||y||$."
   ]
  },
  {
   "cell_type": "markdown",
   "metadata": {},
   "source": [
    "Demonstrate p-norms with numpy."
   ]
  },
  {
   "cell_type": "code",
   "execution_count": 26,
   "metadata": {},
   "outputs": [
    {
     "name": "stdout",
     "output_type": "stream",
     "text": [
      "1-norm:    2.8\n",
      "2-norm:    2.0\n",
      "inf-norm:  1.6\n"
     ]
    }
   ],
   "source": [
    "import numpy as np\n",
    "\n",
    "# Demonstrate computation of p-norm for same vector.\n",
    "x = np.array([-1.6, 1.2])\n",
    "print(\"1-norm:   \", np.linalg.norm(x, ord=1))\n",
    "print(\"2-norm:   \", np.linalg.norm(x, ord=2))\n",
    "print(\"inf-norm: \", np.linalg.norm(x, ord=np.inf))"
   ]
  },
  {
   "cell_type": "markdown",
   "metadata": {},
   "source": [
    "#### Matrix Norms\n",
    "\n",
    "The notion of norms extends to matrices.\n",
    "\n",
    "$$\n",
    "||A|| = \\text{max}_{x \\neq 0} \\frac{||Ax||}{||x||}\n",
    "$$\n",
    "\n",
    "* Note that $Ax$ is a vector, thus $||Ax||$ will be a vector norm.\n",
    "* The ratio of $\\frac{||Ax||}{||x||}$ measures the amount of stretching that matrix $A$ applies to the vector $x$ from $A$.\n",
    "\n",
    "Properties\n",
    "* $||AB|| \\leq ||A|| \\cdot ||B||$."
   ]
  },
  {
   "cell_type": "markdown",
   "metadata": {},
   "source": [
    "#### Condition Number\n",
    "\n",
    "Matrix norms are used to define condition number.\n",
    "\n",
    "$$\n",
    "\\text{cond}(A) = ||A|| \\cdot ||A^{-1}|||\n",
    "$$\n",
    "\n",
    "* Larger values of $\\text{cond}(A)$ imply closer to singularity.\n",
    "* Conceptually, the more stretching that matrix $A$ applies, then the larger the condition number and closer to singular.\n",
    "\n",
    "Properties\n",
    "* For any matrix $A$, then $\\text{cond}(A) \\geq 1$.\n",
    "* For identity matrix $I$, then $\\text{cond}(I) = 1$.\n",
    "* For any matrix $A$ and scalar $\\gamma$, then $\\text{cond}(\\gamma A) = \\text{cond}(A)$\n",
    "* For any diagonal matrix $D$, then $\\text{cond}(D) = \\frac{\\text{max}|d_i|}{\\text{min}|d_i|}$."
   ]
  },
  {
   "cell_type": "markdown",
   "metadata": {},
   "source": [
    "Demonstrate condition number with numpy."
   ]
  },
  {
   "cell_type": "code",
   "execution_count": 41,
   "metadata": {},
   "outputs": [],
   "source": [
    "import numpy as np\n",
    "\n",
    "p = 2  # Use 2-norm as example.\n",
    "\n",
    "A = np.array([[2, -1, 1],[1, 0, 1],[3, -1, 4]])\n",
    "Ainv = np.linalg.inv(A)\n",
    "\n",
    "# Compute the norm of each matrix.\n",
    "normA = np.linalg.norm(A, ord=p)\n",
    "normAinv = np.linalg.norm(Ainv, ord=p)\n",
    "\n",
    "# Compute the condition number from norm and compare.\n",
    "condA = normA * normAinv\n",
    "np.testing.assert_almost_equal(condA, np.linalg.cond(A, p=p))\n",
    "\n",
    "# Compute the condition number of diagonal matrix and compare.\n",
    "D = np.diag(np.arange(1, 10))\n",
    "condD = np.max(np.diag(D)) / np.min(np.diag(D))\n",
    "np.testing.assert_almost_equal(condD, np.linalg.cond(D, p=p))"
   ]
  },
  {
   "cell_type": "markdown",
   "metadata": {},
   "source": [
    "## 02.03 Assessing Accuracy"
   ]
  },
  {
   "cell_type": "markdown",
   "metadata": {},
   "source": [
    "#### Error Bounds\n",
    "\n",
    "Let $x$ be solution to $Ax = b$ and $\\hat{x}$ be solution to $A\\hat{x} = b + \\Delta{b}$.\n",
    "\n",
    "Use $\\Delta{x} = \\hat{x} - x$ to bound the change in $x$ to the change in $b$.\n",
    "\n",
    "$$\n",
    "\\frac{||\\Delta{x}||}{||x||} \\leq \\text{cond}(A)\\frac{||\\Delta{b}||}{||b||}\n",
    "$$"
   ]
  },
  {
   "cell_type": "markdown",
   "metadata": {},
   "source": [
    "#### Residual\n",
    "\n",
    "Residual vector $r$ of approximate solution $\\hat{x}$ to $Ax=b$.\n",
    "\n",
    "$$\n",
    "r = b - A \\hat{x}\n",
    "$$\n",
    "\n",
    "* Useful as measure of error when $\\text{cond}(A)$ is small.\n",
    "* A small residual does not necessarily imply solution is accurate."
   ]
  },
  {
   "cell_type": "markdown",
   "metadata": {},
   "source": [
    "Demonstrate example where small residual and ill-conditioned matrix does not imply an accurate solution."
   ]
  },
  {
   "cell_type": "code",
   "execution_count": 61,
   "metadata": {},
   "outputs": [
    {
     "name": "stdout",
     "output_type": "stream",
     "text": [
      "condA:  12485.031415973846\n",
      "norm1:  0.000206163090780105\n",
      "norm2:  0.0017579968714420229\n",
      "deltax:  1.8499295364961637\n",
      "deltax:  0.0014142135623337656\n"
     ]
    }
   ],
   "source": [
    "import numpy as np\n",
    "\n",
    "# Consider an example with an ill-conditioned matrix A.\n",
    "A = np.array([[0.913, 0.659],[0.457, 0.330]])\n",
    "b = np.array([0.254, 0.127]).reshape(2, 1)\n",
    "\n",
    "print(\"condA: \", np.linalg.cond(A))\n",
    "\n",
    "# Consider two approximate solutions.\n",
    "xhat1 = np.array([-0.0827, 0.5]).reshape(2, 1)\n",
    "xhat2 = np.array([0.999, -1.001]).reshape(2, 1)\n",
    "\n",
    "# Compute the residual for each.\n",
    "resid1 = b - np.matmul(A, xhat1)\n",
    "resid2 = b - np.matmul(A, xhat2)\n",
    "\n",
    "# Since norm(resid1) < norm(resid2), \n",
    "# then we might think that xhat1 is better than xhat2.\n",
    "print(\"norm1: \", np.linalg.norm(resid1, ord=2))\n",
    "print(\"norm2: \", np.linalg.norm(resid2, ord=2))\n",
    "\n",
    "# True solution is [1, -1]^T and xhat2 is a better approximation.\n",
    "x = np.linalg.solve(A, b)\n",
    "print(\"deltax: \", np.linalg.norm(xhat1 - x, ord=2))\n",
    "print(\"deltax: \", np.linalg.norm(xhat2 - x, ord=2))"
   ]
  },
  {
   "cell_type": "markdown",
   "metadata": {},
   "source": [
    "## 02.04 Solving Linear Systems"
   ]
  },
  {
   "cell_type": "markdown",
   "metadata": {},
   "source": [
    "**General Approach** Replace a difficult problem by an easier one having the same or closely related solution.\n",
    "\n",
    "#### Linear Systems\n",
    "$$\n",
    "\\begin{aligned}\n",
    "Ax &= b \\\\\n",
    "MAx &= Mb \\\\\n",
    "x &= (MA)^{-1}Mb \\\\\n",
    "x &= A^{-1} M^{-1} Mb \\\\\n",
    "x &= A^{-1} Ib \\\\\n",
    "x &= A^{-1}b\n",
    "\\end{aligned}\n",
    "$$\n",
    "* Solution: Premultiply each side of $Ax = b$ by nonsingular matrix $M$.\n",
    "\n",
    "#### Permutations\n",
    "Let $P$ be the permutation matrix.\n",
    "* $P$ is an identity matrix with rows or columns permuted such that each row and column has exactly one cell with value of `1` and all other cells are `0`.\n",
    "* $PAx = Pb$ reorders rows, but solution $x$ unchanged.\n",
    "* $P^T = P^{-1}$ reverses permutation. \n",
    "\n",
    "#### Diagonal Scaling\n",
    "Let $D$ be a diagnonal matrix.\n",
    "* $DAx = Db$ multiplies each row by corresponding entry of $D$, but solution $x$ is unchanged.\n",
    "\n",
    "#### Triangular \n",
    "Let $U$ be an upper triangular system and $L$ be a lower triangular system.\n",
    "* $U$ can be solved by back substitution.\n",
    "$$\n",
    "x_i = \\frac{\\left( b_i - \\sum_{j=i+1}^{n} U_{ij}x_j \\right)}{U_{ii}} \\qquad i=n-1,\\cdots,1\n",
    "$$\n",
    "* $L$ can be solved by forward substitution.\n",
    "$$\n",
    "x_i = \\frac{\\left( b_i - \\sum_{j=1}^{i-1} L_{ij}x_j \\right)}{L_{ii}} \\qquad i=1,\\cdots,n\n",
    "$$\n",
    "* Any system can be permuted into $L$ or $U$ using $P$ and $D$.\n"
   ]
  },
  {
   "cell_type": "markdown",
   "metadata": {},
   "source": [
    "Demonstrate back substitution."
   ]
  },
  {
   "cell_type": "code",
   "execution_count": 75,
   "metadata": {},
   "outputs": [],
   "source": [
    "import numpy as np\n",
    "\n",
    "def backsubstitution(U, b):\n",
    "    \"\"\"\n",
    "    Perform backsubstitution to solve [U|b] for x.\n",
    "    \"\"\"\n",
    "    x = np.zeros((U.shape[1], b.shape[1]))\n",
    "\n",
    "    for i in range(U.shape[0]-1, -1, -1):\n",
    "        x[i] = (b[i] - np.sum(np.dot(U[i,i+1:], x[i+1:]))) / U[i,i]\n",
    "    \n",
    "    return x\n",
    "\n",
    "# Solve Ux = b for x.\n",
    "U = np.array([[2,4,-2],[0,1,1],[0,0,4]])\n",
    "b = np.array([2,4,8]).reshape(3,1)\n",
    "x = backsubstitution(U, b)\n",
    "np.testing.assert_almost_equal(x, np.array([-1,2,2]).reshape(3,1))"
   ]
  },
  {
   "cell_type": "markdown",
   "metadata": {},
   "source": [
    "Demonstrate forward substitution."
   ]
  },
  {
   "cell_type": "code",
   "execution_count": 83,
   "metadata": {},
   "outputs": [],
   "source": [
    "import numpy as np\n",
    "\n",
    "def forwardsubstitution(L, b):\n",
    "    \"\"\"\n",
    "    Perform forward substitution to solve [L|b] for x.\n",
    "    \"\"\"\n",
    "    x = np.zeros((L.shape[1], b.shape[1]))\n",
    "    \n",
    "    for i in range(U.shape[0]):\n",
    "        x[i] = (b[i] - np.sum(np.dot(L[i,:i], x[:i]))) / L[i,i]\n",
    "\n",
    "    return x\n",
    "\n",
    "# Solve Lx = b for x.\n",
    "L = np.array([[2,0,0],[-1,2,0],[1,-1,1]])\n",
    "b = np.array([28,-40,33]).reshape(3, 1)\n",
    "x = forwardsubstitution(L, b)\n",
    "np.testing.assert_almost_equal(x, np.array([14,-13,6]).reshape(3,1))"
   ]
  },
  {
   "cell_type": "markdown",
   "metadata": {},
   "source": [
    "## 02.05 Elementary Elimination Matrices"
   ]
  },
  {
   "cell_type": "markdown",
   "metadata": {},
   "source": [
    "Devise a nonsingular **linear transformation** that transforms linear system $Ax = b$ to a triangular system that we solve via substitution.\n",
    "\n",
    "In general any row can be eliminated by adding a multiple $m_i = \\frac{-a_i}{a_k}, i=k+1,\\cdots,n$ where $a_k$ is reffered to as the **pivot**.\n",
    "$$\n",
    "\\begin{bmatrix}\n",
    "1 & 0 \\\\\n",
    "\\frac{-a_2}{a_1} & 1 \\\\\n",
    "\\end{bmatrix}\n",
    "\\begin{bmatrix}\n",
    "a_1 \\\\\n",
    "a_2 \\\\\n",
    "\\end{bmatrix}\n",
    "=\n",
    "\\begin{bmatrix}\n",
    "a_1 \\\\\n",
    "0 \\\\\n",
    "\\end{bmatrix}\n",
    "$$"
   ]
  },
  {
   "cell_type": "markdown",
   "metadata": {},
   "source": [
    "## 02.06 LU Factorization by Gaussian Elimination"
   ]
  },
  {
   "cell_type": "markdown",
   "metadata": {},
   "source": [
    "#### Gaussian Elimination\n",
    "Gaussian elimination transforms the systems of equations described by $Ax = b$ to an equivalent system described by $Ux = c$ where $U$ is an upper triangular matrix.\n",
    "\n",
    "Solve.\n",
    "* Solve $Ux = c$ for $x$ by back substitution.\n",
    "\n",
    "#### LU Factorization\n",
    "LU factorization transforms the systems of equations described by $Ax = b$ to an equivalent system described by $LUx = b$ where $L$ is a lower triangular matrix and $U$ is an upper triangular matrix.\n",
    "\n",
    "Solve.\n",
    "* Solve $Ly = b$ for $y$ by forward substitution.\n",
    "* Solve $Ux = y$ for $x$ by back substitution.\n"
   ]
  },
  {
   "cell_type": "markdown",
   "metadata": {},
   "source": [
    "Demonstrate Gaussian elimination."
   ]
  },
  {
   "cell_type": "code",
   "execution_count": 95,
   "metadata": {},
   "outputs": [],
   "source": [
    "import numpy as np\n",
    "\n",
    "def gaussian_elimination(A, b):\n",
    "    \"\"\"\n",
    "    Use gaussian elimination to transform [A|b] to [U|c].\n",
    "    \"\"\"\n",
    "    for j in range(A.shape[1]):  # Columns.\n",
    "        for i in range(j+1, A.shape[0]):  # Rows.\n",
    "            m_i = -1.0 * A[i,j] / A[j,j]\n",
    "            A[i,:] += m_i * A[j,:]\n",
    "            b[i,:] += m_i * b[j,:]\n",
    "\n",
    "    return A, b\n",
    "\n",
    "# Transform Ab to Uc.\n",
    "A = np.array([[1,2,2],[4,4,2],[4,6,4]], dtype='d')\n",
    "b = np.array([3,6,10], dtype='d').reshape(3,1)\n",
    "A, b = gaussian_elimination(A, b)\n",
    "np.testing.assert_almost_equal(A, np.array([[1,2,2],[0,-4,-6],[0,0,-1]]))\n",
    "np.testing.assert_almost_equal(b, np.array([3,-6,1]).reshape(3,1))"
   ]
  },
  {
   "cell_type": "markdown",
   "metadata": {},
   "source": [
    "Demonstrate LU factorization."
   ]
  },
  {
   "cell_type": "code",
   "execution_count": 99,
   "metadata": {},
   "outputs": [],
   "source": [
    "import numpy as np\n",
    "\n",
    "def LU(A):\n",
    "    \"\"\"\n",
    "    Use LU factorization to transform [A] to [L|U].\n",
    "    \"\"\"\n",
    "    for j in range(A.shape[1]):  # Columns.\n",
    "        for i in range(j+1, A.shape[0]):  # Rows.\n",
    "            A[i,j] = A[i,j] / A[j,j]\n",
    "            A[i,j+1:] += -1.0 * A[i,j] * A[j,j+1:]\n",
    "    return A\n",
    "\n",
    "# Transform A to LU.\n",
    "A = np.array([[1,2,2],[4,4,2],[4,6,4]], dtype='d')\n",
    "A = LU(A)\n",
    "np.testing.assert_almost_equal(A, np.array([[1,2,2],[4,-4,-6],[4,0.5,-1]]))"
   ]
  },
  {
   "cell_type": "markdown",
   "metadata": {},
   "source": [
    "## 02.07 Pivoting"
   ]
  },
  {
   "cell_type": "markdown",
   "metadata": {},
   "source": []
  },
  {
   "cell_type": "markdown",
   "metadata": {},
   "source": [
    "## 02.08 Residual"
   ]
  },
  {
   "cell_type": "markdown",
   "metadata": {},
   "source": []
  },
  {
   "cell_type": "markdown",
   "metadata": {},
   "source": [
    "## 02.09 Implementing Gaussian Elimination"
   ]
  },
  {
   "cell_type": "markdown",
   "metadata": {},
   "source": []
  },
  {
   "cell_type": "markdown",
   "metadata": {},
   "source": [
    "## 02.10 Updating Solutions"
   ]
  },
  {
   "cell_type": "markdown",
   "metadata": {},
   "source": []
  },
  {
   "cell_type": "markdown",
   "metadata": {},
   "source": [
    "## 02.11 Improving Accuracy"
   ]
  },
  {
   "cell_type": "markdown",
   "metadata": {},
   "source": []
  },
  {
   "cell_type": "markdown",
   "metadata": {},
   "source": [
    "## 02.12 Special Types of Linear Systems"
   ]
  },
  {
   "cell_type": "markdown",
   "metadata": {},
   "source": []
  },
  {
   "cell_type": "markdown",
   "metadata": {},
   "source": [
    "## 02.13 Software Linear Systems"
   ]
  },
  {
   "cell_type": "markdown",
   "metadata": {},
   "source": []
  }
 ],
 "metadata": {
  "kernelspec": {
   "display_name": "Python 3",
   "language": "python",
   "name": "python3"
  },
  "language_info": {
   "codemirror_mode": {
    "name": "ipython",
    "version": 3
   },
   "file_extension": ".py",
   "mimetype": "text/x-python",
   "name": "python",
   "nbconvert_exporter": "python",
   "pygments_lexer": "ipython3",
   "version": "3.6.7"
  }
 },
 "nbformat": 4,
 "nbformat_minor": 2
}
