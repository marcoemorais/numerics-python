{
 "cells": [
  {
   "cell_type": "markdown",
   "metadata": {},
   "source": [
    "# Linear Least Squares"
   ]
  },
  {
   "cell_type": "markdown",
   "metadata": {},
   "source": [
    "## 03.01 Linear Least Squares"
   ]
  },
  {
   "cell_type": "markdown",
   "metadata": {},
   "source": [
    "#### Problem: Measurements Have Error\n",
    "* Measurement errors are inevitable\n",
    "* Variability can be smoothed out by averaging over more data\n",
    "* Resulting system is **overdetermined**\n",
    "  * More equations (rows) than unknowns (columns)\n",
    "\n",
    "#### Solution: Use Least Squares\n",
    "* Project higher dimensional data into lower dimensional space\n",
    "* Suppresses noise and irrelevant detail\n",
    "* Better written as $Ax \\approxeq b$\n",
    "  * Emphasis that $x$ is not exact solution\n",
    "* Solution minimizes squared 2-norm of residual\n",
    "  * $\\min_x ||r||_2^2 = \\min_x || b - Ax ||_2^2$\n",
    "\n",
    "\n",
    "What does *linear* mean?\n",
    "* If $f(t, x)$ is the function represented by $Ax = b$, then coefficients of $A$ are some power of $t$.\n",
    "$$\n",
    "f(t, x) = x_1 + x_2 t + x_3 t^2 + ... + x_n t^{n-1}\n",
    "$$\n",
    "* Non-linear counterexample.\n",
    "$$\n",
    "f(t, x) = x_1 + x_2 e^{t} + x_3 e^{t^2} + ... + x_n e^{t^{n-1}}\n",
    "$$\n"
   ]
  },
  {
   "cell_type": "markdown",
   "metadata": {},
   "source": [
    "Given $m$ data points $(t_i, y_i)$ find n-vector $x$ of parameters that gives best fit to model function $f(t, x)$."
   ]
  },
  {
   "cell_type": "code",
   "execution_count": 1,
   "metadata": {},
   "outputs": [],
   "source": [
    "import numpy as np\n",
    "\n",
    "# Input data $(t_i, y_i)$.\n",
    "m = 5\n",
    "t = np.linspace(-1., 1., m)\n",
    "y = np.array([1., 0.5, 0., 0.5, 2.]).reshape(m, 1)\n",
    "\n",
    "# Solve Ax = y for x.\n",
    "A = np.column_stack((np.ones(m), t, t*t))\n",
    "x, r, _, _ = np.linalg.lstsq(A, y, rcond=None)\n",
    "\n",
    "# Compute the squared 2-norm of the residual.\n",
    "resid = y - np.matmul(A, x)\n",
    "sq2norm = np.linalg.norm(resid, ord=2)**2\n",
    "\n",
    "# Compare to the residual returned from np.linalg.lstsq.\n",
    "np.testing.assert_almost_equal(sq2norm, r)"
   ]
  },
  {
   "cell_type": "markdown",
   "metadata": {},
   "source": [
    "Plot the observations against the fit."
   ]
  },
  {
   "cell_type": "code",
   "execution_count": 2,
   "metadata": {},
   "outputs": [
    {
     "data": {
      "image/png": "[encoded data removed]",
      "text/plain": [
       "<Figure size 432x288 with 1 Axes>"
      ]
     },
     "metadata": {
      "needs_background": "light"
     },
     "output_type": "display_data"
    }
   ],
   "source": [
    "import matplotlib.pyplot as plt\n",
    "\n",
    "%matplotlib inline\n",
    "\n",
    "# Fit the model to a dense 1D-grid of points from [-1, 1].\n",
    "fitn = m*20\n",
    "fitx = np.linspace(-1, 1, fitn)\n",
    "fitA = np.column_stack((np.ones(fitn), fitx, fitx*fitx))\n",
    "fity = np.matmul(fitA, x)\n",
    "\n",
    "# Plot the fitted model against observations.\n",
    "plt.scatter(t, y, s=16, c='dodgerblue', label='observations')\n",
    "plt.plot(fitx, fity, c='red', label='fit')\n",
    "plt.title('Observations vs. Fit')\n",
    "plt.ylabel('y')\n",
    "plt.xlabel('t')\n",
    "plt.legend(loc=0)  # Upper left corner.\n",
    "plt.show()"
   ]
  },
  {
   "cell_type": "markdown",
   "metadata": {},
   "source": [
    "## 03.02 Existence, Uniqueness, and Conditioning"
   ]
  },
  {
   "cell_type": "markdown",
   "metadata": {},
   "source": [
    "* Linear least squares problem $Ax \\approxeq b$ **always** has solution.\n",
    "* Solution unique IFF columns are linearly independent aka $\\text{rank}(A) = n$ where $A$ is $m \\times n$.\n",
    "\n",
    "#### Derivation\n",
    "* To minimize the squared 2-norm of residual we need to find the derivative and set to 0.\n",
    "$$\n",
    "\\begin{aligned}\n",
    "||r||_2^2 &= r^T r \\\\\n",
    "&= (b - Ax)^T (b - Ax) \\\\\n",
    "&= b^T b - 2 x^T A^T b + x^T A^T A x \\\\\n",
    "\\end{aligned}\n",
    "$$\n",
    "\n",
    "* The gradient of $||r||_2^2$ set equal to 0 is aka **normal equations**.\n",
    "$$\n",
    "\\begin{aligned}\n",
    "\\nabla(||r||_2^2) &= 0 \\\\\n",
    "2 A^T A x - 2 A^T b &= 0 \\\\\n",
    "A^T A x &= A^T b \n",
    "\\end{aligned}\n",
    "$$\n",
    "\n",
    "* Since $A^TA$ is square, we can use the techniques for solving systems of linear equations to solve linear least squares problems.\n",
    "\n",
    "#### Orthogonality\n",
    "* $v_1$ and $v_2$ are othogonal when $v_1^T v_2 = 0$.\n",
    "* Value of $y = Ax$ closest to solution $b$ occurs when residual $r = b - Ax$ is orthogonal to $\\text{span}(A)$.\n",
    "  * Project higher dimensional data $b$ ($m \\times 1$) into lower dimensional space $\\text{span}(A)$ (space spanned by columns $n$).\n",
    "* Angle between $y = Ax$ and $b$ computed as:\n",
    "  * $\\text{cos}(\\theta) = \\frac{||y||_2}{||b||_2}$\n",
    "\n",
    "\n",
    "#### Orthogonal Projectors\n",
    "* $P$ is an orthgonal projector when:\n",
    "  * $P^2 = P$ aka idempotent\n",
    "  * $P^T = P$ aka symmetric\n",
    "* We can decompose any vector $v$ into 2 components:\n",
    "  * Component in $\\text{span}(P)$\n",
    "  * Component in $\\text{span}(P)^{\\perp}$ aka orthogonal to $P$\n",
    "* For least squares $P$ is an orthogonal projector onto $\\text{span}(A)$.\n",
    "  * $P = A (A^T A)^{-1} A^T$\n",
    "\n",
    "#### Pseudoinverse\n",
    "* If $A$ is $m \\times n$ and $\\text{rank}(A) = n$, then pseudoinverse is defined as the inverse of the product of the matrix and its' transpose.\n",
    "  * $A^{+} = (A^T A)^{-1} A^T$\n",
    "* Condition number of $A$ defined using pseudoinverse:\n",
    "  * $\\text{cond}(A) = ||A||_2 \\cdot ||A^{+}||_2$\n",
    "* The angle between $y = Ax$ and $b$ also bounds the relative error:\n",
    "  * $\\frac{||\\Delta{x}||}{||x||} \\leq \\text{cond}(A) \\frac{1}{\\text{cos}(\\theta)} \\frac{||\\Delta{b}||}{||b||}$\n",
    "  * When the angle $\\theta$ is small, then $\\theta \\approxeq 0$ and value of $\\text{cos}(\\theta) \\approxeq 1$.  As a result, relative error will be small.\n",
    "  * When the angle $\\theta$ is big, then relative error will be large."
   ]
  },
  {
   "cell_type": "markdown",
   "metadata": {},
   "source": [
    "## 03.03 Solving Linear Least Squares Problems"
   ]
  },
  {
   "cell_type": "markdown",
   "metadata": {},
   "source": [
    "#### Normal Equations Method\n",
    "* If $A$ has rank $n$ then symmetric matrix $A^TA$ is positive definite.\n",
    "* Use cholesky factorization solve $Ax = b$ for $x$.\n",
    "  1. Premultiply both sides by $A^T$ to obtain $A^T A x = A^T b$.\n",
    "  2. Factorize $A^T A$ into $L L^T$ to obtain $L L^T x = A^T b$.\n",
    "  3. Solve $L z = A^Tb$ for $z$ using forward substitution.\n",
    "  4. Solve $L^T x = z$ for $x$ using back substitution.\n",
    "* This technique has problems in finite precision arithmetic.\n",
    "  * Computing $A^TA$ introduces roundoff.\n",
    "  * Sensitivity of solution is worsened.\n",
    "    * $\\text{cond}(A^T A) = [\\text{cond}(A)]^2$\n",
    "  * Normal equations method is **unstable** due to these introduced computational errors."
   ]
  },
  {
   "cell_type": "markdown",
   "metadata": {},
   "source": [
    "Solve $Ax = b$ for $x$ where $A$ is $m \\times n$ using cholesky factorization."
   ]
  },
  {
   "cell_type": "code",
   "execution_count": 3,
   "metadata": {},
   "outputs": [],
   "source": [
    "import math\n",
    "import numpy as np\n",
    "import scipy.linalg as la\n",
    "\n",
    "# Input data $(t_i, b_i)$.\n",
    "m = 5\n",
    "t = np.linspace(-1., 1., m)\n",
    "b = np.array([1., 0.5, 0., 0.5, 2.]).reshape(m, 1)\n",
    "A = np.column_stack((np.ones(m), t, t*t))\n",
    "\n",
    "# Premultiply the left and right hand side by A^T.\n",
    "ATA = np.matmul(A.T, A)\n",
    "ATb = np.matmul(A.T, b)\n",
    "\n",
    "# Factorize A^T A into L L^T.\n",
    "LLT = np.linalg.cholesky(ATA)\n",
    "\n",
    "# Solve Lz = A^Tb for z using forward substitution.\n",
    "z = la.solve_triangular(LLT, ATb, lower=True, unit_diagonal=False)\n",
    "\n",
    "# Solve L^Tx = z for x using back substitution.\n",
    "x = la.solve_triangular(LLT.T, z, lower=False, unit_diagonal=False)\n",
    "\n",
    "# Compute the squared 2-norm of the residual.\n",
    "resid = y - np.matmul(A, x)\n",
    "sq2norm = np.linalg.norm(resid, ord=2)**2\n",
    "\n",
    "# Compare to the residual returned from np.linalg.lstsq.\n",
    "_, r, _, _ = np.linalg.lstsq(A, b, rcond=None)\n",
    "np.testing.assert_almost_equal(sq2norm, r)"
   ]
  },
  {
   "cell_type": "markdown",
   "metadata": {},
   "source": [
    "## 03.04 Orthogonalization Methods"
   ]
  },
  {
   "cell_type": "markdown",
   "metadata": {},
   "source": [
    "* Matrix $Q$ is orthogonal if $Q^T Q = I$.\n",
    "* Columns of orthogonal matrix are orthonormal eg orthogonal unit vectors.\n",
    "* Multiplying vector by orthogonal matrix does not change its' 2-norm.\n",
    "  * $||Qv||_2^2 = ||v||_2^2$\n",
    "* Use orthogonalization method to solve $Ax = b$ for $x$.\n",
    "  * More computationally expensive than elimination.\n",
    "  * More numerically stable than normal equations method.\n",
    "  \n",
    "#### QR Factorization\n",
    "Given $m \\times n$ matrix $A$ find an $m \\times m$ matrix $Q$.\n",
    "$$\n",
    "A = Q\n",
    "\\begin{bmatrix}\n",
    "R \\\\\n",
    "0\n",
    "\\end{bmatrix}\n",
    "$$\n",
    "where\n",
    "  * Q is an $m \\times m$ orthogonal matrix\n",
    "  * R is an $n \\times n$ upper triangular matrix\n",
    "  * 0 is an $(m-n) \\times n$ zero matrix\n",
    "\n",
    "To compute QR factorization of $A$ use one of orthogonal transformations below.\n",
    "  * Householder transformations\n",
    "  * Givens rotations\n",
    "  * Gram-Schmidt orthogonalization"
   ]
  },
  {
   "cell_type": "markdown",
   "metadata": {},
   "source": [
    "Solve $Ax = b$ for $x$ where $A$ is $m \\times n$ using QR factorization via scipy."
   ]
  },
  {
   "cell_type": "code",
   "execution_count": 4,
   "metadata": {},
   "outputs": [],
   "source": [
    "import numpy as np\n",
    "import scipy.linalg as la\n",
    "\n",
    "# Input data $(t_i, b_i)$.\n",
    "m = 5\n",
    "t = np.linspace(-1., 1., m)\n",
    "b = np.array([1., 0.5, 0., 0.5, 2.]).reshape(m, 1)\n",
    "A = np.column_stack((np.ones(m), t, t*t))\n",
    "n = A.shape[1]\n",
    "\n",
    "# Factorize A into [R/0].\n",
    "Q, R = np.linalg.qr(A)\n",
    "\n",
    "# Apply the same transformations to b.\n",
    "c = np.matmul(Q.T, b)\n",
    "\n",
    "# Solve Rx = c for x by back substitution.\n",
    "# NOTE(mmorais): Both R and c must be square.\n",
    "x = la.solve_triangular(R[:n,:], c[:n], lower=False, unit_diagonal=False)\n",
    "\n",
    "# Compute the squared 2-norm of the residual.\n",
    "resid = y - np.matmul(A, x)\n",
    "sq2norm = np.linalg.norm(resid, ord=2)**2\n",
    "\n",
    "# Compare to the residual returned from np.linalg.lstsq.\n",
    "_, r, _, _ = np.linalg.lstsq(A, b, rcond=None)\n",
    "np.testing.assert_almost_equal(sq2norm, r)"
   ]
  },
  {
   "cell_type": "markdown",
   "metadata": {},
   "source": [
    "## 03.05 Householder QR Factorization"
   ]
  },
  {
   "cell_type": "markdown",
   "metadata": {},
   "source": [
    "Householder transformation of the vector $v$\n",
    "$$\n",
    "H = I - 2 \\frac{v v^T}{v^T v}\n",
    "$$\n",
    "where\n",
    "* H is orthogonal ($H^T H = I$) and symmetric ($H^T = H$)\n",
    "\n",
    "Given some vector $a$ choose $v$ as:\n",
    "$$\n",
    "v = a - \\alpha e_1\n",
    "$$\n",
    "where\n",
    "* $\\alpha = \\pm ||a||_2$ with sign chosen to avoid cancellation\n",
    "* $e_1$ is the standard basis vector of the form $[1 \\quad 0 \\cdots 0]^T$\n",
    "\n",
    "The householder transform of the vector $a$ is $Ha$ computed as:\n",
    "$$\n",
    "Ha = a - 2 \\frac{v^T a}{v^T v} v\n",
    "$$\n",
    "\n",
    "The householder transform of the vector $a$ will zero out all but 1 element."
   ]
  },
  {
   "cell_type": "markdown",
   "metadata": {},
   "source": [
    "Perform a Householder transformation on vector a."
   ]
  },
  {
   "cell_type": "code",
   "execution_count": 5,
   "metadata": {},
   "outputs": [],
   "source": [
    "import numpy as np\n",
    "\n",
    "a = np.array([2., 1., 2.]).reshape(3, 1)\n",
    "\n",
    "# Compute v = a - \\alpha e_1.\n",
    "alpha = np.linalg.norm(a, ord=2)\n",
    "alpha = -1. * alpha if np.sign(alpha) == 1 else alpha\n",
    "e_1 = np.zeros((a.size, 1))\n",
    "e_1[0] = 1.\n",
    "v = a - alpha * e_1\n",
    "\n",
    "# Compute H = I - 2 ((vv^T) / (v^Tv)).\n",
    "H = np.eye(a.size) - 2. * (np.dot(v, v.T)/np.dot(v.T, v))\n",
    "\n",
    "# Confirm that H is orthogonal.\n",
    "np.testing.assert_almost_equal(np.matmul(H.T, H), np.eye(a.size))\n",
    "\n",
    "# Confirm that H is symmetric.\n",
    "np.testing.assert_almost_equal(H.T, H)\n",
    "\n",
    "# Compute householder transform Ha and compare to explict Ha.\n",
    "Ha = a - 2. * (np.dot(v.T, a)/np.dot(v.T, v)) * v\n",
    "np.testing.assert_almost_equal(Ha, np.matmul(H, a))"
   ]
  },
  {
   "cell_type": "markdown",
   "metadata": {},
   "source": [
    "#### Linear Least Squares Using Householder QR Factorization\n",
    "1. Use Householder transforms to annihilate subdiagonal entries of each successive column.\n",
    "$$\n",
    "H_n \\cdots H_1 A = Q^T A =\n",
    "\\begin{bmatrix}\n",
    "R \\\\\n",
    "0\n",
    "\\end{bmatrix}\n",
    "$$\n",
    "  * Use the formula for $Ha$ to compute the *ith* transform rather than matrix multiplication.\n",
    "2. Apply the same set of transformations to right hand side $b$.\n",
    "$$\n",
    "H_n \\cdots H_1 b = Q^T b\n",
    "$$\n",
    "3. Solve for $x$ using backsubstitution.\n",
    "$$\n",
    "\\begin{bmatrix}\n",
    "R \\\\\n",
    "0\n",
    "\\end{bmatrix}\n",
    "x \\approxeq Q^T b\n",
    "$$\n"
   ]
  },
  {
   "cell_type": "markdown",
   "metadata": {},
   "source": [
    "Solve $Ax = b$ for $x$ where $A$ is $m \\times n$ using householder QR factorization."
   ]
  },
  {
   "cell_type": "code",
   "execution_count": 6,
   "metadata": {},
   "outputs": [],
   "source": [
    "import numpy as np\n",
    "import scipy.linalg as la\n",
    "\n",
    "def householder_qr(A):\n",
    "    \"\"\"\n",
    "    Use householder transformations to factorize A into [R/0].\n",
    "    \n",
    "    Return the householder vectors in the matrix Q.\n",
    "    \"\"\"\n",
    "    Q = np.zeros(A.shape)\n",
    "    for k in range(A.shape[1]):  # Columns.\n",
    "        alpha_k = -1. * np.sign(A[k,k]) * np.linalg.norm(A[k:,k], ord=2)\n",
    "        e_k = np.zeros((A.shape[0], 1))\n",
    "        e_k[k] = 1.\n",
    "        a_k = np.concatenate((e_k[:k], A[k:,k,np.newaxis]))\n",
    "        v_k = a_k - alpha_k * e_k\n",
    "        Q[:,k,np.newaxis] = v_k\n",
    "        beta_k = np.dot(v_k.T, v_k)\n",
    "        if abs(beta_k) < np.finfo('d').eps:\n",
    "            continue\n",
    "        for j in range(k, A.shape[1]):  # Columns.\n",
    "            gamma_j = np.dot(v_k.T, A[:,j])\n",
    "            A[:,j,np.newaxis] -= (2.*gamma_j/beta_k) * v_k\n",
    "    return Q, A\n",
    "\n",
    "\n",
    "def householder_mult(Q, b):\n",
    "    \"\"\"\n",
    "    Multiply the householder vectors from Q with the matrix b.\n",
    "    \"\"\"\n",
    "    for k in range(Q.shape[1]):\n",
    "        v = Q[:,k,np.newaxis]\n",
    "        b -= 2. * (np.dot(v.T, b)/np.dot(v.T, v)) * v\n",
    "    return b\n",
    "\n",
    "\n",
    "# Input data $(t_i, b_i)$.\n",
    "m = 5\n",
    "t = np.linspace(-1., 1., m)\n",
    "b = np.array([1., 0.5, 0., 0.5, 2.]).reshape(m, 1)\n",
    "A = np.column_stack((np.ones(m), t, t*t))\n",
    "n = A.shape[1]\n",
    "\n",
    "# Factorize A into [R/0].\n",
    "Q, R = householder_qr(np.copy(A))\n",
    "\n",
    "# Apply the householder transformation to b.\n",
    "c = householder_mult(Q, np.copy(b))\n",
    "\n",
    "# Solve Rx = c for x by back substitution.\n",
    "# NOTE(mmorais): Both R and c must be square.\n",
    "x = la.solve_triangular(R[:n,:], c[:n], lower=False, unit_diagonal=False)\n",
    " \n",
    "# Compute the squared 2-norm of the residual.\n",
    "resid = y - np.matmul(A, x)\n",
    "sq2norm = np.linalg.norm(resid, ord=2)**2\n",
    "\n",
    "# Compare to the residual returned from np.linalg.lstsq.\n",
    "_, r, _, _ = np.linalg.lstsq(A, b, rcond=None)\n",
    "np.testing.assert_almost_equal(sq2norm, r)"
   ]
  },
  {
   "cell_type": "markdown",
   "metadata": {},
   "source": [
    "## 03.06 Givens QR Factorization"
   ]
  },
  {
   "cell_type": "code",
   "execution_count": null,
   "metadata": {},
   "outputs": [],
   "source": []
  },
  {
   "cell_type": "markdown",
   "metadata": {},
   "source": [
    "## 03.07 Gram-Schmidt QR Factorization"
   ]
  },
  {
   "cell_type": "markdown",
   "metadata": {},
   "source": []
  },
  {
   "cell_type": "markdown",
   "metadata": {},
   "source": [
    "## 03.08 Rank Deficiency"
   ]
  },
  {
   "cell_type": "code",
   "execution_count": null,
   "metadata": {},
   "outputs": [],
   "source": []
  },
  {
   "cell_type": "markdown",
   "metadata": {},
   "source": [
    "## 03.09 Singular Value Decomposition"
   ]
  },
  {
   "cell_type": "code",
   "execution_count": null,
   "metadata": {},
   "outputs": [],
   "source": []
  },
  {
   "cell_type": "markdown",
   "metadata": {},
   "source": [
    "## 03.10 Comparison of Methods for Least Squares"
   ]
  },
  {
   "cell_type": "code",
   "execution_count": null,
   "metadata": {},
   "outputs": [],
   "source": []
  }
 ],
 "metadata": {
  "kernelspec": {
   "display_name": "Python 3",
   "language": "python",
   "name": "python3"
  },
  "language_info": {
   "codemirror_mode": {
    "name": "ipython",
    "version": 3
   },
   "file_extension": ".py",
   "mimetype": "text/x-python",
   "name": "python",
   "nbconvert_exporter": "python",
   "pygments_lexer": "ipython3",
   "version": "3.6.7"
  }
 },
 "nbformat": 4,
 "nbformat_minor": 2
}
