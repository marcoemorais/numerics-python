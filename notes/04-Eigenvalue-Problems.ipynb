{
 "cells": [
  {
   "cell_type": "markdown",
   "metadata": {},
   "source": [
    "# Eigenvalue Problems"
   ]
  },
  {
   "cell_type": "markdown",
   "metadata": {},
   "source": [
    "## 04.01 Eigenvalue Problems"
   ]
  },
  {
   "cell_type": "markdown",
   "metadata": {},
   "source": [
    "Given an $n \\times n$ matrix $A$, find scalar eigenvalue $\\lambda$ and nonzero eigenvector $x$ such that:\n",
    "$$\n",
    "Ax = \\lambda x\n",
    "$$\n",
    "\n",
    "* Note: $\\lambda$ might be complex, even when $A$ is real\n",
    "* Interpretation: Eigenvalues and eigenvectors decompose complex linear behavior into simpler actions.\n",
    "\n",
    "**Spectrum** $\\lambda(A)$ is set of all eigenvalues of $A$\n",
    "\n",
    "**Spectral Radius** $\\rho(A)$ is maximum absolute value eigenvalue"
   ]
  },
  {
   "cell_type": "markdown",
   "metadata": {},
   "source": [
    "Use numpy to compute eigenvalues and eigenvectors of some simple matrices."
   ]
  },
  {
   "cell_type": "code",
   "execution_count": 27,
   "metadata": {},
   "outputs": [],
   "source": [
    "import numpy as np\n",
    "\n",
    "# Diagonal matrix.\n",
    "A = np.array([1,0,0,2]).reshape(2,2)\n",
    "w, v = np.linalg.eig(A)\n",
    "# Confirm that Av = wv.\n",
    "np.testing.assert_almost_equal(np.matmul(A, v), w * v)\n",
    "# Confirm eigenvalues are equal to diagonal.\n",
    "np.testing.assert_almost_equal(w, np.diag(A))\n",
    "\n",
    "# Triangular matrix.\n",
    "A = np.array([1,1,0,2]).reshape(2,2)\n",
    "w, v = np.linalg.eig(A)\n",
    "np.testing.assert_almost_equal(np.matmul(A, v), w * v)\n",
    "# Confirm eigenvalues are equal to diagonal.\n",
    "np.testing.assert_almost_equal(w, np.diag(A))\n",
    "\n",
    "# Symmetric matrix.\n",
    "A = np.array([3,-1,-1,3]).reshape(2,2)\n",
    "w, v = np.linalg.eig(A)\n",
    "np.testing.assert_almost_equal(np.matmul(A, v), w * v)\n",
    "\n",
    "# Symmetric matrix.\n",
    "A = np.array([1.5,0.5,0.5,1.5]).reshape(2,2)\n",
    "w, v = np.linalg.eig(A)\n",
    "np.testing.assert_almost_equal(np.matmul(A, v), w * v)\n",
    "\n",
    "# Complex matrix.\n",
    "A = np.array([0,1,-1,0]).reshape(2,2)\n",
    "w, v = np.linalg.eig(A)\n",
    "np.testing.assert_almost_equal(np.matmul(A, v), w * v)"
   ]
  },
  {
   "cell_type": "markdown",
   "metadata": {},
   "source": [
    "## 04.02 Characteristic Polynomial and Multiplicity"
   ]
  },
  {
   "cell_type": "markdown",
   "metadata": {},
   "source": [
    "The eigenvalue problem can be rewritten as $A$ with the eigenvalues $\\lambda$ subtracted from the diagonal.\n",
    "$$\n",
    "(A - \\lambda I) x = 0\n",
    "$$\n",
    "\n",
    "In order for the eigenvectors $x$ from the equation above to be nonsingular, then the matrix $(A - \\lambda I)$ must be singular. The determinant of $(A - \\lambda I)$ is known as the **characteristic equation** of the matrix $A$.\n",
    "$$\n",
    "\\text{det}(A - \\lambda I) = 0\n",
    "$$\n",
    "\n",
    "$$\n",
    "=\n",
    "\\begin{bmatrix}\n",
    "a - \\lambda & b \\\\\n",
    "c & d - \\lambda \\\\\n",
    "\\end{bmatrix}\n",
    "\\\\\n",
    "= (a - \\lambda) (d - \\lambda) - bc \\\\\n",
    "= \\lambda^2 - (a + d) \\lambda + (ad - bc)\n",
    "$$\n",
    "where\n",
    "* $(a + d)$ is the trace of the matrix $A$\n",
    "* $(ad - bc)$ is the determinant of the matrix $A$\n",
    "\n",
    "In other words, the eigenvalues of $A$ are the roots of the **characteristic equation**.\n",
    "* Useful theoretical tool, but not useful numerically.\n",
    "\n",
    "#### Companion Matrix\n",
    "For any polynomial, there is an associated matrix whose eigenvalues are the roots of the polynomial.\n",
    "* The polynomial is referred to as **monic**.\n",
    "* The matrix is referred to as **companion matrix**.\n",
    "* The companion matrix has value 1 on the subdiagonal and coefficients of the polynomial in the last column of the matrix.\n",
    "\n",
    "#### Multiplicity\n",
    "Number of times root appears when polynomial is written as product of linear factors.\n",
    "* Defective matrix has eigenvalue of multiplicity $k \\gt 1$ with fewer than $k$ linearly independent corresponding eigenvectors.\n",
    "\n",
    "#### Diagonalizable\n",
    "Nondefective matrix $A$ with $n$ linearly independent eigenvectors has the similarity transform:\n",
    "$$\n",
    "\\begin{aligned}\n",
    "AX &= XD \\\\\n",
    "X^{-1}AX &= D\n",
    "\\end{aligned}\n",
    "$$\n",
    "where\n",
    "* $D$ is a diagonal matrix with $\\lambda_1 \\cdots \\lambda_n$ along diagonal\n",
    "* $X$ is a matrix formed from the set of linearly independent eigenvectors $x_1 \\cdots x_n$\n",
    "\n",
    "#### Uniqueness\n",
    "Eigenvectors are not unique since they can be scaled arbitrarily.  As a result, eigenvectors are typically normalized to unit vector.\n",
    "\n",
    "Eigenspace, $S_{\\lambda}$, is the set of all eigenvectors such that $Ax = \\lambda x$.\n",
    "* $S_{\\lambda}$ is a subspace of $\\mathbb{R}^n$ or $\\mathbb{C}^n$"
   ]
  },
  {
   "cell_type": "markdown",
   "metadata": {},
   "source": [
    "## 04.03 Relevant Properties of Matrices"
   ]
  },
  {
   "cell_type": "markdown",
   "metadata": {},
   "source": [
    "Properties Relevant to eigenvalue problems\n",
    "* diagonal\n",
    "* tridiagonal\n",
    "  * elements above the first superdiagonal and below the first subdiagonal are 0\n",
    "* triangular\n",
    "* Hessenberg\n",
    "  * like a triangular matrix, except either first superdiagonal or first subdiagonal are also nonzero\n",
    "* orthogonal\n",
    "  * $A^T A = A A^T = I$ where columns are orthonormal\n",
    "* unitary\n",
    "  * $A^H A = A A^H = I$ where $H$ is the conjugate transpose\n",
    "  * complex analogue to orthogonal\n",
    "* symmetric\n",
    "  * $A = A^T$\n",
    "* Hermitian\n",
    "  * $A = H^H$\n",
    "  * complex analogue to transpose\n",
    "* normal\n",
    "  * $A^H A = A A^H$ \n",
    "  * eigenvectors are orthogonal"
   ]
  },
  {
   "cell_type": "markdown",
   "metadata": {},
   "source": [
    "## 04.04 Conditioning of Eigenvalue Problems"
   ]
  },
  {
   "cell_type": "markdown",
   "metadata": {},
   "source": [
    "Conditioning refers to the sensitivity of the eigenvalues and eigenvectors to changes in matrix.\n",
    "* Previously we looked at conditioning as a property of a matrix, but for eigenvalue problems it is a property of the eigenvectors.\n",
    "\n",
    "For normal matrix $A^H A = A A^H$ eigenvectors are orthogonal and eigenvalues are well-conditioned."
   ]
  },
  {
   "cell_type": "markdown",
   "metadata": {},
   "source": [
    "Check properties and conditioning of an example matrix with numpy."
   ]
  },
  {
   "cell_type": "code",
   "execution_count": 51,
   "metadata": {},
   "outputs": [
    {
     "name": "stdout",
     "output_type": "stream",
     "text": [
      "eigenvalues:  [1. 2. 3.]\n",
      "is_normal:  False\n",
      "cond(v):  1288.943965937134\n"
     ]
    }
   ],
   "source": [
    "import numpy as np\n",
    "\n",
    "A = np.array([-149,-50,-154,537,180,546,-27,-9,-25]).reshape(3,3)\n",
    "\n",
    "# Compute the eigenvalues and right eigenvector.\n",
    "w, v = np.linalg.eig(A)\n",
    "print(\"eigenvalues: \", w)\n",
    "\n",
    "# Since eigenvalues are distinct, A is diagonalizable.\n",
    "# A X = X D where D is the diagonal matrix formed from eigenvalues.\n",
    "np.testing.assert_almost_equal(np.matmul(A, v), np.matmul(v, np.diag(w)))\n",
    "\n",
    "# Check whether A is normal.\n",
    "is_normal = np.equal(np.matmul(A.T, A), np.matmul(A, A.T))\n",
    "print(\"is_normal: \", np.all(is_normal))\n",
    "\n",
    "# Check the condition number of the right eigenvector.\n",
    "# If value is large, then eigenvalues are sensitive to perturbations in A.\n",
    "print(\"cond(v): \", np.linalg.cond(v))"
   ]
  },
  {
   "cell_type": "markdown",
   "metadata": {},
   "source": [
    "## 04.05 Computing Eigenvalues and Eigenvectors"
   ]
  },
  {
   "cell_type": "markdown",
   "metadata": {},
   "source": [
    "#### Problem Transformations\n",
    "* Shift\n",
    "  * If $Ax = \\lambda x$ and $\\sigma$ is a scalar, then $(A - \\sigma I) x = (\\lambda - \\sigma) x$.\n",
    "  * Eigenvalues of shifted matrix are shifted eigenvalues of original matrix.\n",
    "* Inversion\n",
    "  * If $A$ is nonsingular and $Ax = \\lambda x$ with $x \\neq 0$, then $A^{-1}x = \\frac{1}{\\lambda}x$.\n",
    "* Powers\n",
    "  * If $Ax = \\lambda x$, then $A^k x = \\lambda^k x$\n",
    "* Polynomial\n",
    "  * If $Ax = \\lambda x$ and $p(t)$ is a polynomial, then $p(A)x = p(\\lambda)x$\n",
    "* Similarity\n",
    "  * $B$ is similar to $A$ if there is a nonsingular matrix $T$ such that $B = T^{-1} A T$.\n",
    "  * $A$ and $B$ will have the same eigenvalues.\n",
    "  * If $y$ is an eigenvector of $B$, then $x = Ty$ is an eigenvector of $A$.\n",
    "\n",
    "Why are similarity transforms useful?\n",
    "* $X^{-1} A X = D$ yields diagonal matrix $D$\n",
    "* $D$ has eigenvalues along diagonal\n",
    "* $X$ has eigenvectors as columns of an identity matrix\n",
    "* Not all matrices are diagonalizable by similarity transformation.\n",
    "\n",
    "#### Forms Attainable By Similarity\n",
    "$B$ is similar to $A$ if there is a nonsingular matrix $T$ such that $B = T^{-1} A T$.\n",
    "\n",
    "| A | T | B |\n",
    "|---|---|---|\n",
    "| distinct eigenvalues | nonsingular | diagonal |\n",
    "| real symmetric | orthogonal | real diagonal |\n",
    "| complex Hermitian | unitary | real diagonal |\n",
    "| normal | unitary | diagonal |\n",
    "| arbitrary real | orthogonal | real block triangular |\n",
    "| arbitrary | unitary | upper triangular |\n",
    "| arbitrary | nonsingular | almost diagonal (Jordan) |"
   ]
  },
  {
   "cell_type": "markdown",
   "metadata": {},
   "source": [
    "## 04.06 Power Iteration"
   ]
  },
  {
   "cell_type": "markdown",
   "metadata": {},
   "source": []
  },
  {
   "cell_type": "markdown",
   "metadata": {},
   "source": [
    "## 04.07 Inverse and Rayleigh Quotient Iterations"
   ]
  },
  {
   "cell_type": "markdown",
   "metadata": {},
   "source": []
  },
  {
   "cell_type": "markdown",
   "metadata": {},
   "source": [
    "## 04.08 Deflation"
   ]
  },
  {
   "cell_type": "markdown",
   "metadata": {},
   "source": []
  },
  {
   "cell_type": "markdown",
   "metadata": {},
   "source": [
    "## 04.09 QR Iteration"
   ]
  },
  {
   "cell_type": "markdown",
   "metadata": {},
   "source": []
  },
  {
   "cell_type": "markdown",
   "metadata": {},
   "source": [
    "## 04.10 Krylov Subspace Methods"
   ]
  },
  {
   "cell_type": "markdown",
   "metadata": {},
   "source": []
  },
  {
   "cell_type": "markdown",
   "metadata": {},
   "source": [
    "## 04.11 Jacobi Method"
   ]
  },
  {
   "cell_type": "markdown",
   "metadata": {},
   "source": []
  },
  {
   "cell_type": "markdown",
   "metadata": {},
   "source": [
    "## 04.12 Other Methods for Symmetric Matrices"
   ]
  },
  {
   "cell_type": "markdown",
   "metadata": {},
   "source": []
  },
  {
   "cell_type": "markdown",
   "metadata": {},
   "source": [
    "## 04.13 Generalized Eigenvalue Problems and SVD"
   ]
  },
  {
   "cell_type": "markdown",
   "metadata": {},
   "source": []
  }
 ],
 "metadata": {
  "kernelspec": {
   "display_name": "Python 3",
   "language": "python",
   "name": "python3"
  },
  "language_info": {
   "codemirror_mode": {
    "name": "ipython",
    "version": 3
   },
   "file_extension": ".py",
   "mimetype": "text/x-python",
   "name": "python",
   "nbconvert_exporter": "python",
   "pygments_lexer": "ipython3",
   "version": "3.6.7"
  }
 },
 "nbformat": 4,
 "nbformat_minor": 2
}
