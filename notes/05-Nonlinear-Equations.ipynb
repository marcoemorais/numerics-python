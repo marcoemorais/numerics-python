{
 "cells": [
  {
   "cell_type": "markdown",
   "metadata": {},
   "source": [
    "# Nonlinear Equations"
   ]
  },
  {
   "cell_type": "markdown",
   "metadata": {},
   "source": [
    "## 05.01 Nonlinear Equations"
   ]
  },
  {
   "cell_type": "markdown",
   "metadata": {},
   "source": [
    "Given a function f, we seek a value $x$, known as **root** or **zero** of f, for which\n",
    "$$\n",
    "f(x) = 0\n",
    "$$\n",
    "\n",
    "Two cases.\n",
    "1. Single nonlinear equation in one unknown, $x$ is a scalar $f: \\mathbb{R} \\rightarrow \\mathbb{R}$\n",
    "\n",
    "Example:\n",
    "$$\n",
    "x^2 - 4 sin(x) = 0\n",
    "$$\n",
    "\n",
    "2. System of $n$ coupled nonlinear equations in $n$ unknowns, $x$ is vector\n",
    "$f: \\mathbb{R}^n \\rightarrow \\mathbb{R}^n$\n",
    "\n",
    "Example:\n",
    "$$\n",
    "\\begin{aligned}\n",
    "x_1^2 - x_2 + 0.25 &= 0 \\\\\n",
    "-x_1 + x_2^2 + 0.25 &= 0\n",
    "\\end{aligned}\n",
    "$$\n",
    "\n",
    "Note: Finding $f(x) = 0$ for overdetermined systems, $m \\gt n$, is covered by the chapter on optimization. "
   ]
  },
  {
   "cell_type": "markdown",
   "metadata": {},
   "source": [
    "## 05.02 Existence, Uniqueness, and Conditioning"
   ]
  },
  {
   "cell_type": "markdown",
   "metadata": {},
   "source": [
    "**Bracket** is interval \\[a, b\\] for which sign of $f$ differs at $f(a)$ and $f(b)$.\n",
    "* *Intermediate Value Theorem* if $f$ is continuous and sign($f(a)$) $\\neq$ sign($f(b)$), then there exists some $x$ such that f(x) = 0.\n",
    "\n",
    "#### Conditioning\n",
    "Basic premise: If the function $f$ is insensitive to the value of the argument $x$, then the root will be sensitive.\n",
    "\n",
    "Two cases.\n",
    "1. $f: \\mathbb{R} \\rightarrow \\mathbb{R}$ with solution $x^*$\n",
    "$$\n",
    "\\text{cond}(f) = 1 / f'(x^*)\n",
    "$$\n",
    "  * Root is ill-conditioned if $f'(x^*) = 0$ eg horizontal.\n",
    "\n",
    "2. $f: \\mathbb{R}^n \\rightarrow \\mathbb{R}^n$ with solution $x^*$\n",
    "$$\n",
    "\\text{cond}(f) = ||J_f^{-1}(x^*)|| = \\partial{f_i(x)} / \\partial{x_j}\n",
    "$$\n",
    "  * The matrix $J_f$ is known as **Jacobian** aka matrix of partial derivatives.\n",
    "  * Root is ill-conditioned if $J_f$ is singular.\n",
    "\n",
    "#### Residual\n",
    "Useful as measure of error when root is not ill-conditioned.\n",
    "\n",
    "A small residual does not necessarily imply solution is accurate."
   ]
  },
  {
   "cell_type": "markdown",
   "metadata": {},
   "source": [
    "## 05.03 Convergence of Iterative Methods"
   ]
  },
  {
   "cell_type": "markdown",
   "metadata": {},
   "source": [
    "#### Iterative Methods\n",
    "**Error** at iteration $k$ is given by $e_k$:\n",
    "$$\n",
    "e_k = x_k - x^*\n",
    "$$\n",
    "where\n",
    "* $x_k$ is approximate solution at iteration $k$\n",
    "  * For methods which maintain an interval rather than single point, then $x_k$ is the length of the interval and $x^*$ is zero.\n",
    "* $x^*$ is true solution\n",
    "\n",
    "**Convergence** given by some rate $r$:\n",
    "$$\n",
    "\\lim\\limits_{k->\\inf} \\frac{||e_{k+1}||}{||e_k||^r} = C\n",
    "$$\n",
    "where\n",
    "* $C$ is a nonzero constant describing the change from one iteration to the next\n",
    "\n",
    "|  convergence rate $r$ | description | accuracy gained per iteration |\n",
    "|-----------------------|-------------|-------------------------------|\n",
    "| $r = 1$ | linear | constant |\n",
    "| $1 \\lt r \\lt 2$ | superlinear | increasing |\n",
    "| $r = 2$ | quadratic | double |\n",
    "\n",
    "**Stopping Criteria** describe conditions for terminating iteration. Typical choices include:\n",
    "1. Relative change in successive iterates is small.\n",
    "$$\n",
    "||x_{k+1} - x_k|| / ||x_k|| \\lt \\epsilon\n",
    "$$\n",
    "2. Residual is small.\n",
    "$$\n",
    "||f(x_k)|| \\lt \\epsilon\n",
    "$$\n",
    "\n",
    "These quantities are not necessarily small simultaneously depending on the problem conditioning."
   ]
  },
  {
   "cell_type": "markdown",
   "metadata": {},
   "source": [
    "## 05.04 Bisection Method in 1D"
   ]
  },
  {
   "cell_type": "markdown",
   "metadata": {},
   "source": [
    "Bisection method begins with bracket given by $[a, b]$, repeatedly halving the interval until solution is found to some particular accuracy.\n",
    "1. Compute the value of $f$ at midpoint $m$ of the bracket $[a, b]$.\n",
    "2. If sign(f(a)) $\\neq$ sign(f(m)), then $b = m$, else $a = m$.\n",
    "3. Repeat while $b - a \\gt \\epsilon$.\n",
    "\n",
    "Pros\n",
    "* Certain to converge\n",
    "* Simple, only makes use of sign of function, not magnitude\n",
    "\n",
    "Cons\n",
    "* Convergence is linear ($r = 1, C = 0.5$) which is slow\n",
    "  * One bit of accuracy gained for each iteration"
   ]
  },
  {
   "cell_type": "markdown",
   "metadata": {},
   "source": [
    "Find the root of the scalar function $x^2 - 4 \\sin(x) = 0$ using bisection method."
   ]
  },
  {
   "cell_type": "code",
   "execution_count": 1,
   "metadata": {},
   "outputs": [
    {
     "name": "stdout",
     "output_type": "stream",
     "text": [
      "root:  1.9337537628270212\n"
     ]
    }
   ],
   "source": [
    "import math\n",
    "import numpy as np\n",
    "\n",
    "def bisection1d(fx, a, b, eps=np.finfo('d').eps):\n",
    "    \"\"\"\n",
    "    Compute the root of fx over some interval [a, b].\n",
    "    \"\"\"\n",
    "    while abs(b - a) > eps:\n",
    "        m = a + (b - a) / 2.\n",
    "        if np.sign(fx(a)) != np.sign(fx(m)):\n",
    "            b = m\n",
    "        else:\n",
    "            a = m\n",
    "    return a\n",
    "\n",
    "\n",
    "def fx(x):\n",
    "    return x*x - 4. * math.sin(x)\n",
    "\n",
    "\n",
    "root = bisection1d(fx, a=1., b=3.)\n",
    "print(\"root: \", root)\n",
    "\n",
    "# Compare the value at root to 0.\n",
    "np.testing.assert_almost_equal(fx(root), 0.)"
   ]
  },
  {
   "cell_type": "markdown",
   "metadata": {},
   "source": [
    "## 05.05 Fixed-Point Iteration in 1D"
   ]
  },
  {
   "cell_type": "markdown",
   "metadata": {},
   "source": [
    "**Fixed point** of a function $g$ is a value $x$ such that $x = g(x)$.\n",
    "* Iterative methods for nonlinear equations use fixed-point scheme:\n",
    "$$\n",
    "x_{k+1} = g(x_k)\n",
    "$$\n",
    "* For some nonlinear equation $f(x) = 0$ there can be **multiple equivalent** choices for $g$.\n",
    "\n",
    "Examples, let $f(x) = x^2 - x - 2$ so that $f(2) = 0$\n",
    "1. $g(x) = x^2 - 2$ and $g(2) = 2$\n",
    "2. $g(x) = 1 + 2/x$ and $g(2) = 2$\n",
    "3. $g(x) = \\sqrt{x + 2}$ and $g(2) = 2$"
   ]
  },
  {
   "cell_type": "markdown",
   "metadata": {},
   "source": [
    "## 05.06 Newton's Method in 1D"
   ]
  },
  {
   "cell_type": "markdown",
   "metadata": {},
   "source": [
    "#### Truncated Taylor Series\n",
    "The function $f(x + h)$ is a linear function of $h$ that approximates $f$ near $x$.\n",
    "$$\n",
    "f(x + h) \\approxeq f(x) + f'(x) h\n",
    "$$\n",
    "\n",
    "#### Newton's Method\n",
    "1. Start with some initial guess $x_0$.\n",
    "2. Compute $x_{k+1} = x_k - \\frac{f(x_k)}{f'(x_k)}$.\n",
    "3. Repeat the previous step until some stopping criteria is reached.\n",
    "\n",
    "\n",
    "**Convergence**\n",
    "\n",
    "Transform $f(x) = 0$ to the fixed point problem $g(x) = x - f(x) / f'(x)$.\n",
    "* Convergence rate is quadratic $(r = 2)$.\n",
    "* The initial guess, $x_0$, must be close to $f(x) = 0$ in order to converge.\n",
    "* Unlike bisection, Newton's method is **not** guaranteed to converge."
   ]
  },
  {
   "cell_type": "markdown",
   "metadata": {},
   "source": [
    "Find the root of scalar function $x^2 - 4 \\sin(x) = 0$ using Newton's method."
   ]
  },
  {
   "cell_type": "code",
   "execution_count": 2,
   "metadata": {},
   "outputs": [
    {
     "name": "stdout",
     "output_type": "stream",
     "text": [
      "root:  1.9337537628270212\n"
     ]
    }
   ],
   "source": [
    "import math\n",
    "import numpy as np\n",
    "\n",
    "def newton1d(fx, dfx, x0, eps=np.finfo('d').eps):\n",
    "    \"\"\"\n",
    "    Compute the root of fx near x0.\n",
    "    \"\"\"\n",
    "    xk, fxk, hk = x0, 1., 1.\n",
    "    # Stop iteration when hk = 0 or fx = 0.\n",
    "    while abs(hk)/abs(xk) > eps or abs(fxk) > eps:\n",
    "        fxk = fx(xk)\n",
    "        hk = -1. * fxk / dfx(xk)\n",
    "        xk = xk + hk\n",
    "    return xk\n",
    "\n",
    "\n",
    "def fx(x):\n",
    "    return x*x - 4. * math.sin(x)\n",
    "\n",
    "def dfx(x):\n",
    "    return 2.*x - 4. * math.cos(x)\n",
    "\n",
    "\n",
    "root = newton1d(fx, dfx, x0=3., eps=1e-7)\n",
    "print(\"root: \", root)\n",
    "\n",
    "# Compare the value at root to 0.\n",
    "np.testing.assert_almost_equal(fx(root), 0.)"
   ]
  },
  {
   "cell_type": "code",
   "execution_count": null,
   "metadata": {},
   "outputs": [],
   "source": []
  }
 ],
 "metadata": {
  "kernelspec": {
   "display_name": "Python 3",
   "language": "python",
   "name": "python3"
  },
  "language_info": {
   "codemirror_mode": {
    "name": "ipython",
    "version": 3
   },
   "file_extension": ".py",
   "mimetype": "text/x-python",
   "name": "python",
   "nbconvert_exporter": "python",
   "pygments_lexer": "ipython3",
   "version": "3.6.7"
  }
 },
 "nbformat": 4,
 "nbformat_minor": 2
}
