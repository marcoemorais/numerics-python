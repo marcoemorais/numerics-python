{
 "cells": [
  {
   "cell_type": "markdown",
   "metadata": {},
   "source": [
    "# Interpolation"
   ]
  },
  {
   "cell_type": "markdown",
   "metadata": {},
   "source": [
    "## 07.01 Interpolation"
   ]
  },
  {
   "cell_type": "markdown",
   "metadata": {},
   "source": [
    "Given input data such as:\n",
    "$$\n",
    "(t_1, y_1), (t_2, y_2), \\cdots, (t_m, y_m) \\quad t_1 < t_2 < \\cdots < t_m\n",
    "$$\n",
    "\n",
    "determine a function $f : \\mathbb{R} \\rightarrow \\mathbb{R}$ such that:\n",
    "$$\n",
    "f(t_i) = y_i \\quad i = 1, \\cdots, m\n",
    "$$\n",
    "\n",
    "$f$ is referred to as **interpolating function**\n",
    "\n",
    "Additional constraints might be imposed:\n",
    "* smoothness\n",
    "* monotonicity\n",
    "* convexity\n",
    "\n",
    "Use cases:\n",
    "* graaphics or plotting\n",
    "* differentiating or integrating \n",
    "* replacing complex function with simpler one\n",
    "\n",
    "#### Interpolation vs. Approximation\n",
    "Interpolation fits given input data points **exactly** whereas approximation does not.\n",
    "\n",
    "Example of approximation: Smooth noisy data using least squares.\n",
    "\n",
    "#### Basis Functions\n",
    "Family of functions for interpolating data points spanned by a set of basis functions $\\phi_1(t), \\cdots, \\phi_n(t)$.\n",
    "\n",
    "Interpolating function $f$ is linear combination of basis functions:\n",
    "$$\n",
    "f(t_i) = \\sum_{j=1}^{n} x_j \\phi_j (t_i) = y_i\n",
    "$$\n",
    "where\n",
    "* $x$ is an n-vector of parameters\n",
    "* $\\phi_j (t_i)$ is the value of *jth* basis function at $t_i$ forms an $m \\times n$ matrix $A$\n",
    "* $y$ is the product of the linear system $Ax$\n",
    "\n",
    "#### Existence, Uniqueness, and Conditioning\n",
    "Existence depends on the number of data points $m$ and basis functions $n$.\n",
    "* If $m > n$, then interpolant doesn't exist.\n",
    "* If $m < n$, then interpolant is not unique.\n",
    "* If $m = n$, then basis matrix $A$ is nonsingular and data can be fit exactly.\n",
    "\n",
    "Sensitivity of $x$ depends on $\\text{cond}(A)$ which depends on basis functions."
   ]
  },
  {
   "cell_type": "markdown",
   "metadata": {},
   "source": [
    "## 07.02 Polynomial Interpolation"
   ]
  },
  {
   "cell_type": "markdown",
   "metadata": {},
   "source": [
    "Unique polynomial of degree $n-1$ passsing through $n$ distinct data points.\n",
    "\n",
    "#### Monomial Basis\n",
    "Basis functions given by sequential powers:\n",
    "$$\n",
    "\\phi_j (t) = t^{j-1} \\quad j=1, \\cdots, n\n",
    "$$\n",
    "\n",
    "Polynomial evaluated at $t_i$ with this basis:\n",
    "$$\n",
    "p_{n-1} (t_i) = x_1 + x_2 t_i + x_3 t_i^2 + \\cdots + x_n t_i^{n-1}\n",
    "$$\n",
    "\n",
    "The $n \\times n$ matrix is known as **Vandermonde matrix**:\n",
    "$$\n",
    "Ax = \\begin{bmatrix}\n",
    "1 & t_1 & t_1^2 & \\cdots & t_1^{n-1} \\\\\n",
    "\\vdots & \\vdots & \\vdots & \\ddots & \\vdots \\\\\n",
    "1 & t_n & t_n^2 & \\cdots & t_n^{n-1} \\\\\n",
    "\\end{bmatrix}\n",
    "\\begin{bmatrix}\n",
    "x_1 \\\\\n",
    "x_2 \\\\\n",
    "\\vdots \\\\\n",
    "x_n\n",
    "\\end{bmatrix}\n",
    "$$\n",
    "\n",
    "For monomial basis, matrix $\\text{cond}(A)$ increases with degree of polynomial.\n",
    "* Ill-conditioning does not prevent us from fitting points.\n",
    "* Residuals at fitted data points is zero.\n",
    "* Coefficients will be poorly determined.\n",
    "* Relatively high cost to solve linear system $O(n^3)$.\n",
    "* Scaling can help reduce the growth in condition number.\n",
    "\n",
    "#### Horner's Rule\n",
    "Rather than explicitly compute powers, performed nested multiplications of $n$ additions and $n$ multiplications.\n",
    "$$\n",
    "p_{n-1} (t_i) = x_1 + t_i (x_2 + t_i (x_3 + t_i (\\cdots + (x_{n-1} + tx_n) \\cdots)))\n",
    "$$"
   ]
  },
  {
   "cell_type": "markdown",
   "metadata": {},
   "source": [
    "Determine the polynomial of degree 2 used to interpolate 3 ($m=3$) data points."
   ]
  },
  {
   "cell_type": "code",
   "execution_count": 1,
   "metadata": {},
   "outputs": [
    {
     "name": "stdout",
     "output_type": "stream",
     "text": [
      "x:  [-1.  5. -4.]\n"
     ]
    }
   ],
   "source": [
    "import numpy as np\n",
    "\n",
    "# Input data $(t_i, y_i)$.\n",
    "m = 3\n",
    "t = np.array([-2,0,1], dtype='d')\n",
    "y = np.array([-27,-1,0], dtype='d')\n",
    "\n",
    "# Solve Ax = y for x.\n",
    "A = np.column_stack((np.ones(m), t, t*t))\n",
    "x = np.linalg.solve(A, y)\n",
    "print(\"x: \", x)\n",
    "\n",
    "# Evaluate the polynomial at the data points.\n",
    "vft = np.vectorize(lambda t: x[0] + t*(x[1] + x[2]*t))  # Horner's rule.\n",
    "yhat = vft(t)\n",
    "np.testing.assert_almost_equal(y - yhat, np.zeros(m))"
   ]
  },
  {
   "cell_type": "markdown",
   "metadata": {},
   "source": [
    "Plot the observations against the fit."
   ]
  },
  {
   "cell_type": "code",
   "execution_count": 2,
   "metadata": {},
   "outputs": [
    {
     "data": {
      "image/png": "[encoded data removed]",
      "text/plain": [
       "<Figure size 432x288 with 1 Axes>"
      ]
     },
     "metadata": {
      "needs_background": "light"
     },
     "output_type": "display_data"
    }
   ],
   "source": [
    "import matplotlib.pyplot as plt\n",
    "\n",
    "%matplotlib inline\n",
    "\n",
    "# Fit the model to a dense 1D-grid of points from [t_min, t_max].\n",
    "fitn = m*20\n",
    "fitx = np.linspace(np.min(t), np.max(t), fitn)  # Actually t.\n",
    "fity = vft(fitx)\n",
    "\n",
    "# Plot the fitted model against observations.\n",
    "plt.scatter(t, y, s=16, c='dodgerblue', label='observations')\n",
    "plt.plot(fitx, fity, c='red', label='fit')\n",
    "plt.title('Observations vs. Fit')\n",
    "plt.ylabel('y')\n",
    "plt.xlabel('t')\n",
    "plt.grid()\n",
    "plt.legend()\n",
    "plt.show()"
   ]
  },
  {
   "cell_type": "markdown",
   "metadata": {},
   "source": [
    "## 07.03 Lagrange and Newton Interpolation"
   ]
  },
  {
   "cell_type": "markdown",
   "metadata": {},
   "source": [
    "#### Lagrange Basis\n",
    "The Vandermonde matrix for the Lagrange basis is the identity matrix.\n",
    "$$\n",
    "l_j(t) = \\prod_{k=1,k \\neq j}^n (t - t_k) / \\prod_{k=1,k \\neq j}^n (t_j - t_k) \\quad j = 1,\\cdots,n\n",
    "$$\n",
    "\n",
    "Polynomial evaluated at $t_i$ with this basis:\n",
    "$$\n",
    "p_{n-1}(t_i) = y_1 l_1(t_i) + y_2 l_2(t_i) + \\cdots + y_n l_n(t_i)\n",
    "$$"
   ]
  },
  {
   "cell_type": "markdown",
   "metadata": {},
   "source": [
    "Use Lagrange interpolation to interpolate 3 ($m = 3$) data points."
   ]
  },
  {
   "cell_type": "code",
   "execution_count": 5,
   "metadata": {},
   "outputs": [],
   "source": [
    "import numpy as np\n",
    "\n",
    "# Input data $(t_i, y_i)$.\n",
    "m = 3\n",
    "t = np.array([-2,0,1], dtype='d')\n",
    "y = np.array([-27,-1,0], dtype='d')\n",
    "\n",
    "# Since m=3, there are 2 interpolants: l_1, l_2."
   ]
  },
  {
   "cell_type": "code",
   "execution_count": null,
   "metadata": {},
   "outputs": [],
   "source": []
  }
 ],
 "metadata": {
  "kernelspec": {
   "display_name": "Python 3",
   "language": "python",
   "name": "python3"
  },
  "language_info": {
   "codemirror_mode": {
    "name": "ipython",
    "version": 3
   },
   "file_extension": ".py",
   "mimetype": "text/x-python",
   "name": "python",
   "nbconvert_exporter": "python",
   "pygments_lexer": "ipython3",
   "version": "3.6.7"
  }
 },
 "nbformat": 4,
 "nbformat_minor": 2
}
