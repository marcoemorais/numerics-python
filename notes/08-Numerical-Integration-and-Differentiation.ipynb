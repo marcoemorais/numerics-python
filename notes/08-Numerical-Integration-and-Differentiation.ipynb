{
 "cells": [
  {
   "cell_type": "markdown",
   "metadata": {},
   "source": [
    "# Numerical Integration and Differentiation"
   ]
  },
  {
   "cell_type": "markdown",
   "metadata": {},
   "source": [
    "## 08.01 Numerical Integration"
   ]
  },
  {
   "cell_type": "markdown",
   "metadata": {},
   "source": [
    "For $f : \\mathbb{R} \\rightarrow \\mathbb{R}$ the definite integral over interval $[a, b]$:\n",
    "$$\n",
    "I(f) = \\int_a^b f(x) dx\n",
    "$$\n",
    "\n",
    "is defined by the limit of Riemann sums shown below\n",
    "$$\n",
    "R_n = \\sum_{i=1}^n (x_{i+1} - x_i) f(\\xi_i) \\quad n \\rightarrow \\infty\n",
    "$$\n",
    "\n",
    "Condition number of integration is $b-a$ and is inherently well-conditioned.\n",
    "\n",
    "#### Quadrature Rule\n",
    "Weighted sum, $Q_n(f)$ of a finite number of sample values of integrand function.\n",
    "$$\n",
    "Q_n(f) = \\sum_{i=1}^n w_i f(x_i)\n",
    "$$\n",
    "where\n",
    "* $w_i$ are the weights\n",
    "* $x_i$ are the samples aka nodes or abscissas\n",
    "\n",
    "Characteristics of $Q_n(f)$.\n",
    "* How to choose samples?\n",
    "* What should weights be?\n",
    "\n",
    "If the interval is $(a, b)$, then the rule is **open**, else the interval $[a, b]$ is **closed**.\n",
    "\n",
    "#### Method of Undetermined Coefficients\n",
    "To derive n-point rule on interval $[a, b]$, form a system of equations with nodes $x_1, \\cdots, x_n$ as the matrix $A$ and the definite integral of each of the $n$ polynomial basis functions over $[a, b]$ as the right hand side $b$.\n",
    "* The unknowns are the weights, $w_i$ used by the quadrature rule, $Q_n(f)$.\n",
    "\n",
    "##### Example\n",
    "Determine the 3-point quadrature rule, $Q_3(f)$ using monomial basis.\n",
    "$$\n",
    "\\begin{bmatrix}\n",
    "1 & 1 & 1 \\\\\n",
    "a & (a+b)/2 & b \\\\\n",
    "a^2 & ((a+b)/2)^2 & b^2 \\\\\n",
    "\\end{bmatrix}\n",
    "\\begin{bmatrix}\n",
    "w_1 \\\\\n",
    "w_2 \\\\\n",
    "w_3 \\\\\n",
    "\\end{bmatrix} =\n",
    "\\begin{bmatrix}\n",
    "\\int_a^b 1 dx = b-a \\\\\n",
    "\\int_a^b x dx = (b^2 - a^2)/2\\\\\n",
    "\\int_a^b x^2 dx = (b^3 - a^3)/3 \\\\\n",
    "\\end{bmatrix}\n",
    "$$\n",
    "\n",
    "The weights obtained by solving this system is known as **Simpson's rule**.\n",
    "$$\n",
    "w_1 = (b-a)/6, \\quad w_2 = 2(b-a)/3, \\quad w_3 = (b-a)/6\n",
    "$$\n",
    "\n",
    "#### Accuracy\n",
    "Rough error bound on Quadrature rule given by:\n",
    "$$\n",
    "|I(f) - Q_n(f)| \\leq \\frac{1}{4} h^{n+1} ||f^{(n)}||_{\\infty}\n",
    "$$\n",
    "where\n",
    "* $h$ is the maximum spacing between samples\n",
    "* $n$ is the number of samples\n",
    "\n",
    "Higher accuracy can be obtained by decreasing $h$ or increasing $n$.\n",
    "\n",
    "#### Stability\n",
    "Condition number of the quadrature rule is the sum of the absolute values of the weights:\n",
    "$$\n",
    "\\text{cond}(Q_n(f)) = \\sum_{i=1}^n |w_i|\n",
    "$$"
   ]
  },
  {
   "cell_type": "markdown",
   "metadata": {},
   "source": [
    "## 08.02 Newton-Cotes Quadrature"
   ]
  },
  {
   "cell_type": "markdown",
   "metadata": {},
   "source": [
    "Quadrature rules based on equally spaced nodes in interval $[a, b]$.\n",
    "\n",
    "1. Midpoint rule (n=1)\n",
    "$$\n",
    "M(f) = (b-a)\\, f \\left( \\frac{a+b}{2} \\right)\n",
    "$$\n",
    "\n",
    "2. Trapezoid rule (n=2)\n",
    "$$\n",
    "T(f) = \\frac{b-a}{2}\\, \\left( f(a) + f(b) \\right)\n",
    "$$\n",
    "\n",
    "3. Simpson's rule (n=3)\n",
    "$$\n",
    "S(f) = \\frac{b-a}{6}\\, \\left( f(a) + 4\\,f(\\frac{a+b}{2}) + f(b) \\right)\n",
    "$$\n",
    "\n",
    "#### Error Estimation\n",
    "Midpoint rule, $M(f)$, is about twice as accurate as trapezoid rule, $T(f)$.\n",
    "* Error expansion for midpoint rule $M(f) + E(f) + F(f) + \\cdots$ vs. trapezoid rule $T(f) - 2E(f) - 4F(f) - \\cdots$.\n",
    "* Difference in error between midpoint and trapezoid:\n",
    "$$\n",
    "E(f) \\approx \\frac{T(f) - M(f)}{3}\n",
    "$$\n",
    "\n",
    "Simpson's rule, $S(f)$, is more accurate than midpoint rule, $M(f)$.\n",
    "* Error expansion for Simpson's rule $2/3M(f) + 1/3T(f) - \\cdots = S(f) - 2/3F(f) + \\cdots$.\n",
    "\n",
    "An n-point Newton-Cotes rule is of degree n-1 if *n* is even (example: Trapezoid rule), but of degree n if *n* is odd (example: Midpoint rule).\n",
    "* Explains why midpoint is more accurate than trapezoid.\n",
    "* Due to cancellation of positive and negative errors.\n",
    "\n",
    "Using large number of equally spaced nodes may incur unwanted oscillations due to high degree polynomial. "
   ]
  },
  {
   "cell_type": "markdown",
   "metadata": {},
   "source": [
    "Use the midpoint, trapezoid, and Simpson's rule to compute the integral below and compare to the true result:\n",
    "$$\n",
    "I(g) = \\int_{0}^1 e^{-t^2} dt \\approx 0.746824\n",
    "$$"
   ]
  },
  {
   "cell_type": "code",
   "execution_count": 1,
   "metadata": {},
   "outputs": [
    {
     "name": "stdout",
     "output_type": "stream",
     "text": [
      "midpoint:   0.7788007830714049\n",
      "trapezoid:  0.6839397205857212\n",
      "simpson:    0.7471804289095104\n"
     ]
    }
   ],
   "source": [
    "import numpy as np\n",
    "\n",
    "def quad_midpoint(fx, a, b):\n",
    "    \"\"\"\n",
    "    Return definite integral of fx dx from [a, b] using midpoint rule.\n",
    "    \"\"\"\n",
    "    return (b-a) * fx((a+b)/2.)\n",
    "\n",
    "def quad_trapezoid(fx, a, b):\n",
    "    \"\"\"\n",
    "    Return definite integral of fx dx from [a, b] using trapezoid rule.\n",
    "    \"\"\"\n",
    "    return (b-a)/2. * (fx(a) + fx(b))\n",
    "\n",
    "def quad_simpson(fx, a, b):\n",
    "    \"\"\"\n",
    "    Return definite integral of fx dx from [a, b] using Simpson's rule.\n",
    "    \"\"\"\n",
    "    return (b-a)/6. * (fx(a) + 4.*fx((a+b)/2.) + fx(b))\n",
    "\n",
    "\n",
    "fx = lambda x: np.exp(-1.*x*x)\n",
    "a, b = 0., 1.\n",
    "\n",
    "# Observe midpoint is twice as accurate as trapezoid \n",
    "# despite being a lower order polynomial.  Also observe\n",
    "# Simpson's is very close to the true result 0.746824.\n",
    "print(\"midpoint:  \", quad_midpoint(fx, a, b))\n",
    "print(\"trapezoid: \", quad_trapezoid(fx, a, b))\n",
    "print(\"simpson:   \", quad_simpson(fx, a, b))"
   ]
  },
  {
   "cell_type": "markdown",
   "metadata": {},
   "source": [
    "## 08.03 Gaussian Quadrature"
   ]
  },
  {
   "cell_type": "markdown",
   "metadata": {},
   "source": [
    "#### Clenshaw-Curtis Quadrature\n",
    "Quadrature rules using Chebyshev points.\n",
    "* Weights are always positive.\n",
    "* Approximate integral always converges to exact integral as $n \\rightarrow \\infty$\n",
    "* Implemented using FFT (discussed later in course)\n",
    "\n",
    "#### Gaussian Quadrature\n",
    "Nodes and weights are chosen to maximize degree.\n",
    "* Derived by method of undetermined coefficients.\n",
    "  * Observe that the integrand is not required to determine $x$ and $w$.\n",
    "* Nodes and weights are parameters to be determined.\n",
    "  * Unlike Newton-Cotes in which nodes are fixed and equally spaced.\n",
    "* An n-point Gaussian quadrature rule is of degree $2n - 1$.\n",
    "\n",
    "#### Change of Variable\n",
    "Gaussian quadrature rules for the integrand $I(g)$ and computed for an interval $x$ given by $[\\alpha, \\beta]$ can be transformed to another interval $[a, b]$.\n",
    "$$\n",
    "I(g) = \\frac{b-a}{\\beta - \\alpha} \\sum_{i=1}^n w_i g \\left( \\frac{(b-a)x_i + a \\beta - b \\alpha}{\\beta - \\alpha} \\right)\n",
    "$$\n",
    "\n"
   ]
  },
  {
   "cell_type": "markdown",
   "metadata": {},
   "source": [
    "##### Example\n",
    "Derive 2-point Gaussian rule on $[-1, 1]$.\n",
    "$$\n",
    "G_2(f) = w_1 f(x_1) + w_2 f(x_2)\n",
    "$$\n",
    "\n",
    "Form the nonlinear system of equations:\n",
    "$$\n",
    "w_1 + w_2 = \\int_{-1}^{1} dx = 2 \\\\\n",
    "w_1 x_1 + w_2 x_2 = \\int_{-1}^{1} x dx = 0 \\\\\n",
    "w_1 x_1^2 + w_2 x_2^2 = \\int_{-1}^{1} x^2 dx = 2/3 \\\\\n",
    "w_1 x_1^3 + w_2 x_2^3 = \\int_{-1}^{1} x^3 dx = 0 \\\\\n",
    "$$\n",
    "\n",
    "The Jacobian matrix, $J(x)$ of partial derivatives for this system is:\n",
    "$$\n",
    "J(x) = \n",
    "\\begin{bmatrix}\n",
    "\\frac{\\partial f_1}{\\partial w_1} & \\frac{\\partial f_1}{\\partial x_1} & \\frac{\\partial f_1}{\\partial w_2} & \\frac{\\partial f_1}{\\partial x_2} \\\\\n",
    "\\frac{\\partial f_2}{\\partial w_1} & \\frac{\\partial f_2}{\\partial x_1} & \\frac{\\partial f_2}{\\partial w_2} & \\frac{\\partial f_2}{\\partial x_2} \\\\\n",
    "\\frac{\\partial f_3}{\\partial w_1} & \\frac{\\partial f_3}{\\partial x_1} & \\frac{\\partial f_3}{\\partial w_2} & \\frac{\\partial f_3}{\\partial x_2} \\\\\n",
    "\\frac{\\partial f_4}{\\partial w_1} & \\frac{\\partial f_4}{\\partial x_1} & \\frac{\\partial f_4}{\\partial w_2} & \\frac{\\partial f_4}{\\partial x_2}\n",
    "\\end{bmatrix}\n",
    "$$\n",
    "\n",
    "Solve for $w_1, w_2, x_1, x_2$ using Newton's method for nonlinear systems.  \n",
    "\n",
    "The expected solution is:\n",
    "* $x_1 = -1/\\sqrt{3}, x_2 = 1/\\sqrt{3}, w_1 = 1, w_2 = 1$\n",
    "* $G_2(f) = 1 \\cdot f(-1/\\sqrt{3}) + 1 \\cdot f(1/\\sqrt{3})$\n",
    "\n",
    "A 2-point Gaussian quadrature rule is of degree 3 where $(3 = 2n - 1; n = 2)$."
   ]
  },
  {
   "cell_type": "code",
   "execution_count": 2,
   "metadata": {},
   "outputs": [],
   "source": [
    "import math\n",
    "import numpy as np\n",
    "import scipy.optimize as opt\n",
    "\n",
    "def fx(x):\n",
    "    \"\"\"\n",
    "    Compute the residuals for the system using x = [w1, x1, w2, x2]^T.\n",
    "    \"\"\"\n",
    "    res = np.empty(x.size)\n",
    "    res[0] = x[0] + x[2] - 2.\n",
    "    res[1] = x[0]*x[1] + x[2]*x[3]\n",
    "    res[2] = x[0]*math.pow(x[1], 2) + x[2]*math.pow(x[3], 2) - 2./3.\n",
    "    res[3] = x[0]*math.pow(x[1], 3) + x[2]*math.pow(x[3], 3)\n",
    "    return res\n",
    "\n",
    "\n",
    "def Jfx(x):\n",
    "    \"\"\"\n",
    "    Compute Jacobian matrix of partial derivatives of f_i wrt x_i.\n",
    "    \"\"\"\n",
    "    jac = np.zeros((x.size, x.size))\n",
    "    jac[0, :] = np.array([1., 0., 1., 0.])\n",
    "    jac[1, :] = np.array([x[1], x[0], x[3], x[2]])\n",
    "    jac[2, :] = np.array([math.pow(x[1], 2), 2.*x[0],\n",
    "                          math.pow(x[3], 2), 2.*x[2]])\n",
    "    jac[3, :] = np.array([math.pow(x[1], 3), 3.*x[0]*x[0],\n",
    "                          math.pow(x[3], 3), 3.*x[2]*x[2]])\n",
    "    return jac\n",
    "\n",
    "\n",
    "# Find the root of the nonlinear system using scipy.optimize.root.\n",
    "x0 = np.random.rand(4)\n",
    "res = opt.root(fx, x0, jac=Jfx)\n",
    "np.testing.assert_equal(res.success, True)\n",
    "\n",
    "# NOTE(mmorais): There are two solutions with sign of x1 and x2 flipped.\n",
    "expected1 = np.array([1., -1./math.sqrt(3), 1., 1./math.sqrt(3)])\n",
    "expected2 = np.array([1., 1./math.sqrt(3), 1., -1./math.sqrt(3)])\n",
    "expected = expected1 if res.x[1] < 0. else expected2\n",
    "np.testing.assert_almost_equal(res.x, expected)"
   ]
  },
  {
   "cell_type": "markdown",
   "metadata": {},
   "source": [
    "Use the 2-point Gaussian quadrature rule computed in the previous step to solve the following integral:\n",
    "$$\n",
    "I(g) = \\int_{-1}^1 e^{-t^2} dt\n",
    "$$"
   ]
  },
  {
   "cell_type": "code",
   "execution_count": 3,
   "metadata": {},
   "outputs": [],
   "source": [
    "import numpy as np\n",
    "import scipy.integrate as integrate\n",
    "\n",
    "def gaussian_quadrature(ft, x, w):\n",
    "    \"\"\"\n",
    "    Return definite integral of ft dt using n-point Gaussian quadrature.\n",
    "    \n",
    "    ft is the function to integrate.\n",
    "    x are the nodes of integration.\n",
    "    w are the weights of integration.\n",
    "    \"\"\"\n",
    "    vft = np.vectorize(ft)\n",
    "    return np.dot(w, vft(x))\n",
    "\n",
    "\n",
    "# Integrate using 2-point Gaussian quadrature rule.\n",
    "# NOTE(mmorais): Nodes and weights computed from previous step.\n",
    "ft = lambda t: np.exp(-1.*t*t)\n",
    "x = np.array([-1./np.sqrt(3), 1./np.sqrt(3)])\n",
    "w = np.array([1., 1.])\n",
    "# NOTE(mmorais): Limits of integration not passed, implicit in rule.\n",
    "g2 = gaussian_quadrature(ft, x, w)\n",
    "\n",
    "# Compare to result obtained from scipy.integrate.fixed_quad.\n",
    "a, b = -1., 1.\n",
    "expected, _ = integrate.fixed_quad(ft, a=a, b=b, n=2)\n",
    "np.testing.assert_almost_equal(g2, expected)"
   ]
  },
  {
   "cell_type": "markdown",
   "metadata": {},
   "source": [
    "Use the 2-point Gaussian quadrature rule along with the change of variable to solve the following integral:\n",
    "$$\n",
    "I(g) = \\int_{-2}^2 e^{-t^2} dt\n",
    "$$"
   ]
  },
  {
   "cell_type": "code",
   "execution_count": 4,
   "metadata": {},
   "outputs": [],
   "source": [
    "import numpy as np\n",
    "import scipy.integrate as integrate\n",
    "\n",
    "def gaussian_quadrature(ft, x, w, a1, b1, a2, b2):\n",
    "    \"\"\"\n",
    "    Return definite integral of ft dt using n-point Gaussian quadrature.\n",
    "    \n",
    "    Use a change of variable to modify the limits of integration.\n",
    "\n",
    "    ft is the function to integrate.\n",
    "    x are the nodes of integration.\n",
    "    w are the weights of integration.\n",
    "    [a1, b1] are the limits of integration used to compute the rule.\n",
    "    [a2, b2] are the new limits of integration.\n",
    "    \"\"\"\n",
    "    b1a1, b2a2 = b1-a1, b2-a2\n",
    "    vft = np.vectorize(ft)\n",
    "    x2 = vft((b2a2*x + a2*b1 - b2*a1)/b1a1)\n",
    "    return (b2a2/b1a1) * np.dot(w, x2)\n",
    "\n",
    "\n",
    "# Integrate using 2-point Gaussian quadrature rule.\n",
    "# NOTE(mmorais): Nodes and weights computed from previous step.\n",
    "ft = lambda t: np.exp(-1.*t*t)\n",
    "x = np.array([-1./np.sqrt(3), 1./np.sqrt(3)])\n",
    "w = np.array([1., 1.])\n",
    "a1, b1, a2, b2 = -1., 1., -2., 2.\n",
    "g2 = gaussian_quadrature(ft, x, w, a1, b1, a2, b2)\n",
    "\n",
    "# Compare to result obtained from scipy.integrate.fixed_quad.\n",
    "expected, _ = integrate.fixed_quad(ft, a=a2, b=b2, n=2)\n",
    "np.testing.assert_almost_equal(g2, expected)"
   ]
  },
  {
   "cell_type": "markdown",
   "metadata": {},
   "source": [
    "## 08.04 Composite and Adaptive Quadrature"
   ]
  },
  {
   "cell_type": "markdown",
   "metadata": {},
   "source": [
    "#### Composite Quadrature\n",
    "Subdivide original interval $[a, b]$ into $k$ subintervals of length $h = (b-a)/k$ and apply simple quadrature rule in each subinterval.\n",
    "* Equivalent to using piecewise interpolation for quadrature.\n",
    "* Easily made progressive.\n",
    "\n",
    "Composite midpoint rule\n",
    "$$\n",
    "M_k(f) = h \\sum_{j=1}^k f \\left( \\frac{x_{j-1} + x_j}{2} \\right)\n",
    "$$\n",
    "\n",
    "Composite trapezoid rule\n",
    "$$\n",
    "T_k(f) = h \\left( \\frac{1}{2} f(a) + f(x_1) + \\cdots + f(x_{k-1}) + \\frac{1}{2} f(b) \\right)\n",
    "$$\n",
    "\n",
    "The nodes along the interval are given by: $x_j = a + jh, \\quad j=0, \\cdots, k$\n",
    "\n",
    "#### Adaptive Quadrature\n",
    "Recursively apply composite quadrature to smaller subintervals until the difference between the rules falls below an error tolerance.\n",
    "\n",
    "Weaknesses\n",
    "* Points at which integrand function is sampled might not include significant features.\n",
    "* Potentially inefficient in handling discontinuities in integrand."
   ]
  },
  {
   "cell_type": "markdown",
   "metadata": {},
   "source": [
    "Use the composite trapezoid rule to compute the integral below:\n",
    "$$\n",
    "I(g) = \\int_{0}^1 e^{-t^2} dt \\approx 0.746824\n",
    "$$"
   ]
  },
  {
   "cell_type": "code",
   "execution_count": 5,
   "metadata": {},
   "outputs": [
    {
     "name": "stdout",
     "output_type": "stream",
     "text": [
      "composite trapezoid:  0.7462107961317495\n"
     ]
    }
   ],
   "source": [
    "import numpy as np\n",
    "\n",
    "def quad_trapezoid_composite(fx, a, b, k):\n",
    "    \"\"\"\n",
    "    Return definite integral of fx dx from [a, b] using trapezoid rule.\n",
    "    \"\"\"\n",
    "    h = 1.*(b-a)/k\n",
    "    x = np.linspace(a+h, b-h, k-1)\n",
    "    vfx = np.vectorize(fx)\n",
    "    return h * (0.5*fx(a) + np.sum(vfx(x)) + 0.5*fx(b))\n",
    "\n",
    "\n",
    "# Integrate using composite trapezoid rule.\n",
    "fx = lambda x: np.exp(-1.*x*x)\n",
    "a, b, k = 0., 1., 10\n",
    "Ifx = quad_trapezoid_composite(fx, a, b, k)\n",
    "print(\"composite trapezoid: \", Ifx)\n",
    "\n",
    "# Compare to result obtained from numpy.trapz.\n",
    "x = np.linspace(a, b, k+1)\n",
    "vfx = np.vectorize(fx)\n",
    "y = vfx(x)\n",
    "expected = np.trapz(y, x)\n",
    "np.testing.assert_almost_equal(Ifx, expected)"
   ]
  },
  {
   "cell_type": "markdown",
   "metadata": {},
   "source": [
    "## 08.05 Special Integration Problems"
   ]
  },
  {
   "cell_type": "markdown",
   "metadata": {},
   "source": [
    "#### Tabular Integration\n",
    "For integrands defined by values at discrete points, use piecewise interpolant.\n",
    "* Good interpolants: Hermite cubic or cubic spline\n",
    "\n",
    "#### Improper Integrals\n",
    "For integrals where one or both limits are infinite, use any of the following methods:\n",
    "* Replace infinite limits by carefully chosen finite values.\n",
    "* Transform variable of integration so new interval is finite.\n",
    "\n",
    "#### Double Integrals\n",
    "For integrands over two intervals, use any of the following:\n",
    "* Use a pair of quadrature routines.  Each time the outer quadrature routine is called, it in turn calls the inner quadrature routine.\n",
    "\n",
    "#### Multiple Integrals\n",
    "For integrands over arbitrary multiple intervals, use Monte Carlo method.\n",
    "* Sample $n$ points distributed randomly overly interval.\n",
    "* Evaluate the function at the $n$ points to obtain a mean value.\n",
    "* Multiply the mean value by the area or volumne of the domain to obtain an estimate of the integral.\n",
    "\n",
    "Weakness\n",
    "* Error in estimate goes to zero as $1/\\sqrt{n}$ or roughly 1 decimal digit for 100-fold increase in the number of samples.\n",
    "\n",
    "Advantage\n",
    "* Works for functions with discontinuities.\n",
    "* Convergence rate is independent of the number of dimensions, hence effective for high dimensions.\n",
    "\n",
    "#### Integral Equations\n",
    "Integrand contains an unknown function, $u(t)$ to be determined:\n",
    "$$\n",
    "\\int_a^b K(s, t) u(t) dt = f(s)\n",
    "$$\n",
    "where\n",
    "* $K(s, t)$ is the **kernel** and $f(s)$ are known\n",
    "\n",
    "Solve by discretizing variables and replacing the integral with a quadrature rule in order to solve the system $Au = y$ for the unknown function.\n",
    "$$\n",
    "\\sum_{j=1}^n w_j\\, K(s_i, t_j)\\, u(t_j) = f(s_i), \\quad i=1,\\cdots,n\n",
    "$$\n",
    "where\n",
    "* $w_j K(s_i, t_j)$ is the matrix of coefficients $A$\n",
    "* $f(s_i)$ is right hand side $y$"
   ]
  },
  {
   "cell_type": "markdown",
   "metadata": {},
   "source": [
    "## 08.06 Numerical Differentiation"
   ]
  },
  {
   "cell_type": "markdown",
   "metadata": {},
   "source": [
    "## 08.07 Richardson Extrapolation"
   ]
  },
  {
   "cell_type": "markdown",
   "metadata": {},
   "source": [
    "## Summary: Numerical Integration and Differentiation"
   ]
  },
  {
   "cell_type": "code",
   "execution_count": null,
   "metadata": {},
   "outputs": [],
   "source": []
  }
 ],
 "metadata": {
  "kernelspec": {
   "display_name": "Python 3",
   "language": "python",
   "name": "python3"
  },
  "language_info": {
   "codemirror_mode": {
    "name": "ipython",
    "version": 3
   },
   "file_extension": ".py",
   "mimetype": "text/x-python",
   "name": "python",
   "nbconvert_exporter": "python",
   "pygments_lexer": "ipython3",
   "version": "3.6.7"
  }
 },
 "nbformat": 4,
 "nbformat_minor": 2
}
