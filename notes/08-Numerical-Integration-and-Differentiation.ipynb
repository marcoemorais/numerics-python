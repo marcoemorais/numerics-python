{
 "cells": [
  {
   "cell_type": "markdown",
   "metadata": {},
   "source": [
    "# Numerical Integration and Differentiation"
   ]
  },
  {
   "cell_type": "markdown",
   "metadata": {},
   "source": [
    "## 08.01 Numerical Integration"
   ]
  },
  {
   "cell_type": "markdown",
   "metadata": {},
   "source": [
    "For $f : \\mathbb{R} \\rightarrow \\mathbb{R}$ the definite integral over interval $[a, b]$:\n",
    "$$\n",
    "I(f) = \\int_a^b f(x) dx\n",
    "$$\n",
    "\n",
    "is defined by the limit of Riemann sums shown below\n",
    "$$\n",
    "R_n = \\sum_{i=1}^n (x_{i+1} - x_i) f(\\xi_i) \\quad n \\rightarrow \\infty\n",
    "$$\n",
    "\n",
    "Condition number of integration is $b-a$ and is inherently well-conditioned.\n",
    "\n",
    "#### Quadrature Rule\n",
    "Weighted sum, $Q_n(f)$ of a finite number of sample values of integrand function.\n",
    "$$\n",
    "Q_n(f) = \\sum_{i=1}^n w_i f(x_i)\n",
    "$$\n",
    "where\n",
    "* $w_i$ are the weights\n",
    "* $x_i$ are the samples aka nodes or abscissas\n",
    "\n",
    "Characteristics of $Q_n(f)$.\n",
    "* How to choose samples?\n",
    "* What should weights be?\n",
    "\n",
    "If the interval is $(a, b)$, then the rule is **open**, else the interval $[a, b]$ is **closed**.\n",
    "\n",
    "#### Method of Undetermined Coefficients\n",
    "To derive n-point rule on interval $[a, b]$, form a system of equations with nodes $x_1, \\cdots, x_n$ as the matrix $A$ and the definite integral of each of the $n$ polynomial basis functions over $[a, b]$ as the right hand side $b$.\n",
    "* The unknowns are the weights, $w_i$ used by the quadrature rule, $Q_n(f)$.\n",
    "\n",
    "##### Example\n",
    "Determine the 3-point quadrature rule, $Q_3(f)$ using monomial basis.\n",
    "$$\n",
    "\\begin{bmatrix}\n",
    "1 & 1 & 1 \\\\\n",
    "a & (a+b)/2 & b \\\\\n",
    "a^2 & ((a+b)/2)^2 & b^2 \\\\\n",
    "\\end{bmatrix}\n",
    "\\begin{bmatrix}\n",
    "w_1 \\\\\n",
    "w_2 \\\\\n",
    "w_3 \\\\\n",
    "\\end{bmatrix} =\n",
    "\\begin{bmatrix}\n",
    "\\int_a^b 1 dx = b-a \\\\\n",
    "\\int_a^b x dx = (b^2 - a^2)/2\\\\\n",
    "\\int_a^b x^2 dx = (b^3 - a^3)/3 \\\\\n",
    "\\end{bmatrix}\n",
    "$$\n",
    "\n",
    "The weights obtained by solving this system is known as **Simpson's rule**.\n",
    "$$\n",
    "w_1 = (b-a)/6, \\quad w_2 = 2(b-a)/3, \\quad w_3 = (b-a)/6\n",
    "$$\n",
    "\n",
    "#### Accuracy\n",
    "Rough error bound on Quadrature rule given by:\n",
    "$$\n",
    "|I(f) - Q_n(f)| \\leq \\frac{1}{4} h^{n+1} ||f^{(n)}||_{\\infty}\n",
    "$$\n",
    "where\n",
    "* $h$ is the maximum spacing between samples\n",
    "* $n$ is the number of samples\n",
    "\n",
    "Higher accuracy can be obtained by decreasing $h$ or increasing $n$.\n",
    "\n",
    "#### Stability\n",
    "Condition number of the quadrature rule is the sum of the absolute values of the weights:\n",
    "$$\n",
    "\\text{cond}(Q_n(f)) = \\sum_{i=1}^n |w_i|\n",
    "$$"
   ]
  },
  {
   "cell_type": "markdown",
   "metadata": {},
   "source": [
    "## 08.02 Newton-Cotes Quadrature"
   ]
  },
  {
   "cell_type": "markdown",
   "metadata": {},
   "source": [
    "Quadrature rules based on equally spaced nodes in interval $[a, b]$.\n",
    "\n",
    "1. Midpoint rule (n=1)\n",
    "$$\n",
    "M(f) = (b-a)\\, f \\left( \\frac{a+b}{2} \\right)\n",
    "$$\n",
    "\n",
    "2. Trapezoid rule (n=2)\n",
    "$$\n",
    "T(f) = \\frac{b-a}{2}\\, \\left( f(a) + f(b) \\right)\n",
    "$$\n",
    "\n",
    "3. Simpson's rule (n=3)\n",
    "$$\n",
    "S(f) = \\frac{b-a}{6}\\, \\left( f(a) + 4\\,f(\\frac{a+b}{2}) + f(b) \\right)\n",
    "$$\n",
    "\n",
    "#### Error Estimation\n",
    "Midpoint rule, $M(f)$, is about twice as accurate as trapezoid rule, $T(f)$.\n",
    "* Error expansion for midpoint rule $M(f) + E(f) + F(f) + \\cdots$ vs. trapezoid rule $T(f) - 2E(f) - 4F(f) - \\cdots$.\n",
    "* Difference in error between midpoint and trapezoid:\n",
    "$$\n",
    "E(f) \\approx \\frac{T(f) - M(f)}{3}\n",
    "$$\n",
    "\n",
    "Simpson's rule, $S(f)$, is more accurate than midpoint rule, $M(f)$.\n",
    "* Error expansion for Simpson's rule $2/3M(f) + 1/3T(f) - \\cdots = S(f) - 2/3F(f) + \\cdots$.\n",
    "\n",
    "An n-point Newton-Cotes rule is of degree n-1 if *n* is even (example: Trapezoid rule), but of degree n if *n* is odd (example: Midpoint rule).\n",
    "* Explains why midpoint is more accurate than trapezoid.\n",
    "* Due to cancellation of positive and negative errors.\n",
    "\n",
    "Using large number of equally spaced nodes may incur unwanted oscillations due to high degree polynomial. "
   ]
  },
  {
   "cell_type": "markdown",
   "metadata": {},
   "source": [
    "Compute the integral of $I(f) = \\int_0^1 \\exp^{-x^2} dx$ using the midpoint, trapezoid, and Simpson's rule and compare to the true result $\\approx 0.746824$."
   ]
  },
  {
   "cell_type": "code",
   "execution_count": 1,
   "metadata": {},
   "outputs": [
    {
     "name": "stdout",
     "output_type": "stream",
     "text": [
      "midpoint:   0.7788007830714049\n",
      "trapezoid:  0.6839397205857212\n",
      "simpson:    0.7471804289095104\n"
     ]
    }
   ],
   "source": [
    "import numpy as np\n",
    "\n",
    "def quad_midpoint(fx, a, b):\n",
    "    \"\"\"\n",
    "    Return definite integral of fx dx from [a, b] using midpoint rule.\n",
    "    \"\"\"\n",
    "    return (b-a) * fx((a+b)/2.)\n",
    "\n",
    "def quad_trapezoid(fx, a, b):\n",
    "    \"\"\"\n",
    "    Return definite integral of fx dx from [a, b] using trapezoid rule.\n",
    "    \"\"\"\n",
    "    return (b-a)/2. * (fx(a) + fx(b))\n",
    "\n",
    "def quad_simpson(fx, a, b):\n",
    "    \"\"\"\n",
    "    Return definite integral of fx dx from [a, b] using Simpson's rule.\n",
    "    \"\"\"\n",
    "    return (b-a)/6. * (fx(a) + 4.*fx((a+b)/2.) + fx(b))\n",
    "\n",
    "\n",
    "fx = lambda x: np.exp(-1.*x*x)\n",
    "a, b = 0., 1.\n",
    "\n",
    "# Observe midpoint is twice as accurate as trapezoid \n",
    "# despite being a lower order polynomial.  Also observe\n",
    "# Simpson's is very close to the true result 0.746824.\n",
    "print(\"midpoint:  \", quad_midpoint(fx, a, b))\n",
    "print(\"trapezoid: \", quad_trapezoid(fx, a, b))\n",
    "print(\"simpson:   \", quad_simpson(fx, a, b))"
   ]
  },
  {
   "cell_type": "markdown",
   "metadata": {},
   "source": [
    "## 08.03 Gaussian Quadrature"
   ]
  },
  {
   "cell_type": "markdown",
   "metadata": {},
   "source": [
    "#### Clenshaw-Curtis Quadrature\n",
    "Quadrature rules using Chebyshev points.\n",
    "* Weights are always positive.\n",
    "* Approximate integral always converges to exact integral as $n \\rightarrow \\infty$\n",
    "* Implemented using FFT (discussed later in course)\n",
    "\n",
    "#### Gaussian Quadrature\n",
    "Nodes and weights are chosen to maximize degree.\n",
    "* Derived by method of undetermined coefficients.\n",
    "* Nodes and weights are parameters to be determined.\n",
    "  * Unlike Newton-Cotes in which nodes are fixed and equally spaced.\n",
    "* An n-point Gaussian quadrature rule is of degree $2n - 1$.\n",
    "\n",
    "##### Example\n",
    "Derive two-point Gaussian rule on $[-1, 1]$.\n",
    "$$\n",
    "G_2(f) = w_1 f(x_1) + w_2 f(x_2)\n",
    "$$\n",
    "\n",
    "Form the nonlinear system of equations:\n",
    "$$\n",
    "w_1 + w_2 = \\int_{-1}^{1} dx = 2 \\\\\n",
    "w_1 x_1 + w_2 x_2 = \\int_{-1}^{1} x dx = 0 \\\\\n",
    "w_1 x_1^2 + w_2 x_2^2 = \\int_{-1}^{1} x^2 dx = 2/3 \\\\\n",
    "w_1 x_1^3 + w_2 x_2^3 = \\int_{-1}^{1} x^3 dx = 2 \\\\\n",
    "$$\n",
    "\n",
    "Solve for $w_1, w_2, x_1, x_2$ using Gauss-Newton method or Levenberg-Marquardt.\n",
    "* $x_1 = -1/\\sqrt{3}, x_2 = 1/\\sqrt{3}, w_1 = 1, w_2 = 1$\n",
    "* $G_2(f) = 1 \\cdot f(-1/\\sqrt{3}) + 1 \\cdot f(1/\\sqrt{3})$"
   ]
  },
  {
   "cell_type": "markdown",
   "metadata": {},
   "source": [
    "## 08.04 Composite and Adaptive Quadrature"
   ]
  },
  {
   "cell_type": "markdown",
   "metadata": {},
   "source": [
    "## 08.05 Special Integration Problems"
   ]
  },
  {
   "cell_type": "markdown",
   "metadata": {},
   "source": [
    "## 08.06 Numerical Differentiation"
   ]
  },
  {
   "cell_type": "markdown",
   "metadata": {},
   "source": [
    "## 08.07 Richardson Extrapolation"
   ]
  },
  {
   "cell_type": "markdown",
   "metadata": {},
   "source": [
    "## Summary: Numerical Integration and Differentiation"
   ]
  },
  {
   "cell_type": "code",
   "execution_count": null,
   "metadata": {},
   "outputs": [],
   "source": []
  }
 ],
 "metadata": {
  "kernelspec": {
   "display_name": "Python 3",
   "language": "python",
   "name": "python3"
  },
  "language_info": {
   "codemirror_mode": {
    "name": "ipython",
    "version": 3
   },
   "file_extension": ".py",
   "mimetype": "text/x-python",
   "name": "python",
   "nbconvert_exporter": "python",
   "pygments_lexer": "ipython3",
   "version": "3.6.7"
  }
 },
 "nbformat": 4,
 "nbformat_minor": 2
}
