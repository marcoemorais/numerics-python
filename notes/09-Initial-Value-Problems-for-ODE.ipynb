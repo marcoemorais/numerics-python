{
 "cells": [
  {
   "cell_type": "markdown",
   "metadata": {},
   "source": [
    "# Initial Value Problems-for-ODE"
   ]
  },
  {
   "cell_type": "markdown",
   "metadata": {},
   "source": [
    "## 09.01 Ordinary Differential Equations"
   ]
  },
  {
   "cell_type": "markdown",
   "metadata": {},
   "source": [
    "Suppose that the state of a system is described by a vector-valued function $y : \\mathbb{R} \\rightarrow \\mathbb{R}^n$ where the scalar domain of the function is typically something like time, $t$.\n",
    "\n",
    "A **differential equation** describes the relationship between some function $y(t)$ and one or more of its derivatives with respect to $t$.\n",
    "$$\n",
    "y'(t) = \\frac{dy}{dt}\n",
    "$$\n",
    "\n",
    "* The solution to a differential equation is the function $y(t)$ that satisfies the relationship.\n",
    "* For an ordinary differential equation aka ODE all of the derivatives are with respect to a **single** independent variable.\n",
    "* For a partial differential equation aka PDE the derivatives are with respect to **multiple** independent variables.\n",
    "* The highest order derivative appearing in the ODE determines the **order**.\n",
    "\n",
    "#### Example: Newton's Second Law of Motion\n",
    "The differential equation $F = ma$ relates the position of an object in space to the second derivative.  \n",
    "\n",
    "In one dimension where the position is described by $y(t)$ the second-order ODE is:\n",
    "$$\n",
    "F \\left( t, y(t), \\frac{dy}{dt} \\right) = m \\frac{d''y}{dt^2}\n",
    "$$\n",
    "\n",
    "The solution to this differential equation is:\n",
    "$$\n",
    "y(t) = - \\frac{1}{2}gt^2 + c_1t + c_2\n",
    "$$\n",
    "where\n",
    "* $c_1$ is a constant the describes the initial velocity\n",
    "* $c_2$ is a constant the describes the initial position\n",
    "\n",
    "#### Higher Order ODE\n",
    "An ODE with higher order derivatives can be transformed into equivalent first-order system.\n",
    "\n",
    "For kth order ODE:\n",
    "$$\n",
    "y^{(k)}(t) = f \\left( t, y, y', \\cdots, y^{(k-1)} \\right)\n",
    "$$\n",
    "\n",
    "Define $k$ new unknown functions $u_k$:\n",
    "$$\n",
    "u_1(t) = y(t) \\\\\n",
    "u_2(t) = y'(t) \\\\\n",
    "\\cdots \\\\\n",
    "u_k(t) = y^{(k-1)}(t)\n",
    "$$\n",
    "\n",
    "Take the derivatives of the unknown functions to form the system of first-order equations:\n",
    "$$\n",
    "u'(t) =\n",
    "\\begin{bmatrix}\n",
    "u_1'(t) \\\\\n",
    "u_2'(t) \\\\\n",
    "\\vdots \\\\\n",
    "u_k'(t)\n",
    "\\end{bmatrix} =\n",
    "\\begin{bmatrix}\n",
    "u_2(t) \\\\\n",
    "u_3(t) \\\\\n",
    "\\vdots \\\\\n",
    "f(t, u_1, \\cdots, u_k)\n",
    "\\end{bmatrix} =\n",
    "g(t, u)\n",
    "$$\n",
    "\n",
    "#### Example: Newton's Second Law of Motion\n",
    "The second-order ODE described previously can be rewritten as a system of first-order equations.\n",
    "\n",
    "Define 2 new unknown functions $u_1$ and $u_2$:\n",
    "$$\n",
    "u_1(t) = y(t) \\\\\n",
    "u_2(t) = y'(t)\n",
    "$$\n",
    "\n",
    "Take the derivatives of the unknown functions to form the system:\n",
    "$$\n",
    "\\begin{bmatrix}\n",
    "u_1' \\\\\n",
    "u_2'\n",
    "\\end{bmatrix} =\n",
    "\\begin{bmatrix}\n",
    "u_2 \\\\\n",
    "F/m\n",
    "\\end{bmatrix}\n",
    "$$\n",
    "\n",
    "\n",
    "#### Initial Value Problems\n",
    "The ODE $y' = f(t, y)$ does not determine a unique solution.\n",
    "\n",
    "The initial value $y(t_0) = y_0$ provided with the problem determines a unique solution to the ODE."
   ]
  },
  {
   "cell_type": "markdown",
   "metadata": {},
   "source": [
    "## 09.02 Stability of ODE Solutions"
   ]
  },
  {
   "cell_type": "markdown",
   "metadata": {},
   "source": [
    "Stable\n",
    "  * Solutions resulting from perturbations of initial value remain close to original solution.\n",
    "\n",
    "Asymptotically stable\n",
    "  * Solutions resulting from perturbations of initial value converge back to original solution.\n",
    "\n",
    "Unstable\n",
    "  * Solutions resulting from perturbations of initial value diverge away from original solution without bound.\n",
    "\n",
    "#### Example: Scalar Test ODE\n",
    "Given ODE\n",
    "$$\n",
    "y' = \\lambda y\n",
    "$$\n",
    "\n",
    "Initial conditions: $y(0) = y_0$\n",
    "\n",
    "Solution\n",
    "$$\n",
    "y = y_0 e^{\\lambda t}\n",
    "$$\n",
    "\n",
    "For real $\\lambda$:\n",
    "* $\\lambda < 0$ asymptotically stable\n",
    "* $\\lambda > 0$ unstable\n",
    "\n",
    "For complex $\\lambda$:\n",
    "* Same as above with real component $\\text{Re}(\\lambda)$\n",
    "* $\\text{Re}(\\lambda) = 0$ stable, but not asymptotically stable\n",
    "\n",
    "#### Example: Linear System ODE\n",
    "Given ODE\n",
    "$$\n",
    "y' = Ay\n",
    "$$\n",
    "where\n",
    "* $A$ is a $n \\times n$ diagonalizable matrix (eg $n$ linearly independent eigenvectors $v$)\n",
    "\n",
    "Initial conditions: $y(0) = y_0$ where $y_0 = \\sum_{i=1}^n \\alpha_i v_i$\n",
    "\n",
    "Solution\n",
    "$$\n",
    "y(t) = \\sum_{i=1}^n \\alpha_i v_i e^{\\lambda_i t}\n",
    "$$\n",
    "where\n",
    "* $\\alpha$ is taken from the linear combination of eigenvectors which forms $y_0$\n",
    "\n",
    "Eigenvalues $\\lambda$:\n",
    "* $\\lambda_i < 0$ asymptotically stable\n",
    "* $\\lambda_i > 0$ unstable\n",
    "* $\\lambda_i = 0$ oscillatory solution components"
   ]
  },
  {
   "cell_type": "markdown",
   "metadata": {},
   "source": [
    "Plot a demonstration of a stable ODE, $y'(t) = 0.5$ and $y(t) = y_0 + 0.5t$."
   ]
  },
  {
   "cell_type": "code",
   "execution_count": 1,
   "metadata": {},
   "outputs": [
    {
     "data": {
      "image/png": "[encoded data removed]",
      "text/plain": [
       "<Figure size 432x288 with 1 Axes>"
      ]
     },
     "metadata": {
      "needs_background": "light"
     },
     "output_type": "display_data"
    }
   ],
   "source": [
    "import matplotlib.pyplot as plt\n",
    "import numpy as np\n",
    "\n",
    "%matplotlib inline\n",
    "\n",
    "tmin, tmax, tnum = 0., 3., 100\n",
    "t = np.linspace(tmin, tmax, tnum)\n",
    "\n",
    "y0s = np.array([0., 1., 2., 3.])\n",
    "labels = ['$y_0=0$', '$y_0=1$', '$y_0=2$', '$y_0=3$']\n",
    "\n",
    "for y0, label in zip(y0s, labels):\n",
    "    vft = np.vectorize(lambda t: 0.5*t + y0)\n",
    "    plt.plot(t, vft(t), label=label)\n",
    "plt.title('Stable ODE Example, $y\\'(t) = 1/2$')\n",
    "plt.ylabel('y')\n",
    "plt.xlabel('t')\n",
    "plt.grid()\n",
    "plt.legend()\n",
    "plt.show()"
   ]
  },
  {
   "cell_type": "markdown",
   "metadata": {},
   "source": [
    "Plot a demonstration of a asymptotically stable ODE, $y'(t) = -y$ and $y(t) = y_0 e^{-t}$."
   ]
  },
  {
   "cell_type": "code",
   "execution_count": 2,
   "metadata": {},
   "outputs": [
    {
     "data": {
      "image/png": "[encoded data removed]",
      "text/plain": [
       "<Figure size 432x288 with 1 Axes>"
      ]
     },
     "metadata": {
      "needs_background": "light"
     },
     "output_type": "display_data"
    }
   ],
   "source": [
    "import matplotlib.pyplot as plt\n",
    "import numpy as np\n",
    "\n",
    "%matplotlib inline\n",
    "\n",
    "tmin, tmax, tnum = 0., 3., 100\n",
    "t = np.linspace(tmin, tmax, tnum)\n",
    "\n",
    "y0s = np.array([0., 1., 2., 3.])\n",
    "labels = ['$y_0=0$', '$y_0=1$', '$y_0=2$', '$y_0=3$']\n",
    "\n",
    "for y0, label in zip(y0s, labels):\n",
    "    vft = np.vectorize(lambda t: y0*np.exp(-1.*t))\n",
    "    plt.plot(t, vft(t), label=label)\n",
    "plt.title('Asympototically Stable ODE Example, $y\\'(t) = -y$')\n",
    "plt.ylabel('y')\n",
    "plt.xlabel('t')\n",
    "plt.grid()\n",
    "plt.legend()\n",
    "plt.show()"
   ]
  },
  {
   "cell_type": "markdown",
   "metadata": {},
   "source": [
    "Plot a demonstration of a unstable ODE, $y'(t) = y$ and $y(t) = y_0 e^t$."
   ]
  },
  {
   "cell_type": "code",
   "execution_count": 3,
   "metadata": {},
   "outputs": [
    {
     "data": {
      "image/png": "[encoded data removed]",
      "text/plain": [
       "<Figure size 432x288 with 1 Axes>"
      ]
     },
     "metadata": {
      "needs_background": "light"
     },
     "output_type": "display_data"
    }
   ],
   "source": [
    "import matplotlib.pyplot as plt\n",
    "import numpy as np\n",
    "\n",
    "%matplotlib inline\n",
    "\n",
    "tmin, tmax, tnum = 0., 3., 100\n",
    "t = np.linspace(tmin, tmax, tnum)\n",
    "\n",
    "y0s = np.array([0., 1., 2., 3.])\n",
    "labels = ['$y_0=0$', '$y_0=1$', '$y_0=2$', '$y_0=3$']\n",
    "\n",
    "for y0, label in zip(y0s, labels):\n",
    "    vft = np.vectorize(lambda t: y0*np.exp(t))\n",
    "    plt.plot(t, vft(t), label=label)\n",
    "plt.title('Unstable ODE Example, $y\\'(t) = y$')\n",
    "plt.ylabel('y')\n",
    "plt.xlabel('t')\n",
    "plt.grid()\n",
    "plt.legend()\n",
    "plt.show()"
   ]
  },
  {
   "cell_type": "markdown",
   "metadata": {},
   "source": [
    "## 09.03 Euler's Method"
   ]
  },
  {
   "cell_type": "markdown",
   "metadata": {},
   "source": [
    "#### Analytical vs. Numerical Solution\n",
    "* Analytical solution of ODE is closed-form formula evaluated at any point $t$.\n",
    "* Numerical solution of ODE is table of approximate values of solution at discrete set of points.\n",
    "\n",
    "Given $t_0$ and $y_0$.\n",
    "1. Set $k=0$.\n",
    "2. Evaluate $f(t_k, y_k)$ to obtain the slope of trajectory.\n",
    "3. Predict value $y_{k+1}$ at $t_{k+1}$ for a given time-step $h_k$ eg $t_{k+1} = t_k + h_k$\n",
    "4. Set $k=k+1$ and repeat from step 2.\n",
    "\n",
    "The step $y_k$ to $y_{k+1}$ adds some error to solution.\n",
    "* As a result, the solution at $y_{k+1}$ is on a different trajectory than the previous solution at $y_k$.\n",
    "* Stability of solutions determines whether the errors grow or diminish with increasing time step.\n",
    "\n",
    "Euler's method is a single-step method which advances solution by **extrapolating** along straight line of slope $f(t_k, y_k)$.\n",
    "$$\n",
    "y_{k+1} = y_k + h_k f(t_k, y_k)\n",
    "$$\n",
    "\n",
    "#### Errors\n",
    "Numerical methods for ODE incur 2 types of error:\n",
    "1. *Rounding error* due to finite precision floating-point\n",
    "2. *Truncation error* aka discretization error due to approximation method\n",
    "\n",
    "**Truncation error** is dominant factor in determining accuracy and composed of:\n",
    "1. *Global error* difference between computed solution and true solution passing through initial point\n",
    "$$\n",
    "e_k = y_k - y(t_k)\n",
    "$$\n",
    "2. *Local error* difference between computed solution and true solution passing through previous point\n",
    "$$\n",
    "l_k = y_k - u_{k-1}(t_k)\n",
    "$$\n",
    "\n",
    "Global error will be **greater** than sum of local errors when solution is unstable and **less than** sum of local errors when solution is stable."
   ]
  },
  {
   "cell_type": "markdown",
   "metadata": {},
   "source": [
    "## 09.04 Accuracy and Stability"
   ]
  },
  {
   "cell_type": "markdown",
   "metadata": {},
   "source": []
  },
  {
   "cell_type": "markdown",
   "metadata": {},
   "source": [
    "## 09.05 Implicit Methods"
   ]
  },
  {
   "cell_type": "markdown",
   "metadata": {},
   "source": []
  },
  {
   "cell_type": "markdown",
   "metadata": {},
   "source": [
    "## 09.06 Stiffness"
   ]
  },
  {
   "cell_type": "markdown",
   "metadata": {},
   "source": []
  },
  {
   "cell_type": "markdown",
   "metadata": {},
   "source": [
    "## 09.07 Single-Step Methods"
   ]
  },
  {
   "cell_type": "markdown",
   "metadata": {},
   "source": []
  },
  {
   "cell_type": "markdown",
   "metadata": {},
   "source": [
    "## 09.08 Multistep Methods"
   ]
  },
  {
   "cell_type": "markdown",
   "metadata": {},
   "source": []
  },
  {
   "cell_type": "markdown",
   "metadata": {},
   "source": [
    "## 09.09 Multivalue Methods"
   ]
  },
  {
   "cell_type": "markdown",
   "metadata": {},
   "source": []
  }
 ],
 "metadata": {
  "kernelspec": {
   "display_name": "Python 3",
   "language": "python",
   "name": "python3"
  },
  "language_info": {
   "codemirror_mode": {
    "name": "ipython",
    "version": 3
   },
   "file_extension": ".py",
   "mimetype": "text/x-python",
   "name": "python",
   "nbconvert_exporter": "python",
   "pygments_lexer": "ipython3",
   "version": "3.6.7"
  }
 },
 "nbformat": 4,
 "nbformat_minor": 2
}
