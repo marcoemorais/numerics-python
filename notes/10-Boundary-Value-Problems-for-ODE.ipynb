{
 "cells": [
  {
   "cell_type": "markdown",
   "metadata": {},
   "source": [
    "# Boundary-Value-Problems-for-ODE"
   ]
  },
  {
   "cell_type": "markdown",
   "metadata": {},
   "source": [
    "## 10.01 Boundary Value Problems"
   ]
  },
  {
   "cell_type": "markdown",
   "metadata": {},
   "source": [
    "The ODE $y' = f(t,y)$ does not determine a unique solution.\n",
    "* A kth order ODE requires $k$ side conditions $y_i$ where $i = 1, \\cdots, k$ to determine a unique solution.\n",
    "* If the $y_i$ are specified at values of $t \\neq 0$, then the conditions are referred to as **boundary conditions** (BC).\n",
    "\n",
    "General first-order two-point BVP with $f: \\mathbb{R}^{n+1} \\rightarrow \\mathbb{R}^n$ given by: \n",
    "$$\n",
    "y' = f(t, y), \\qquad a < t < b\n",
    "$$\n",
    "\n",
    "and BC $g: \\mathbb{R}^{2n} \\rightarrow \\mathbb{R}^n$ given by:\n",
    "$$\n",
    "g(y(a), y(b)) = 0\n",
    "$$\n",
    "\n",
    "#### Boundary Conditions\n",
    "**Separated** (def): $g$ contains solution values only at $a$ or $b$, but not both.\n",
    "\n",
    "**Linear** (def): form sum of matrix-vector products\n",
    "$$\n",
    "B_a y(a) + B_b y(b) = c\n",
    "$$\n",
    "where\n",
    "* $B_a$ and $B_b$ are $n \\times n$ matrices\n",
    "* $c$ is a $n \\times 1$ vector\n",
    "\n",
    "#### Existence and Uniqueness\n",
    "Solvability of BVP with **nonlinear BC** is difficult to establish.\n",
    "\n",
    "BVP with **linear BC** has unique solution IFF matrix $Q$ is nonsingular:\n",
    "$$\n",
    "Q \\equiv B_a Y(a) + B_b Y(b)\n",
    "$$\n",
    "where\n",
    "* $Y(t)$ is the matrix whose ith column is $y_i(t)$ and $Y$ is called the fundamental solution matrix for the ODE, and its columns are called solution modes.\n",
    "\n",
    "#### Conditioning and Stability\n",
    "For BVP solution is determined everywhere simultaneously.\n",
    "* For BVP to be well-conditioned growing and decaying modes must be controlled by BC."
   ]
  },
  {
   "cell_type": "markdown",
   "metadata": {},
   "source": [
    "Integrate the two-point BVP for the second-order ODE $u'' = 6t$ and $0 < t < 1$ with BC $u(0) = 0$ and $u(1) = 1$.\n",
    "\n",
    "Note: From calculus we know that the exact solution is $u(t) = t^3$.\n",
    "* Since $\\int 6t\\, dt = 3t^2 + C$ and $\\int 3t^2\\, dt = t^3 + C$.  \n",
    "* Based on the initial conditions, the value of $C = 0$. "
   ]
  },
  {
   "cell_type": "code",
   "execution_count": 1,
   "metadata": {},
   "outputs": [
    {
     "name": "stdout",
     "output_type": "stream",
     "text": [
      "[1. 3.]\n"
     ]
    }
   ],
   "source": [
    "import math\n",
    "import numpy as np\n",
    "import scipy.integrate as integrate\n",
    "\n",
    "def fty(t, y):\n",
    "    \"\"\"\n",
    "    Evaluate the n differential equations y^{(i)}(t) at t for i=1..n.\n",
    "    \n",
    "    y is an input matrix with the following components\n",
    "        y_0 = u\n",
    "        y_1 = u'\n",
    "\n",
    "    Returns a matrix of derivatives for each component of y.\n",
    "        y_0' = u'\n",
    "        y_1' = u''\n",
    "    \"\"\"\n",
    "    return np.vstack((y[1], 6.*t))\n",
    "\n",
    "\n",
    "# Setup boundary conditions.\n",
    "bc = lambda ya, yb: np.array([ya[0], yb[0]-1.])\n",
    "\n",
    "# Integrate from [0, 1] with step size 0.5.\n",
    "t0, tn, nsteps = 0., 1., 2\n",
    "t_eval = np.linspace(t0, tn, nsteps+1)\n",
    "y0 = np.zeros((2, t_eval.size))  # Initial guess.\n",
    "result = integrate.solve_bvp(fty, bc, t_eval, y0)\n",
    "np.testing.assert_equal(result.success, True)\n",
    "\n",
    "# Verify boundary conditions are satisfied at t=0 and t=1.\n",
    "np.testing.assert_equal(result.sol(0)[0], 0.)\n",
    "np.testing.assert_equal(result.sol(1)[0], 1.)\n",
    "\n",
    "# Verify solution at some other point t=0.5 based on calculus.\n",
    "np.testing.assert_equal(result.sol(0.5), \n",
    "                        np.array([math.pow(0.5, 3), 3.*0.5*0.5]))\n",
    "\n",
    "# Print the solution u and u' at t=1.\n",
    "print(result.sol(1))"
   ]
  },
  {
   "cell_type": "markdown",
   "metadata": {},
   "source": [
    "Integrate the two-point BVP for the third-order ODE $y''' = 2y'' + 6ty$ and $0 < t < 5$ with BC $y(0) = 2$ and $y(5) = 0$ and $y'(5) = 0$."
   ]
  },
  {
   "cell_type": "code",
   "execution_count": 2,
   "metadata": {},
   "outputs": [
    {
     "data": {
      "image/png": "[encoded data removed]",
      "text/plain": [
       "<Figure size 432x288 with 1 Axes>"
      ]
     },
     "metadata": {
      "needs_background": "light"
     },
     "output_type": "display_data"
    }
   ],
   "source": [
    "import math\n",
    "import matplotlib.pyplot as plt\n",
    "import numpy as np\n",
    "import scipy.integrate as integrate\n",
    "\n",
    "%matplotlib inline\n",
    "\n",
    "def fty(t, y):\n",
    "    \"\"\"\n",
    "    Evaluate the n differential equations y^{(i)}(t) at t for i=1..n.\n",
    "    \n",
    "    y is an input matrix with the following components\n",
    "        y_0 = u\n",
    "        y_1 = u'\n",
    "        y_2 = u''\n",
    "\n",
    "    Returns a matrix of derivatives for each component of y.\n",
    "        y_0' = u'\n",
    "        y_1' = u''\n",
    "        y_2' = u'''\n",
    "    \"\"\"\n",
    "    return np.vstack((y[1], y[2], 2*y[2] + 6.*t*y[0]))\n",
    "\n",
    "\n",
    "# Setup boundary conditions.\n",
    "bc = lambda ya, yb: np.array([ya[0]-2., yb[0], yb[1]])\n",
    "\n",
    "# Integrate from [0, 1] with step size 0.5.\n",
    "t0, tn, nsteps = 0., 5., 25\n",
    "t_eval = np.linspace(t0, tn, nsteps+1)\n",
    "y0 = np.zeros((3, t_eval.size))  # Initial guess.\n",
    "result = integrate.solve_bvp(fty, bc, t_eval, y0)\n",
    "np.testing.assert_equal(result.success, True)\n",
    "\n",
    "# Verify boundary conditions are satisfied at t=0 and t=5.\n",
    "np.testing.assert_equal(result.sol(0)[0], 2.)\n",
    "np.testing.assert_almost_equal(result.sol(5.)[:2], np.zeros(2))\n",
    "\n",
    "# Plot approximate solution.\n",
    "plt.plot(t_eval, result.sol(t_eval)[0,:], marker='o', label='y(t)')\n",
    "plt.plot(t_eval, result.sol(t_eval)[1,:], marker='o', label=\"y'(t)\")\n",
    "plt.plot(t_eval, result.sol(t_eval)[2,:], marker='o', label=\"y''(t)\")\n",
    "plt.title(\"Third Order ODE, $y''' = 2y'' + 6ty$\")\n",
    "plt.ylabel('y')\n",
    "plt.xlabel('t')\n",
    "plt.grid()\n",
    "plt.legend()\n",
    "plt.show()"
   ]
  },
  {
   "cell_type": "markdown",
   "metadata": {},
   "source": [
    "## 10.02 Numerical Methods for BVP"
   ]
  },
  {
   "cell_type": "markdown",
   "metadata": {},
   "source": [
    "#### Shooting Method\n",
    "Given BC $u(a) = \\alpha$ and $u(b) = \\beta$.\n",
    "1. **Guess** values for $u'(a)$ and solve the resulting IVP.\n",
    "2. Compare solution from previous step at $b$ with the BC $u(b) = \\beta$.\n",
    "3. Repeat step 1 until the solution obtained matches the BC at $b$.\n",
    "  * Use root-finding method to obtain the next guess for $u'(a)$ that is successively closer to $u(b) = \\beta$. \n",
    "\n",
    "Shooting method inherits stability of associated IVP.\n",
    "* Can be unstable even when BVP is stable.\n",
    "* Workaround: Divide integration interval into subintervals. Perform shooting on each subinterval.\n"
   ]
  },
  {
   "cell_type": "markdown",
   "metadata": {},
   "source": [
    "## 10.03 Finite Difference Method"
   ]
  },
  {
   "cell_type": "markdown",
   "metadata": {},
   "source": [
    "#### Finite Difference Method\n",
    "Convert BVP into system of algebraic equations by replacing all derivatives with finite difference approximations.\n",
    "\n",
    "Given $u'' = f(t, u, u')$ and $a < t < b$ with BC $u(a) = \\alpha$ and $u(b) = \\beta$.\n",
    "1. Compute mesh points $t_i = a + ih$ where step size $h = (b-a)/(n+1)$ and $i = 0, \\cdots, n+1$.\n",
    "2. Compute the finite difference approximation of derivative at each mesh point.\n",
    "$$\n",
    "u'(t_i) \\approx \\frac{y_{i+1} - y_{i-1}}{2h} \\\\\n",
    "u''(t_i) \\approx \\frac{y_{i+1} - 2y_i + y_{i-1}}{h^2}\n",
    "$$\n",
    "3. Form the system of equations and solve for $y_i$ and $i = 1, \\cdots, n$.  The second two equations are used at the boundary conditions.\n",
    "$$\n",
    "\\frac{y_{i+1} - 2y_i + y_{i-1}}{h^2} = f \\left( t_i, y_i, \\frac{y_{i+1} - y_{i-1}}{2h} \\right) \\\\\n",
    "y_2 - 2y_1 + a = h^2 f \\left( x_1, y_1, \\frac{y_2 - y_a}{2h} \\right) \\\\\n",
    "b - 2y_n + y_{n+1} = h^2 f \\left( x_n, y_n, \\frac{b - y_{n-1}}{2h} \\right) \\\\\n",
    "$$\n",
    "\n",
    "The form of the system formed from the finite difference equations is **tridiagonal**.\n",
    "* A tridiagonal system of bandwidth $\\beta$ requires only $O(\\beta n)$ storage and $O(\\beta^2 n)$ work to factorize using LU factorization."
   ]
  },
  {
   "cell_type": "markdown",
   "metadata": {},
   "source": [
    "Integrate the two-point BVP for the second order ODE $y'' = -4y + 4t$ and $0 < t < \\pi/2$ with BC $y(0) = 0$ and $y'(\\pi/2) = 0$ using the finite difference method and $n = 10$.\n",
    "\n",
    "The linear system used to solve this ODE can be simplified using the steps shown below:\n",
    "$$\n",
    "\\begin{aligned}\n",
    "& y_{i+1} - 2y_i + y_{i-1} - h^2 f \\left( t_i, y_i, \\frac{y_{i+1} - y_{i-1}}{2h} \\right) &&= 0 &&& (1) \\\\\n",
    "& y_{i+1} - 2y_i + y_{i-1} - h^2 (-4y_i + 4t_i) &&= 0 &&& (2) \\\\\n",
    "& y_{i+1} - 2y_i + y_{i-1} + 4 h^2 y_i - 4 h^2 t_i &&= 0 &&& (3) \\\\\n",
    "& y_{i+1} + y_i (-2 + 4 h^2) + y_{i-1} &&= 4 h^2 t_i &&& (4) \\\\\n",
    "\\end{aligned}\n",
    "$$\n",
    "\n",
    "The tridiagonal matrix becomes:\n",
    "$$\n",
    "\\begin{bmatrix}\n",
    "1 & 0 & & & \\\\\n",
    "1 & -2 + 4 h^2 & 1 & & \\\\\n",
    "  & \\ddots & \\ddots & \\ddots & \\\\\n",
    "  & & 1 & -2 + 4 h^2 & 1 \\\\\n",
    "  & & & 2 & -2 + 4 h^2 \\\\\n",
    "\\end{bmatrix}\n",
    "\\begin{bmatrix}\n",
    "y_0 \\\\\n",
    "y_1 \\\\\n",
    "\\vdots \\\\\n",
    "y_{n-1} \\\\\n",
    "y_n \\\\\n",
    "\\end{bmatrix} =\n",
    "\\begin{bmatrix}\n",
    "0 \\\\\n",
    "4 h^2 t_1 \\\\\n",
    "\\vdots \\\\\n",
    "4 h^2 t_{n-1} \\\\\n",
    "4 h^2 t_n \\\\\n",
    "\\end{bmatrix}\n",
    "$$"
   ]
  },
  {
   "cell_type": "code",
   "execution_count": 3,
   "metadata": {},
   "outputs": [
    {
     "data": {
      "image/png": "[encoded data removed]",
      "text/plain": [
       "<Figure size 432x288 with 1 Axes>"
      ]
     },
     "metadata": {
      "needs_background": "light"
     },
     "output_type": "display_data"
    }
   ],
   "source": [
    "import matplotlib.pyplot as plt\n",
    "import numpy as np\n",
    "import scipy.linalg as la\n",
    "\n",
    "%matplotlib inline\n",
    "\n",
    "def tridiag_bvp(n, a, b):\n",
    "    \"\"\"\n",
    "    Form tridiagonal matrix A and vector b used to solve two-point BVP.\n",
    "    \n",
    "    n is the number of interior mesh points, excluding the BC.\n",
    "    a, b is the interval of integration.\n",
    "    \n",
    "    Returns \n",
    "        A is the matrix of coefficients.\n",
    "        B is the right hand side.\n",
    "        h is the mesh spacing.\n",
    "        t is the location of the mesh points.\n",
    "    \"\"\"\n",
    "    h = (b-a)/n\n",
    "    t = np.linspace(a, b, n+1, endpoint=True)\n",
    "    \n",
    "    # d are lower diagonal, diagonal, and upper diagonal vectors.\n",
    "    d = np.ones(n), np.ones(n+1), np.ones(n)\n",
    "    # First equation should be y_0 = 0\n",
    "    d[2][0] = 0.\n",
    "    # Last equation should be 2 y_{n-1} + ... = 4 h^2 y_n\n",
    "    d[0][n-1] = 2.\n",
    "    # Interior diagonals should be y_{i-1} + y_i (-2 + 4 h^2) + y_{i+1}\n",
    "    d[1][1:] = -2. + 4.*h*h\n",
    "    # Form the tridiagonal matrix A.\n",
    "    A = np.diag(d[0], k=-1) + np.diag(d[1], k=0) + np.diag(d[2], k=1)\n",
    "\n",
    "    # Form the right hand side.\n",
    "    B = 4.*h*h*t\n",
    "\n",
    "    return A, B, h, t\n",
    "\n",
    "\n",
    "# Obtain the system of equations for the BVP.\n",
    "n, a, b = 10, 0., np.pi/2.\n",
    "A, B, h, t = tridiag_bvp(n, a, b)\n",
    "\n",
    "# Factorize A into [L|U].\n",
    "# NOTE(mmorais): Use P^T to reorder the right-hand side.\n",
    "P, L, U = la.lu(A)\n",
    "\n",
    "# Solve Ay = b for x.\n",
    "# 1. Solve Lx=B for x.\n",
    "x = la.solve_triangular(L, np.matmul(P.T, B), lower=True)\n",
    "# 2. Solve Uy=x for y.\n",
    "y = la.solve_triangular(U, x, lower=False)\n",
    "\n",
    "# Compute the exact solution\n",
    "ytrue = t + np.sin(t) * np.cos(t)\n",
    "\n",
    "# Plot the true and approximate solution.\n",
    "plt.plot(t, ytrue, marker='o', lw=2., label=\"true solution\")\n",
    "plt.plot(t, y, marker='o', ls='--', label='approximate solution')\n",
    "plt.suptitle(\"Second Order Linear ODE, $y'' = -4y + 4t$\")\n",
    "plt.title('Finite Difference Method')\n",
    "plt.ylabel('y')\n",
    "plt.xlabel('t')\n",
    "plt.grid()\n",
    "plt.legend()\n",
    "plt.show()"
   ]
  },
  {
   "cell_type": "markdown",
   "metadata": {},
   "source": [
    "Integrate the two-point BVP for the second order ODE $y'' = -3yy'$ and $0 < t < 2$ with BC $y(0) = 0$ and $y(2) = 1$ using the finite difference method and $n = 10$.\n",
    "\n",
    "Since the system of equations is nonlinear we will use a nonlinear iterative solver.\n",
    "$$\n",
    "y_{i+1} - 2y_i + y_{i-1} - h^2 f \\left( t_i, y_i, \\frac{y_{i+1} - y_{i-1}}{2h} \\right) = 0\n",
    "$$"
   ]
  },
  {
   "cell_type": "code",
   "execution_count": 4,
   "metadata": {},
   "outputs": [
    {
     "data": {
      "image/png": "[encoded data removed]",
      "text/plain": [
       "<Figure size 432x288 with 1 Axes>"
      ]
     },
     "metadata": {
      "needs_background": "light"
     },
     "output_type": "display_data"
    }
   ],
   "source": [
    "import matplotlib.pyplot as plt\n",
    "import numpy as np\n",
    "import scipy.integrate as integrate\n",
    "import scipy.optimize as opt\n",
    "\n",
    "%matplotlib inline\n",
    "\n",
    "def residual(ftyyp, t, h, y):\n",
    "    \"\"\"\n",
    "    Compute residual of nonlinear system used to solve two-point BVP.\n",
    "    \"\"\"\n",
    "    n = t.size\n",
    "    r = np.zeros(n)\n",
    "    # Residual at first mesh point is y_0 - 0.\n",
    "    r[0] = y[0]\n",
    "    # Interior mesh points should be y_{i-1} - 2y_i + y_{i+1} - h^2 f.\n",
    "    f = ftyyp(t[1:n-1], y[1:n-1], (y[2:n] - y[0:n-2])/(2.*h))\n",
    "    r[1:n-1] = y[0:n-2] - 2.*y[1:n-1] + y[2:n] - h*h*f\n",
    "    # Residual at last mesh point is y_n -  1.\n",
    "    r[n-1] = y[n-1] - 1.\n",
    "    return r\n",
    "\n",
    "\n",
    "def ftyyp(t, y, yp):\n",
    "    \"\"\"\n",
    "    Evaluate the function at t, y, and y'.\n",
    "    \"\"\"\n",
    "    return -3.*y*yp\n",
    "\n",
    "\n",
    "# Setup the number of mesh points and bounday values.\n",
    "n, a, b = 10, 0., 2.\n",
    "\n",
    "# Compute the mesh points.\n",
    "h = (b-a)/n\n",
    "t = np.linspace(a, b, n+1, endpoint=True)\n",
    "\n",
    "# Use a straight line from a to b with y(b) = 1 as initial guess.\n",
    "yinitial = a + 1./(b-a)*t\n",
    "\n",
    "# Solve the nonlinear system of equations using Broyden's good method.\n",
    "soln = opt.broyden1(lambda y: residual(ftyyp, t, h, y), yinitial)\n",
    "\n",
    "# Verify boundary conditions are satisfied at t=0 and t=2.\n",
    "np.testing.assert_equal(soln[0], 0.)\n",
    "np.testing.assert_equal(soln[n], 1.)\n",
    "\n",
    "# Compare solution obtained for nonlinear system to scipy BVP solver.\n",
    "fty = lambda t, y: np.vstack((y[1], -3.*y[0]*y[1]))\n",
    "bc = lambda ya, yb: np.array([ya[0], yb[0]-1.])\n",
    "y0 = np.zeros((2, t.size))  # Initial guess.\n",
    "spy_soln = integrate.solve_bvp(fty, bc, t, y0)\n",
    "np.testing.assert_equal(spy_soln.success, True)\n",
    "\n",
    "# Plot approximate solution.\n",
    "plt.plot(t, spy_soln.sol(t)[0,:], marker='o', label='scipy y(t)')\n",
    "plt.plot(t, soln, marker='o', label='broyden1 y(t)')\n",
    "plt.suptitle(\"Second Order Nonlinear ODE, $y'' = -3yy'$\")\n",
    "plt.title('Finite Difference Method')\n",
    "plt.ylabel('y')\n",
    "plt.xlabel('t')\n",
    "plt.grid()\n",
    "plt.legend()\n",
    "plt.show()"
   ]
  },
  {
   "cell_type": "markdown",
   "metadata": {},
   "source": [
    "## 10.04 Collocation Method"
   ]
  },
  {
   "cell_type": "markdown",
   "metadata": {},
   "source": [
    "#### Collocation Method\n",
    "Approximate solution to ODE by linear combinations of basis functions.\n",
    "* Requires solution to satisfy ODE at discrete set of collocation points.\n",
    "\n",
    "Given $u'' = f(t, u, u')$ and $a < t < b$ with BC $u(a) = \\alpha$ and $u(b) = \\beta$, seek a solution of the form:\n",
    "$$\n",
    "u(t) \\approx v(t, x) = \\sum_{i=1}^n x_i \\phi_i(t)\n",
    "$$\n",
    "where\n",
    "* $\\phi_i$ are basis functions (eg polynomials, trig functions, B-splines) defined on $[a, b]$\n",
    "  * Spectral method basis functions with global support (eg polynomials or trig functions)\n",
    "  * Finite element method basis functions with highly localized support (eg B-splines)\n",
    "* $x$ is n-vector of parameters\n",
    "\n",
    "\n",
    "1. Define $n$ collocation points $a = t_1 < \\cdots < t_n = b$ at which $v(t, x)$ satisfies the ODE and BC.\n",
    "2. Form the $n \\times n$ system of equations and solve for $x_i$ and $i=2,\\cdots,n-1$. The second two equations are used at the boundary conditions.\n",
    "$$\n",
    "\\begin{aligned}\n",
    "v''(t_i, x) &= f(t_i, v(t_i, x), v'(t_i, x)) \\\\\n",
    "v(t_1, x) &= \\alpha \\\\\n",
    "v(t_n, x) &= \\beta \\\\\n",
    "\\end{aligned}\n",
    "$$"
   ]
  },
  {
   "cell_type": "markdown",
   "metadata": {},
   "source": [
    "Integrate the two-point BVP for the second-order ODE $u'' = 6t$ and $0 < t < 1$ with BC $u(0) = 0$ and $u(1) = 1$ using the collocation method with the number of points $n = 3, 4, 5, 6$.\n",
    "\n",
    "Note: From calculus we know that the exact solution is $u(t) = t^3$.\n",
    "* Since $\\int 6t\\, dt = 3t^2 + C$ and $\\int 3t^2\\, dt = t^3 + C$.  \n",
    "* Based on the initial conditions, the value of $C = 0$. "
   ]
  },
  {
   "cell_type": "code",
   "execution_count": 5,
   "metadata": {},
   "outputs": [
    {
     "data": {
      "image/png": "[encoded data removed]",
      "text/plain": [
       "<Figure size 432x288 with 1 Axes>"
      ]
     },
     "metadata": {
      "needs_background": "light"
     },
     "output_type": "display_data"
    }
   ],
   "source": [
    "import matplotlib.pyplot as plt\n",
    "import numpy as np\n",
    "import scipy.optimize as opt\n",
    "\n",
    "%matplotlib inline\n",
    "\n",
    "def vander_bvp(t, order, vdt):\n",
    "    \"\"\"\n",
    "    Form Vandermonde matrix A used as basis for collocation method.\n",
    "    \n",
    "    t is the vector of collocation points.\n",
    "    order is the order of the derivative at the interior points.\n",
    "    vdt is the vector of derivative coefficients at the interior points.\n",
    "    \"\"\"\n",
    "    n = t.size\n",
    "    A = np.vander(t, n, increasing=True)\n",
    "    # Roll coefficients of Vandermonde according to order.\n",
    "    A[1:n-1] = np.roll(A[1:n-1], order)\n",
    "    A[1:n-1,:order] = 0.  # Vanishing terms of the derivative.\n",
    "    A[1:n-1,:] = np.multiply(A[1:n-1,:], vdt)\n",
    "    return A\n",
    "\n",
    "\n",
    "def residual(t, ua, ub, A, x):\n",
    "    \"\"\"\n",
    "    Compute residual of nonlinear system used to solve two-point BVP.\n",
    "    \n",
    "    t is the vector of collocation points.\n",
    "    ua, ub are the values of u(t) at the boundary conditions.\n",
    "    A is the Vandermonde matrix used as basis for collocation method.\n",
    "    x are the parameters.\n",
    "    \"\"\"\n",
    "    n = t.size\n",
    "    b = np.zeros(n)\n",
    "    # Residual at first collocation point is BC.\n",
    "    b[0] = ua\n",
    "    # Residual at the interior points satisfies ODE.\n",
    "    b[1:n-1] = 6.*t[1:n-1]\n",
    "    # Residual at last collocation point is BC.\n",
    "    b[n-1] = ub\n",
    "    return np.matmul(A, x) - b\n",
    "\n",
    "\n",
    "def utx(t, x):\n",
    "    \"\"\"\n",
    "    Evaluate the solution of u(t) using the vector of parameters.\n",
    "    \n",
    "    t is the value where the solution is evaluated.\n",
    "    x is the vector of parameters returned from the collocation method.\n",
    "    \"\"\"\n",
    "    exps = np.arange(0, x.size)\n",
    "    return np.dot(x, np.power(t, exps))\n",
    "\n",
    "\n",
    "# Setup the number of collocation points and boundary values.\n",
    "npoints, a, b, ua, ub = [3, 6], 0., 1., 0., 1.\n",
    "\n",
    "# Store the solution associated with each n.\n",
    "soltns = []\n",
    "\n",
    "# Solve the ODE for each value of n.\n",
    "for n in npoints:\n",
    "\n",
    "    # Compute the collocation points.\n",
    "    t = np.linspace(a, b, n, endpoint=True)\n",
    "\n",
    "    # Form the system of equations.\n",
    "    order, vdt = 2, np.array([0., 0., 2., 6., 12., 20.])\n",
    "    A = vander_bvp(t, order, vdt[:n])\n",
    "\n",
    "    # Use a straight line from a to b with y(b) = 1 as initial guess.\n",
    "    x0 = a + 1./(b-a)*t\n",
    "\n",
    "    # Solve the system of equations.\n",
    "    soltn = opt.fsolve(lambda x: residual(t, ua, ub, A, x), x0)\n",
    "    soltns.append((t, soltn))\n",
    "\n",
    "# Plot the solution obtained for each number of collocation points.\n",
    "for n, soltn in zip(npoints, soltns):\n",
    "    (t, x) = soltn\n",
    "    vutx = np.vectorize(lambda t: utx(t, x))\n",
    "    plt.plot(t, vutx(t), marker='o', label='$u(t)$, n={0}'.format(n))\n",
    "\n",
    "# Plot the exact value.\n",
    "t = np.linspace(a, b, 100)\n",
    "vutx = np.vectorize(lambda t: utx(t, x))\n",
    "plt.plot(t, vutx(t), ls='-', lw=1., label='exact solution')\n",
    "\n",
    "plt.suptitle(\"Second Order Linear ODE, $u'' = 6t$\")\n",
    "plt.title('Collocation Method')\n",
    "plt.ylabel('u')\n",
    "plt.xlabel('t')\n",
    "plt.grid()\n",
    "plt.legend()\n",
    "plt.show()"
   ]
  },
  {
   "cell_type": "markdown",
   "metadata": {},
   "source": [
    "## 10.05 Galerkin Method"
   ]
  },
  {
   "cell_type": "markdown",
   "metadata": {},
   "source": [
    "#### Galerkin Method\n",
    "Rather than forcing residual to be zero at collocation points, minimize the residual over the entire interval of integration eg via least squares."
   ]
  },
  {
   "cell_type": "markdown",
   "metadata": {},
   "source": [
    "## 10.06 Eigenvalue Problems"
   ]
  },
  {
   "cell_type": "markdown",
   "metadata": {},
   "source": [
    "Standard eigenvalue problem for second-order ODE\n",
    "$$\n",
    "u'' = \\lambda f(t, u, u'), \\qquad a < t < b\n",
    "$$\n",
    "\n",
    "with boundary conditions\n",
    "$$\n",
    "u(a) = \\alpha, \\qquad u(b) = \\beta\n",
    "$$\n",
    "\n",
    "where\n",
    "* $\\lambda$ is the **eigenvalue** of this two-point BVP\n",
    "* $u$ is the **eigenfunction**"
   ]
  },
  {
   "cell_type": "markdown",
   "metadata": {},
   "source": [
    "## Summary: Boundary Value Problems for ODE"
   ]
  },
  {
   "cell_type": "markdown",
   "metadata": {},
   "source": [
    "* Two-point BVP for ODE specifies BC at both endpoints of interval.\n",
    "* Shooting method replaces the BVP by a sequence of IVP formed by guessing values of $u'(a)$ until the second boundary condition $u(b)$ is satisfied.\n",
    "* Finite difference method replaces the derivatives in the ODE by finite differences on a mesh of points.\n",
    "* Collocation method approximates the solution to the ODE by linear combinations of basis functions.\n",
    "* Galerkin method approximates the solution to the ODE by minimizing the residual over the entire interval of integration."
   ]
  },
  {
   "cell_type": "code",
   "execution_count": null,
   "metadata": {},
   "outputs": [],
   "source": []
  }
 ],
 "metadata": {
  "kernelspec": {
   "display_name": "Python 3",
   "language": "python",
   "name": "python3"
  },
  "language_info": {
   "codemirror_mode": {
    "name": "ipython",
    "version": 3
   },
   "file_extension": ".py",
   "mimetype": "text/x-python",
   "name": "python",
   "nbconvert_exporter": "python",
   "pygments_lexer": "ipython3",
   "version": "3.6.7"
  }
 },
 "nbformat": 4,
 "nbformat_minor": 2
}
