{
 "cells": [
  {
   "cell_type": "markdown",
   "metadata": {},
   "source": [
    "# Partial Differential Equations"
   ]
  },
  {
   "cell_type": "markdown",
   "metadata": {},
   "source": [
    "## 11.01 Partial Differential Equations"
   ]
  },
  {
   "cell_type": "markdown",
   "metadata": {},
   "source": [
    "Partial Differential Equations involve partial derivatives wrt >1 independent variables.\n",
    "\n",
    "#### Notation\n",
    "* $u_t$ is PDE with one spatial variable $x$ and one time variable $t$\n",
    "$$\n",
    "\\frac{\\partial u}{\\partial t}\n",
    "$$\n",
    "* $u_{xy}$ is PDE with two spatial variables $x$ and $y$\n",
    "$$\n",
    "\\frac{\\partial u}{\\partial x \\partial y}\n",
    "$$\n",
    "\n",
    "Examples of basic laws from science expressed as PDEs\n",
    "* Maxwell's equations: behavior of electromagnetic field\n",
    "* Navier-Stokes: behavior of fluid\n",
    "* Linear elasticity equations\n",
    "* Schrodinger's equations: wave function\n",
    "* Einstein's equations of general relativity\n",
    "\n",
    "#### Advection Equation\n",
    "Describes transport of a material by bulk motion aka **one-way wave equation**.\n",
    "First-order PDE with one spatial variable $x$ and one time variable $t$\n",
    "$$\n",
    "u_t = -c u_x\n",
    "$$\n",
    "where\n",
    "* $c$ is nonzero constant\n",
    "\n",
    "Initial conditions $u(t=0, x) = u_0(x)$ and $\\infty < x < \\infty$.\n",
    "\n",
    "From chain rule, solution is given by shifting initial condition by $c$ eg $u(t,x) = u_0(x - ct)$.\n",
    "* If $c > 0$, then solution shifted right.\n",
    "* If $c < 0$, then solution shifted left.\n",
    "\n",
    "**Characteristics** (def): level curves or contour lines of the solution\n",
    "* determine where BC must be imposed for problem to be well-posed\n",
    "\n",
    "**Order** (def): highest order partial derivative appearing in PDE\n",
    "\n",
    "#### Second-Order PDE\n",
    "Have general form below and can be classified by discriminant as shown in the examples which follow.\n",
    "$$\n",
    "au_{xx} + bu_{xy} + cu_{yy} + du_x + eu_y + fu + g = 0\n",
    "$$\n",
    "\n",
    "#### Heat Equation\n",
    "Describes how distribution of some quantity evolves with time in a solid medium. Diffusion. Second-order PDE, $u_t = c u_{xx}$.\n",
    "$$\n",
    "\\frac{\\partial u}{\\partial t} = c \\left( \\frac{\\partial^2 u}{\\partial x^2} + \\frac{\\partial^2 u}{\\partial y^2} \\right)\n",
    "$$\n",
    "\n",
    "* parabolic $b^2 - 4ac = 0$\n",
    "\n",
    "#### Wave Equation\n",
    "Describes motion of a wave. Convection. Second-order PDE, $u_{tt} = c u_{xx}$.\n",
    "$$\n",
    "\\frac{\\partial^2 u}{\\partial t^2} = c^2 \\left( \\frac{\\partial^2 u}{\\partial x_1^2} + \\frac{\\partial^2 u}{\\partial x_2^2} \\right)\n",
    "$$\n",
    "\n",
    "* hyperbolic $b^2 - 4ac > 0$\n",
    "\n",
    "#### Laplace Equation\n",
    "Known as potential theory, describe harmonics and steady-state heat conduction. No time component. Second-order PDE, $u_{xx} + u_{yy} = 0$.\n",
    "$$\n",
    "\\frac{\\partial^2 u}{\\partial x^2} + \\frac{\\partial^2 u}{\\partial y^2} = 0\n",
    "$$\n",
    "\n",
    "* elliptic $b^2 - 4ac < 0$\n"
   ]
  },
  {
   "cell_type": "markdown",
   "metadata": {},
   "source": [
    "## 11.02 Time-Dependent PDEs: Semidiscrete Methods"
   ]
  },
  {
   "cell_type": "markdown",
   "metadata": {},
   "source": [
    "#### Time Dependent PDEs\n",
    "Discretize in space but leave time variable continuous, solve ODE to obtain function of time at each point.\n",
    "\n",
    "#### Example: Heat Equation\n",
    "$$\n",
    "u_t = c u_{xx}, \\qquad 0 \\leq x \\leq 1, \\qquad t \\geq 0\n",
    "$$\n",
    "\n",
    "initial conditions, describe system state at time $t=0$\n",
    "$$\n",
    "u(t=0, x) = f(x), \\qquad 0 \\leq x \\leq 1\n",
    "$$\n",
    "\n",
    "boundary conditions, describe system state at spatial boundaries $x=0$\n",
    "$$\n",
    "u(t, x=0) = 0, \\qquad u(t, x=1) = 0, \\qquad t \\geq 0\n",
    "$$\n",
    "\n",
    "#### Semidiscrete Finite Difference Method\n",
    "Method of Lines\n",
    "1. Define spatial mesh points $x_i = i \\Delta x$ and $i =0, \\cdots, n+1$ where $\\Delta x = 1/(n+1)$\n",
    "2. Replace the spatial derivative $u_{xx}$ by centered difference of second derivative in space.\n",
    "3. Obtain the system of ODEs for each mesh point to approximate $u(t, x_i)$ as:\n",
    "$$\n",
    "y_i'(t) = \\frac{c}{(\\Delta x)^2} \\left( y_{i+1}(t) - 2y_i(t) + y_{i-1}(t) \\right), \\qquad i=1, \\cdots, n\n",
    "$$\n",
    "4. Solve the system of ODEs is represented by the tridiagonal matrix below with $\\alpha = \\frac{c}{(\\Delta x)^2}$:\n",
    "$$\n",
    "y' =\n",
    "\\alpha \n",
    "\\begin{bmatrix}\n",
    "-2 & 1 & 0 & & \\\\\n",
    "1 & -2 & 1 & & \\\\\n",
    " & \\ddots & \\ddots & \\ddots & \\\\\n",
    "& & 1 & -2 & 1 \\\\\n",
    "& & 0 & 1 & -2 \\\\\n",
    "\\end{bmatrix}\n",
    "\\begin{bmatrix}\n",
    "y_1 \\\\\n",
    "y_2 \\\\\n",
    "\\vdots \\\\\n",
    "y_{n-1} \\\\\n",
    "y_n \\\\\n",
    "\\end{bmatrix}\n",
    "$$\n",
    "\n",
    "System of ODEs is very stiff as the mesh size $\\Delta x$ becomes small.\n",
    "* Typical of ODEs derived from PDE in semidiscrete method.\n",
    "\n",
    "#### Semidiscrete Finite Element Method\n",
    "Spatial discretization can also be done by methods with local support eg finite element or spectral approach.\n",
    "* Makes them “nearly” orthogonal, which tends to yield a relatively well-conditioned system of equations.\n",
    "* Makes the system sparse, so that much less work and storage are required to solve it."
   ]
  },
  {
   "cell_type": "markdown",
   "metadata": {},
   "source": [
    "## 11.03 Time-Dependent PDEs:  Fully Discrete Methods"
   ]
  },
  {
   "cell_type": "markdown",
   "metadata": {},
   "source": [
    "Fully discrete methods discretize in time and space.\n",
    "* Discrete mesh of points for all independent variables.\n",
    "* Replace all derivatives by finite difference approximations at points.\n",
    "* Numerical solution is a table of values at the mesh points.\n",
    "* Accuracy depends on the step size between mesh points.\n",
    "\n",
    "#### Example: Heat Equation\n",
    "$$\n",
    "u_t = c u_{xx}, \\qquad 0 \\leq x \\leq 1, \\qquad t \\geq 0\n",
    "$$\n",
    "\n",
    "initial conditions\n",
    "$$\n",
    "u(t=0, x) = f(x), \\qquad 0 \\leq x \\leq 1\n",
    "$$\n",
    "\n",
    "boundary conditions\n",
    "$$\n",
    "u(t, x=0) = 0, \\qquad u(t, 1) = 0, \\qquad t \\geq 0\n",
    "$$\n",
    "\n",
    "**Note**: Let $u_i^k$ denote the approximate solution at $(t_k, x_i)$.\n",
    "\n",
    "##### Explicit Finite Difference Method\n",
    "1. Define mesh points.\n",
    "  * Spatial mesh points $x_i = i \\Delta x$ and $i =0, \\cdots, n+1$ where $\\Delta x = 1/(n+1)$.\n",
    "  * Temporal mesh points $t_k = k \\Delta t$ for suitably chosen $\\Delta t$.\n",
    "2. Replace $u_t$ by forward difference in time and $u_{xx}$ by centered difference of second derivative in space.\n",
    "$$\n",
    "\\frac{u_i^{k+1} - u_i^k}{\\Delta t} = c \\frac{u_{i+1}^k - 2u_i^k + u_{i-1}^k}{(\\Delta x)^2}\n",
    "$$\n",
    "3. Rearrange equation from previous step and solve for $u_i^{k+1}$.\n",
    "\n",
    "Method is **explicit** because solution depends only only values from previous time step.\n",
    "\n",
    "Local truncation error is $O(\\Delta t) + O((\\Delta x)^2)$\n",
    "* First order accurate in time\n",
    "* Second order accurate in space\n",
    "\n",
    "**Stencil** (def): Graphical depiction of the mesh points.\n",
    "\n",
    "\n",
    "#### Example: Wave Equation\n",
    "$$\n",
    "u_{tt} = c u_{xx}, \\qquad 0 \\leq x \\leq 1, \\qquad t \\geq 0\n",
    "$$\n",
    "\n",
    "initial conditions\n",
    "$$\n",
    "u(t=0, x) = f(x), \\qquad u(t=0, x) = g(x)\n",
    "$$\n",
    "\n",
    "boundary conditions\n",
    "$$\n",
    "u(t, x=0) = \\alpha, \\qquad u(t, x=1) = \\beta\n",
    "$$\n",
    "\n",
    "##### Explicit Finite Difference Method\n",
    "Replace $u_{tt}$ and $u_{xx}$ by centered difference of second derivative in space and time.\n",
    "$$\n",
    "\\frac{u_{i}^{k+1} - 2u_i^k + u_{i}^{k-1}}{(\\Delta t)^2} = c \\frac{u_{i+1}^k - 2u_i^k + u_{i-1}^k}{(\\Delta x)^2}\n",
    "$$\n",
    "\n",
    "Rearrange equation and solve for $u_i^{k+1}$.\n",
    "\n",
    "Method is **explicit** because solution depends only only values from previous time step.\n",
    "\n",
    "Local truncation error is $O((\\Delta t)^2) + O((\\Delta x)^2)$\n",
    "* Second order accurate in time\n",
    "* Second order accurate in space\n",
    "\n",
    "#### Implicit Methods\n",
    "Implicit methods such as backward Euler (first-order accurate) or trapezoid (second-order accurate) have larger stability region.\n",
    "* Larger stability region => larger step size.\n",
    "* Amount of work per step is larger to solve system of equations.\n",
    "\n",
    "Heat Equation, backward Euler\n",
    "$$\n",
    "u_i^{k+1} = u_i^k + c \\frac{\\Delta t}{(\\Delta x)^2} \\left( u_{i+1}^{k+1} -2 u_i^{k+1} + u_{i-1}^{k+1} \\right)\n",
    "$$\n",
    "\n",
    "Heat Equation, trapezoid aka **Crank-Nicolson method**\n",
    "$$\n",
    "u_i^{k+1} = u_i^k + c \\frac{\\Delta t}{2(\\Delta x)^2} \\left( u_{i+1}^{k+1} -2 u_i^{k+1} + u_{i-1}^{k+1} + u_{i+1}^k - 2 u_i^k + u_{i-1}^k \\right)\n",
    "$$"
   ]
  },
  {
   "cell_type": "markdown",
   "metadata": {},
   "source": [
    "## 11.04 Time-Dependent PDEs: Stability and Convergence"
   ]
  },
  {
   "cell_type": "markdown",
   "metadata": {},
   "source": [
    "Properties Required for Convergence\n",
    "1. Consistency\n",
    "  * Local truncation error goes to zero.\n",
    "  * Can be verified using Taylor series expansion.\n",
    "2. Stability\n",
    "  * Approximate solution at any time $t$ as $\\Delta t \\rightarrow 0$ is bounded.\n",
    "\n",
    "Lax Equivalence Theorem\n",
    "* Well-posed linear PDE: consistency **and** stability necessary and sufficient for convergence.\n",
    "\n",
    "Stability: Methods\n",
    "1. Matrix method\n",
    "  * Based on eigenvalues of matrix representation of difference equations.\n",
    "2. Fourier method\n",
    "  * Substitute complex exponential representation of solution error into difference equations and analyze.\n",
    "3. Domains of dependence (DoD)\n",
    "  * Compare difference scheme to PDE.\n",
    "  * CFL Condition: For each mesh point, DoD of PDE must lie within DoD of difference scheme.\n"
   ]
  },
  {
   "cell_type": "markdown",
   "metadata": {},
   "source": [
    "## 11.05 Time-Independent PDEs"
   ]
  },
  {
   "cell_type": "markdown",
   "metadata": {},
   "source": [
    "#### Example: Elliptic PDE\n",
    "Canonical time-independent elliptic PDE is **Helmholtz equation**.\n",
    "$$\n",
    "\\frac{\\partial^2 u}{\\partial x^2} + \\frac{\\partial^2 u}{\\partial y^2} + \\lambda u = f(x, y)\n",
    "$$\n",
    "\n",
    "Expressed in more concise syntax as:\n",
    "$$\n",
    "u_{xx} + u_{yy} + \\lambda u = f(x,y)\n",
    "$$\n",
    "\n",
    "Special cases.\n",
    "1. **Poisson equation**: $\\lambda = 0$.\n",
    "2. **Laplace Equation**: $\\lambda = 0$ and $f = 0$.\n",
    "\n",
    "Boundary conditions.\n",
    "1. **Dirichlet**: $u$ is specified.\n",
    "2. **Neumann**: $u_x$ or $u_y$ is specified.\n",
    "3. **Mixed**: combinations of these are specified.\n",
    "\n",
    "Finite difference methods similar to time-dependent PDEs.\n",
    "* Instead of propagating solution forward in time from initial conditions, obtain an approximate solution at all mesh points simultaneously by solving single system of algebraic equations. \n",
    "\n",
    "**Note**: Let $u_{i,j}$ denote the approximate solution at $u(x_i, y_i)$.\n",
    "\n",
    "1. Define mesh points.\n",
    "  * Spatial mesh points $(x_i, y_j) = (ih, jh)$ and $i,j =1, \\cdots, n$ where $h = 1/(n+1)$.\n",
    "2. Replace $u_{xx}$ and $u_{yy}$ by centered difference of second derivative in space.\n",
    "$$\n",
    "\\frac{u_{i+1,j} - 2u_{i,j} + u_{i-1,j}}{h^2} + \\frac{u_{i,j+1} - 2u_{i,j} + u_{i,j-1}}{h^2} = 0\n",
    "$$\n",
    "3. Using a `+`-shaped stencil of 4 points surrounding the central point $u_{1,1}$ we have the equation shown below.\n",
    "$$\n",
    "4 u_{1,1} - u_{0,1} - u_{2,1} - u_{1,0} - u_{1,2} = 0\n",
    "$$\n",
    "4. Repeat the stencil from the previous step to form the system of equations.\n",
    "  * Each equation involves 5 variables and resulting matrix is sparse."
   ]
  },
  {
   "cell_type": "markdown",
   "metadata": {},
   "source": [
    "## Summary: Partial Differential Equations"
   ]
  },
  {
   "cell_type": "markdown",
   "metadata": {},
   "source": [
    "* Second-order PDE are classified according to the value of discriminant and whether they are time-dependent.\n",
    "  1. Elliptic time-independent equations.\n",
    "    * Laplace: $u_{xx} + u_{yy} = 0$\n",
    "  2. Parabolic time-dependent equations.\n",
    "    * Heat: $u_t = cu_{xx}$\n",
    "  3. Hyperbolic time-dependent equations.\n",
    "    * Wave: $u_{tt} = cu_{xx}$\n",
    "* Semidiscrete methods for time-dependent PDE discretize in space, but leave time continuous.\n",
    "  * Method of Lines: Approximate the solution to the PDE at $u(t_k, x_i)$ by solving the initial value problem at each of the $n$ spatial mesh points $x_i$ using finite differences.\n",
    "  * The system of ODEs is represented by a tridiagonal matrix and although computationally efficient, these are generally very stiff.\n",
    "* Fully discrete methods for time-dependent PDE discretize in space and time.\n",
    "  * Explicit finite difference methods propagate the initial conditions forward in time.\n",
    "  * Implicit finite difference methods have a larger stability region than explicit methods and support larger step sizes.\n",
    "* Finite difference methods for time-independent PDE obtain an approximate solution at all mesh points simultaneously by solving large sparse systems of algebraic equations."
   ]
  },
  {
   "cell_type": "markdown",
   "metadata": {},
   "source": [
    "## 11.06 Direct Methods for Sparse Linear Systems"
   ]
  },
  {
   "cell_type": "markdown",
   "metadata": {},
   "source": [
    "Sparse linear systems require data structures that only store nonzero entries along with indices of those entries in the matrix.\n",
    "\n",
    "Factorization methods on sparse systems require the introduction of new nonzero entries, referred to as **fill**.\n",
    "* Sparse factorization methods can reorder rows and columns to limit the amount of fill introduced.\n",
    "\n",
    "#### Minimum Degree Ordering\n",
    "Heuristic: Limit fill by first eliminating nodes with fewest neighbors.\n",
    "\n",
    "#### Nested Disection Ordering\n",
    "Recursively select and number nodes which split the graph into 2 pieces of roughly equal size.\n",
    "* No node in either piece is connected to a node in the other, hence no fill due to elimination of any node in the other.\n",
    "\n",
    "#### Fast Direct Methods\n",
    "1. FFT can be used to compute solution to certain kinds of elliptic BVP in $O(n \\log n)$ work.\n",
    "2. Cyclic reduction is divide and conquer technique in which the even numbered equationas are solved in terms of odd numbered.\n",
    "3. FACR method combines Fourier analysis and cyclic reduction to produce even faster $O(n \\log n \\log n)$ method."
   ]
  },
  {
   "cell_type": "markdown",
   "metadata": {},
   "source": [
    "## 11.07 Stationary Iterative Methods for Linear Systems"
   ]
  },
  {
   "cell_type": "markdown",
   "metadata": {},
   "source": [
    "Iterative methods begin with initial guess for solution and continue until some termination criteria (example: $||b - Ax||$) is as small as desired.\n",
    "\n",
    "Choose $G$ and $c$ such that $Gx + c$ is a solution to $Ax = b$.\n",
    "$$\n",
    "x_{k+1} = G x_k + c\n",
    "$$\n",
    "\n",
    "Method called **stationary** since $G$ and $c$ are fixed over all iterations.\n",
    "\n",
    "Example Methods\n",
    "1. Splitting\n",
    "  * Rewrite $A$ as $A = M - N$.\n",
    "  * Iteration scheme becomes $x_{k+1} = M^{-1} N x_k + M^{-1} b$\n",
    "2. Jacobi\n",
    "  * For the Jacobi method, the splitting of $A$ is given by:\n",
    "    * $M = D$ where $D$ is formed from the diagonals of $A$.\n",
    "    * $N = -(L + U)$ where $L$ and $U$ contain the lower and upper triangular of $A$.\n",
    "3. Gauss-Seidel\n",
    "  * For the Gauss-Seidel method, the splitting of $A$ is given by:\n",
    "    * $M = D + L$\n",
    "    * $N = -U$\n",
    "4. Successive Over-Relaxation (SOR)"
   ]
  },
  {
   "cell_type": "markdown",
   "metadata": {},
   "source": [
    "## 11.08 Conjugate Gradient Method for Linear Systems"
   ]
  },
  {
   "cell_type": "markdown",
   "metadata": {},
   "source": [
    "If $A$ is symmetric positive definite, then $\\phi(x) = \\frac{1}{2} x^T A x - x^T b$ attains a minimum when $Ax = b$.\n",
    "\n",
    "For optimization, use negative gradient as the residual vector $r$.\n",
    "$$\n",
    "r = - \\nabla \\phi(x) = b - Ax\n",
    "$$\n",
    "\n",
    "This approach only requires a routine for computing $Ax$, hence attractive for solving large sparse linear systems."
   ]
  },
  {
   "cell_type": "markdown",
   "metadata": {},
   "source": [
    "## 11.09 Convergence Rates of Iterative Methods"
   ]
  },
  {
   "cell_type": "markdown",
   "metadata": {},
   "source": [
    "Convergence rates: Jacobi < Gauss-Seidel < SOR < CG\n",
    "* Jacobi and Gauss-Seidel are impractical for large problems.\n",
    "* Convergence of SOR depends on hyperparameter $\\omega$ which can be hard to determine.\n",
    "* Convergence rate of CG method can be furthered improved with **preconditioners**."
   ]
  },
  {
   "cell_type": "markdown",
   "metadata": {},
   "source": [
    "## 11.10 Multigrid Methods"
   ]
  },
  {
   "cell_type": "markdown",
   "metadata": {},
   "source": []
  },
  {
   "cell_type": "markdown",
   "metadata": {},
   "source": [
    "## 11.11 Comparison of Methods for Linear Systems"
   ]
  },
  {
   "cell_type": "markdown",
   "metadata": {},
   "source": [
    "#### Direct vs. Iterative\n",
    "1. Direct Methods\n",
    "  * Require no initial estimate.\n",
    "  * Produce high accuracy.\n",
    "  * Robust.\n",
    "2. Iterative Methods\n",
    "  * May require special properties eg CG => symmetric positive definite.\n",
    "  * May have poor rates of convergence eg Jacobi and Gauss-Seidel.\n",
    "  * More efficient if high accuracy not needed.\n",
    "  * Do not require explicit storage of matrix entries.\n",
    "\n",
    "#### Work Required\n",
    "Computational cost of solving elliptic BVP in order of decreasing amount of work required.\n",
    "* Methods requiring less work also have less generality.\n",
    "\n",
    "| Method | 2D | 3D |\n",
    "|--------|----|----|\n",
    "| Dense Cholesky | 3 | 3 |\n",
    "| Band Cholesky | 2 | 2.33 |\n",
    "| Sparse Cholesky | 1.5 | 2 |\n",
    "| Conjugate Gradient | 1.5 | 1.33 |\n",
    "| Preconditioned CG | 1.25 | 1.17 |\n",
    "| Multigrid | 1 | 1 |"
   ]
  },
  {
   "cell_type": "code",
   "execution_count": null,
   "metadata": {},
   "outputs": [],
   "source": []
  }
 ],
 "metadata": {
  "kernelspec": {
   "display_name": "Python 3",
   "language": "python",
   "name": "python3"
  },
  "language_info": {
   "codemirror_mode": {
    "name": "ipython",
    "version": 3
   },
   "file_extension": ".py",
   "mimetype": "text/x-python",
   "name": "python",
   "nbconvert_exporter": "python",
   "pygments_lexer": "ipython3",
   "version": "3.6.7"
  }
 },
 "nbformat": 4,
 "nbformat_minor": 2
}
