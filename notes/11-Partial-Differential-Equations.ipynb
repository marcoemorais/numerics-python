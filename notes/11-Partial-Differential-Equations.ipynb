{
 "cells": [
  {
   "cell_type": "markdown",
   "metadata": {},
   "source": [
    "# Partial Differential Equations"
   ]
  },
  {
   "cell_type": "markdown",
   "metadata": {},
   "source": [
    "## 11.01 Partial Differential Equations"
   ]
  },
  {
   "cell_type": "markdown",
   "metadata": {},
   "source": [
    "Partial Differential Equations involve partial derivatives wrt >1 independent variables.\n",
    "\n",
    "#### Notation\n",
    "* $u_t$ is PDE with one spatial variable $x$ and one time variable $t$\n",
    "$$\n",
    "\\frac{\\partial u}{\\partial t}\n",
    "$$\n",
    "* $u_{xy}$ is PDE with two spatial variables $x$ and $y$\n",
    "$$\n",
    "\\frac{\\partial u}{\\partial x \\partial y}\n",
    "$$\n",
    "\n",
    "Examples of basic laws from science expressed as PDEs\n",
    "* Maxwell's equations: behavior of electromagnetic field\n",
    "* Navier-Stokes: behavior of fluid\n",
    "* Linear elasticity equations\n",
    "* Schrodinger's equations: wave function\n",
    "* Einstein's equations of general relativity\n",
    "\n",
    "#### Advection Equation\n",
    "Describes transport of a material by bulk motion aka **one-way wave equation**.\n",
    "First-order PDE with one spatial variable $x$ and one time variable $t$\n",
    "$$\n",
    "u_t = -c u_x\n",
    "$$\n",
    "where\n",
    "* $c$ is nonzero constant\n",
    "\n",
    "Initial conditions $u(t=0, x) = u_0(x)$ and $\\infty < x < \\infty$.\n",
    "\n",
    "From chain rule, solution is given by shifting initial condition by $c$ eg $u(t,x) = u_0(x - ct)$.\n",
    "* If $c > 0$, then solution shifted right.\n",
    "* If $c < 0$, then solution shifted left.\n",
    "\n",
    "**Characteristics** (def): level curves or contour lines of the solution\n",
    "* determine where BC must be imposed for problem to be well-posed\n",
    "\n",
    "**Order** (def): highest order partial derivative appearing in PDE\n",
    "\n",
    "#### Second-Order PDE\n",
    "Have general form below and can be classified by discriminant as shown in the examples which follow.\n",
    "$$\n",
    "au_{xx} + bu_{xy} + cu_{yy} + du_x + eu_y + fu + g = 0\n",
    "$$\n",
    "\n",
    "#### Heat Equation\n",
    "Describes how distribution of some quantity evolves with time in a solid medium. Diffusion. Second-order PDE, $u_t = c u_{xx}$.\n",
    "$$\n",
    "\\frac{\\partial u}{\\partial t} = c \\left( \\frac{\\partial^2 u}{\\partial x^2} + \\frac{\\partial^2 u}{\\partial y^2} \\right)\n",
    "$$\n",
    "\n",
    "* parabolic $b^2 - 4ac = 0$\n",
    "\n",
    "#### Wave Equation\n",
    "Describes motion of a wave. Convection. Second-order PDE, $u_{tt} = c u_{xx}$.\n",
    "$$\n",
    "\\frac{\\partial^2 u}{\\partial t^2} = c^2 \\left( \\frac{\\partial^2 u}{\\partial x_1^2} + \\frac{\\partial^2 u}{\\partial x_2^2} \\right)\n",
    "$$\n",
    "\n",
    "* hyperbolic $b^2 - 4ac > 0$\n",
    "\n",
    "#### Laplace Equation\n",
    "Known as potential theory, describe harmonics and steady-state heat conduction. No time component. Second-order PDE, $u_{xx} + u_{yy} = 0$.\n",
    "$$\n",
    "\\frac{\\partial^2 u}{\\partial x^2} + \\frac{\\partial^2 u}{\\partial y^2} = 0\n",
    "$$\n",
    "\n",
    "* elliptic $b^2 - 4ac < 0$\n"
   ]
  },
  {
   "cell_type": "markdown",
   "metadata": {},
   "source": [
    "## 11.02 Time-Dependent PDEs: Semidiscrete Methods"
   ]
  },
  {
   "cell_type": "markdown",
   "metadata": {},
   "source": [
    "#### Time Dependent PDEs\n",
    "Discretize in space but leave time variable continuous, solve ODE to obtain function of time at each point.\n",
    "\n",
    "#### Example: Heat Equation\n",
    "$$\n",
    "u_t = c u_{xx}, \\qquad 0 \\leq x \\leq 1, \\qquad t \\geq 0\n",
    "$$\n",
    "\n",
    "initial conditions, describe system state at time $t=0$\n",
    "$$\n",
    "u(t=0, x) = f(x), \\qquad 0 \\leq x \\leq 1\n",
    "$$\n",
    "\n",
    "boundary conditions, describe system state at spatial boundaries $x=0$\n",
    "$$\n",
    "u(t, x=0) = 0, \\qquad u(t, x=1) = 0, \\qquad t \\geq 0\n",
    "$$\n",
    "\n",
    "#### Semidiscrete Finite Difference Method\n",
    "Method of Lines\n",
    "1. Define spatial mesh points $x_i = i \\Delta x$ and $i =0, \\cdots, n+1$ where $\\Delta x = 1/(n+1)$\n",
    "2. Replace the spatial derivative $u_{xx}$ by centered difference of second derivative in space.\n",
    "3. Obtain the system of ODEs for each mesh point to approximate $u(t, x_i)$ as:\n",
    "$$\n",
    "y_i'(t) = \\frac{c}{(\\Delta x)^2} \\left( y_{i+1}(t) - 2y_i(t) + y_{i-1}(t) \\right), \\qquad i=1, \\cdots, n\n",
    "$$\n",
    "\n",
    "System of ODEs is very stiff as the mesh size $\\Delta x$ becomes small.\n",
    "* Typical of ODEs derived from PDE in semidiscrete method.\n",
    "\n",
    "#### Semidiscrete Finite Element Method\n",
    "Spatial discretization can also be done by methods with local support eg finite element or spectral approach.\n",
    "* Makes them “nearly” orthogonal, which tends to yield a relatively well-conditioned system of equations.\n",
    "* Makes the system sparse, so that much less work and storage are required to solve it."
   ]
  },
  {
   "cell_type": "markdown",
   "metadata": {},
   "source": [
    "## 11.03 Time-Dependent PDEs:  Fully Discrete Methods"
   ]
  },
  {
   "cell_type": "markdown",
   "metadata": {},
   "source": [
    "Fully discrete methods discretize in time and space.\n",
    "* Discrete mesh of points for all independent variables.\n",
    "* Replace all derivatives by finite difference approximations at points.\n",
    "* Numerical solution is a table of values at the mesh points.\n",
    "* Accuracy depends on the step size between mesh points.\n",
    "\n",
    "#### Example: Heat Equation\n",
    "$$\n",
    "u_t = c u_{xx}, \\qquad 0 \\leq x \\leq 1, \\qquad t \\geq 0\n",
    "$$\n",
    "\n",
    "initial conditions\n",
    "$$\n",
    "u(t=0, x) = f(x), \\qquad 0 \\leq x \\leq 1\n",
    "$$\n",
    "\n",
    "boundary conditions\n",
    "$$\n",
    "u(t, x=0) = 0, \\qquad u(t, 1) = 0, \\qquad t \\geq 0\n",
    "$$\n",
    "\n",
    "**Note**: Let $u_i^k$ denote the approximate solution at $(t_k, x_i)$.\n",
    "\n",
    "##### Fully Discrete Finite Difference Method\n",
    "1. Define mesh points.\n",
    "  * Spatial mesh points $x_i = i \\Delta x$ and $i =0, \\cdots, n+1$ where $\\Delta x = 1/(n+1)$.\n",
    "  * Temporal mesh points $t_k = k \\Delta t$ for suitably chosen $\\Delta t$.\n",
    "2. Replace $u_t$ by forward difference in time and $u_{xx}$ by centered difference of second derivative in space.\n",
    "$$\n",
    "\\frac{u_i^{k+1} - u_i^k}{\\Delta t} = c \\frac{u_{i+1}^k - 2u_i^k + u_{i-1}^k}{(\\Delta x)^2}\n",
    "$$\n",
    "3. Rearrange equation from previous step and solve for $u_i^{k+1}$.\n",
    "\n",
    "Method is **explicit** because solution depends only only values from previous time step.\n",
    "\n",
    "Local truncation error is $O(\\Delta t) + O((\\Delta x)^2)$\n",
    "* First order accurate in time\n",
    "* Second order accurate in space\n",
    "\n",
    "**Stencil** (def): Graphical depiction of the mesh points.\n",
    "\n",
    "\n",
    "#### Example: Wave Equation\n",
    "$$\n",
    "u_{tt} = c u_{xx}, \\qquad 0 \\leq x \\leq 1, \\qquad t \\geq 0\n",
    "$$\n",
    "\n",
    "initial conditions\n",
    "$$\n",
    "u(t=0, x) = f(x), \\qquad u(t=0, x) = g(x)\n",
    "$$\n",
    "\n",
    "boundary conditions\n",
    "$$\n",
    "u(t, x=0) = \\alpha, \\qquad u(t, x=1) = \\beta\n",
    "$$\n",
    "\n",
    "##### Fully Discrete Finite Difference Method\n",
    "Replace $u_{tt}$ and $u_{xx}$ by centered difference of second derivative in space and time.\n",
    "$$\n",
    "\\frac{u_{i}^{k+1} - 2u_i^k + u_{i}^{k-1}}{(\\Delta t)^2} = c \\frac{u_{i+1}^k - 2u_i^k + u_{i-1}^k}{(\\Delta x)^2}\n",
    "$$\n",
    "\n",
    "Rearrange equation and solve for $u_i^{k+1}$.\n",
    "\n",
    "Method is **explicit** because solution depends only only values from previous time step.\n",
    "\n",
    "Local truncation error is $O((\\Delta t)^2) + O((\\Delta x)^2)$\n",
    "* Second order accurate in time\n",
    "* Second order accurate in space\n",
    "\n",
    "#### Implicit Methods\n",
    "Implicit methods such as backward Euler (first-order accurate) or trapezoid (second-order accurate) have larger stability region.\n",
    "\n",
    "Heat Equation, backward Euler\n",
    "$$\n",
    "u_i^{k+1} = u_i^k + c \\frac{\\Delta t}{(\\Delta x)^2} \\left( u_{i+1}^{k+1} -2 u_i^{k+1} + u_{i-1}^{k+1} \\right)\n",
    "$$\n",
    "\n",
    "Heat Equation, trapezoid aka **Crank-Nicolson method**\n",
    "$$\n",
    "u_i^{k+1} = u_i^k + c \\frac{\\Delta t}{2(\\Delta x)^2} \\left( u_{i+1}^{k+1} -2 u_i^{k+1} + u_{i-1}^{k+1} + u_{i+1}^k - 2 u_i^k + u_{i-1}^k \\right)\n",
    "$$"
   ]
  },
  {
   "cell_type": "markdown",
   "metadata": {},
   "source": [
    "## 11.04 Time-Dependent PDEs: Stability and Convergence"
   ]
  },
  {
   "cell_type": "markdown",
   "metadata": {},
   "source": [
    "Properties Required for Convergence\n",
    "1. Consistency\n",
    "  * Local truncation error goes to zero\n",
    "2. Stability\n",
    "  * Approximate solution at any time $t$ as $t \\rightarrow 0$ is bounded\n"
   ]
  },
  {
   "cell_type": "markdown",
   "metadata": {},
   "source": [
    "## 11.05 Time-Independent PDEs"
   ]
  },
  {
   "cell_type": "markdown",
   "metadata": {},
   "source": []
  },
  {
   "cell_type": "markdown",
   "metadata": {},
   "source": [
    "## 11.06 Direct Methods for Sparse Linear Systems"
   ]
  },
  {
   "cell_type": "markdown",
   "metadata": {},
   "source": []
  },
  {
   "cell_type": "markdown",
   "metadata": {},
   "source": [
    "## 11.07 Stationary Iterative Methods for Linear Systems"
   ]
  },
  {
   "cell_type": "markdown",
   "metadata": {},
   "source": []
  },
  {
   "cell_type": "markdown",
   "metadata": {},
   "source": [
    "## 11.08 Conjugate Gradient Method for Linear Systems"
   ]
  },
  {
   "cell_type": "markdown",
   "metadata": {},
   "source": []
  },
  {
   "cell_type": "markdown",
   "metadata": {},
   "source": [
    "## 11.09 Convergence Rates of Iterative Methods"
   ]
  },
  {
   "cell_type": "markdown",
   "metadata": {},
   "source": []
  },
  {
   "cell_type": "markdown",
   "metadata": {},
   "source": [
    "## 11.10 Multigrid Methods"
   ]
  },
  {
   "cell_type": "markdown",
   "metadata": {},
   "source": []
  },
  {
   "cell_type": "markdown",
   "metadata": {},
   "source": [
    "## 11.11 Comparison of Methods for Linear Systems"
   ]
  },
  {
   "cell_type": "markdown",
   "metadata": {},
   "source": []
  }
 ],
 "metadata": {
  "kernelspec": {
   "display_name": "Python 3",
   "language": "python",
   "name": "python3"
  },
  "language_info": {
   "codemirror_mode": {
    "name": "ipython",
    "version": 3
   },
   "file_extension": ".py",
   "mimetype": "text/x-python",
   "name": "python",
   "nbconvert_exporter": "python",
   "pygments_lexer": "ipython3",
   "version": "3.6.7"
  }
 },
 "nbformat": 4,
 "nbformat_minor": 2
}
