{
 "cells": [
  {
   "cell_type": "markdown",
   "metadata": {},
   "source": [
    "# Fast Fourier Transform"
   ]
  },
  {
   "cell_type": "markdown",
   "metadata": {},
   "source": [
    "## 12.01 Discrete Fourier Transform"
   ]
  },
  {
   "cell_type": "markdown",
   "metadata": {},
   "source": [
    "Represent a continous function as linear combination of sines and cosines.\n",
    "* The sine and cosine components are referred to as **frequencies**.\n",
    "* For some problems, frequency domain is more efficient than time or space domain.\n",
    "\n",
    "**Euler's formula**\n",
    "\n",
    "aka **complex exponential**\n",
    "$$\n",
    "e^{i \\theta} = \\cos \\theta + i \\sin \\theta\n",
    "$$\n",
    "where\n",
    "* $i = \\sqrt{-1}$ is complex\n",
    "\n",
    "**Roots of Unity**\n",
    "\n",
    "aka **twiddle factors**\n",
    "\n",
    "For a given integer $n$ the primitive nth root of unity is given by:\n",
    "$$\n",
    "\\omega_n = \\cos(2\\pi/n) - i \\sin(2\\pi/n) = e^{-2\\pi i/n}\n",
    "$$\n",
    "\n",
    "##### Example: $w_4^k$ \n",
    "$k = [0, 1, 2, 3]$ represents $\\pi/2$ steps counterclockwise around the real-complex plane.\n",
    "* $w_4^0 = 1$\n",
    "* $w_4^1 = -i$\n",
    "* $w_4^2 = -1$\n",
    "* $w_4^3 = i$\n",
    "\n",
    "#### Discrete Fourier Transform (DFT)\n",
    "DFT $y$ of the sequence $x = [x_0, \\cdots, x_{n-1}]^T$ is given by:\n",
    "$$\n",
    "y_m = \\sum_{k=0}^{n-1} {x_k \\omega_n^{mk}}, \\qquad m = 0, \\cdots, n-1\n",
    "$$\n",
    "where\n",
    "* $\\omega_n^{mk}$ is the kth element of the nth-root of unity\n",
    "\n",
    "Expressed in matrix notation:\n",
    "$$\n",
    "y = F_n x\n",
    "$$\n",
    "where\n",
    "* $F_n$ is the Fourier matrix with entries $F_n = \\omega_n^{mk}$.\n",
    "\n",
    "#### Inverse DFT\n",
    "Inverse DFT $x$ of the sequence $y = [y_0, \\cdots, y_{n-1}]^T$ is given by:\n",
    "$$\n",
    "x_k = \\frac{1}{n} \\sum_{m=0}^{n-1} {y_m \\omega_n^{-mk}}, \\qquad k = 0, \\cdots, n-1\n",
    "$$\n",
    "\n",
    "Expressed in matrix notation:\n",
    "$$\n",
    "F_n^{-1} = (1/n) F_n^H\n",
    "$$\n",
    "where\n",
    "* $F_n^H$ is the conjugate transpose of $F_n$\n",
    "  * Note: $F_n$ is almost but **not** Hermitian\n",
    "\n",
    "\n",
    "#### Significance\n",
    "DFT gives a trigonometric interpolant using only matrix-vector multiplication with $O(n^2)$ work.\n",
    "\n",
    "DFT of purely real sequence is in general complex.\n",
    "\n",
    "$y_0 = \\sum_{k=0}^{n-1} x_k$ is called zero frequency or **DC** component\n",
    "\n",
    "$y_{n/2}$ is highest frequency representable aka **Nyquist frequency**"
   ]
  },
  {
   "cell_type": "markdown",
   "metadata": {},
   "source": [
    "Demonstrate computing the roots of unity for $n = 2, 4, 8$."
   ]
  },
  {
   "cell_type": "code",
   "execution_count": 1,
   "metadata": {},
   "outputs": [
    {
     "name": "stdout",
     "output_type": "stream",
     "text": [
      "omega2:\n",
      " [ 1.+0.0000000e+00j -1.-1.2246468e-16j]\n",
      "omega4:\n",
      " [ 1.0000000e+00+0.0000000e+00j  6.1232340e-17-1.0000000e+00j\n",
      " -1.0000000e+00-1.2246468e-16j -1.8369702e-16+1.0000000e+00j]\n"
     ]
    }
   ],
   "source": [
    "import numpy as np\n",
    "\n",
    "def roots_unity(n):\n",
    "    \"\"\"\n",
    "    Return the nth roots of unity $e^{(-2k \\pi i)/n}$.\n",
    "    \"\"\"\n",
    "    k = np.arange(0, n, dtype='d')\n",
    "    return np.exp((-2.*k*np.pi*1j)/n)\n",
    "\n",
    "\n",
    "omega2 = roots_unity(2)\n",
    "print(\"omega2:\\n\", omega2)\n",
    "np.testing.assert_almost_equal(omega2, np.array([1, -1]))\n",
    "\n",
    "omega4 = roots_unity(4)\n",
    "print(\"omega4:\\n\", omega4)\n",
    "np.testing.assert_almost_equal(omega4, np.array([1, -1j, -1, 1j]))\n",
    "\n",
    "omega8 = roots_unity(8)\n",
    "# Compare to $\\omega_n = \\cos(2\\pi/n) - i \\sin(2\\pi/n)$.\n",
    "np.testing.assert_almost_equal(omega8, np.array(\n",
    "    [1, \n",
    "     np.cos(1.*np.pi/4.) - 1j*np.sin(1.*np.pi/4.),  # 45d\n",
    "     -1j,\n",
    "     np.cos(3.*np.pi/4.) - 1j*np.sin(3.*np.pi/4.),  # 135d\n",
    "     -1,\n",
    "     np.cos(5.*np.pi/4.) - 1j*np.sin(5.*np.pi/4.),  # 225d\n",
    "     1j,\n",
    "     np.cos(7.*np.pi/4.) - 1j*np.sin(7.*np.pi/4.)]))  # 315d"
   ]
  },
  {
   "cell_type": "markdown",
   "metadata": {},
   "source": [
    "Demonstrate computing the Fourier matrix for nth roots of unity."
   ]
  },
  {
   "cell_type": "code",
   "execution_count": 2,
   "metadata": {},
   "outputs": [],
   "source": [
    "import numpy as np\n",
    "\n",
    "def fourier_matrix(n):\n",
    "    \"\"\"\n",
    "    Return the Fourier matrix for nth roots of unity $F_n$.\n",
    "    \"\"\"\n",
    "    # Compute the nth roots of unity.\n",
    "    omega = np.exp((-2.*np.pi*1j)/n)\n",
    "    # Entries of Fourier matrix given by a_{ij} = \\omega^{i*j}.\n",
    "    i, j = np.meshgrid(np.arange(n), np.arange(n), indexing='ij')\n",
    "    return np.power(omega, i*j)\n",
    "\n",
    "\n",
    "F4 = fourier_matrix(4)\n",
    "np.testing.assert_almost_equal(F4, np.array([[1, 1, 1, 1],\n",
    "                                             [1, -1j, -1, 1j],\n",
    "                                             [1, -1, 1, -1],\n",
    "                                             [1, 1j, -1, -1j]]))"
   ]
  },
  {
   "cell_type": "markdown",
   "metadata": {},
   "source": [
    "Compute the DFT for the sequence $x = [4,0,3,6,2,9,6,5]$."
   ]
  },
  {
   "cell_type": "code",
   "execution_count": 3,
   "metadata": {},
   "outputs": [
    {
     "name": "stdout",
     "output_type": "stream",
     "text": [
      "y:\n",
      " [35.        +0.00000000e+00j -5.07106781+8.65685425e+00j\n",
      " -3.        +2.00000000e+00j  9.07106781+2.65685425e+00j\n",
      " -5.        -2.13162821e-14j  9.07106781-2.65685425e+00j\n",
      " -3.        -2.00000000e+00j -5.07106781-8.65685425e+00j]\n"
     ]
    }
   ],
   "source": [
    "import numpy as np\n",
    "\n",
    "# Compute DFT as y = F_n x.\n",
    "F8 = fourier_matrix(8)\n",
    "x = np.array([4,0,3,6,2,9,6,5], dtype=np.float64)\n",
    "y = np.matmul(F8, x)\n",
    "\n",
    "print(\"y:\\n\", y)\n",
    "np.testing.assert_almost_equal(y, np.array(\n",
    "    [35, \n",
    "     -5.07+8.66j, \n",
    "     -3+2j, \n",
    "     9.07+2.66j, \n",
    "     -5, \n",
    "     9.07-2.66j, \n",
    "     -3-2j, \n",
    "     -5.07-8.66j]), decimal=2)\n",
    "\n",
    "# Confirm that DC component equals the sum of the sequence.\n",
    "np.testing.assert_equal(y[0], np.sum(x))"
   ]
  },
  {
   "cell_type": "markdown",
   "metadata": {},
   "source": [
    "## 12.02 Fast Fourier Transform"
   ]
  },
  {
   "cell_type": "markdown",
   "metadata": {},
   "source": []
  },
  {
   "cell_type": "markdown",
   "metadata": {},
   "source": [
    "## 12.03 Applications of DFT"
   ]
  },
  {
   "cell_type": "markdown",
   "metadata": {},
   "source": []
  },
  {
   "cell_type": "markdown",
   "metadata": {},
   "source": [
    "## 12.04 Wavelets"
   ]
  },
  {
   "cell_type": "markdown",
   "metadata": {},
   "source": []
  }
 ],
 "metadata": {
  "kernelspec": {
   "display_name": "Python 3",
   "language": "python",
   "name": "python3"
  },
  "language_info": {
   "codemirror_mode": {
    "name": "ipython",
    "version": 3
   },
   "file_extension": ".py",
   "mimetype": "text/x-python",
   "name": "python",
   "nbconvert_exporter": "python",
   "pygments_lexer": "ipython3",
   "version": "3.6.7"
  }
 },
 "nbformat": 4,
 "nbformat_minor": 2
}
