{
 "cells": [
  {
   "cell_type": "markdown",
   "metadata": {},
   "source": [
    "# Fast Fourier Transform"
   ]
  },
  {
   "cell_type": "markdown",
   "metadata": {},
   "source": [
    "## 12.01 Discrete Fourier Transform"
   ]
  },
  {
   "cell_type": "markdown",
   "metadata": {},
   "source": [
    "Represent a continous function as linear combination of sines and cosines.\n",
    "* The sine and cosine components are referred to as **frequencies**.\n",
    "* For some problems, frequency domain is more efficient than time or space domain.\n",
    "\n",
    "**Euler's formula**\n",
    "$$\n",
    "e^{i \\theta} = \\cos \\theta + i \\sin \\theta\n",
    "$$\n",
    "where\n",
    "* $i = \\sqrt{-1}$ is complex\n",
    "\n",
    "**Roots of Unity**\n",
    "\n",
    "aka **twiddle factors**: For a given integer $n$ the primitive nth root of unity is given by:\n",
    "$$\n",
    "\\omega_n = \\cos(2\\pi/n) - i \\sin(2\\pi/n) = e^{-2\\pi i/n}\n",
    "$$\n",
    "\n",
    "#### Discrete Fourier Transform\n",
    "DFT $y$ of the sequence $x = [x_0, \\cdots, x_{n-1}]^T$ is given by:\n",
    "$$\n",
    "y_m = \\sum_{k=0}^{n-1} {x_k \\omega_n^{mk}}, \\qquad m = 0, \\cdots, n-1\n",
    "$$\n",
    "\n",
    "Expressed in matrix notation:\n",
    "$$\n",
    "y = F_n x\n",
    "$$\n",
    "where\n",
    "* $F_n$ is the Fourier matrix with entries $F_n = \\omega_n^{mk}$.\n",
    "\n",
    "#### Inverse DFT\n",
    "Inverse DFT $x$ of the sequence $y = [y_0, \\cdots, y_{n-1}]^T$ is given by:\n",
    "$$\n",
    "x_k = \\frac{1}{n} \\sum_{m=0}^{n-1} {y_m \\omega_n^{-mk}}, \\qquad k = 0, \\cdots, n-1\n",
    "$$\n",
    "\n",
    "Expressed in matrix notation:\n",
    "$$\n",
    "F_n^{-1} = (1/n) F_n^H\n",
    "$$"
   ]
  },
  {
   "cell_type": "markdown",
   "metadata": {},
   "source": [
    "## 12.02 Fast Fourier Transform"
   ]
  },
  {
   "cell_type": "markdown",
   "metadata": {},
   "source": []
  },
  {
   "cell_type": "markdown",
   "metadata": {},
   "source": [
    "## 12.03 Applications of DFT"
   ]
  },
  {
   "cell_type": "markdown",
   "metadata": {},
   "source": []
  },
  {
   "cell_type": "markdown",
   "metadata": {},
   "source": [
    "## 12.04 Wavelets"
   ]
  },
  {
   "cell_type": "markdown",
   "metadata": {},
   "source": []
  }
 ],
 "metadata": {
  "kernelspec": {
   "display_name": "Python 3",
   "language": "python",
   "name": "python3"
  },
  "language_info": {
   "codemirror_mode": {
    "name": "ipython",
    "version": 3
   },
   "file_extension": ".py",
   "mimetype": "text/x-python",
   "name": "python",
   "nbconvert_exporter": "python",
   "pygments_lexer": "ipython3",
   "version": "3.6.7"
  }
 },
 "nbformat": 4,
 "nbformat_minor": 2
}
